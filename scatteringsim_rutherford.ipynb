{
 "cells": [
  {
   "cell_type": "code",
   "execution_count": 3,
   "metadata": {},
   "outputs": [],
   "source": [
    "# importing the usual suspects\n",
    "import matplotlib.pyplot as plt\n",
    "import pandas as pd\n",
    "import numpy as np\n",
    "from pathlib import Path\n",
    "from multiprocessing import Pool, cpu_count\n",
    "from math import floor\n",
    "\n",
    "# random number generation\n",
    "import random\n",
    "import fractions\n",
    "# i just picked an arbitrary seed here\n",
    "# if it matters it's easy to change\n",
    "random.seed(\"snoplus\")\n",
    "\n",
    "plt.rcParams['figure.figsize'] = (12, 8)"
   ]
  },
  {
   "cell_type": "code",
   "execution_count": 4,
   "metadata": {},
   "outputs": [
    {
     "name": "stdout",
     "output_type": "stream",
     "text": [
      "            KE  electron    nuclear  total\n",
      "0       0.0010      87.5  134.00000  222.0\n",
      "1       0.0015     109.0  126.00000  234.0\n",
      "2       0.0020     127.0  118.00000  244.0\n",
      "3       0.0025     143.0  111.00000  254.0\n",
      "4       0.0030     157.0  105.00000  262.0\n",
      "..         ...       ...        ...    ...\n",
      "116   800.0000      15.8    0.00453   15.8\n",
      "117   850.0000      15.2    0.00427   15.2\n",
      "118   900.0000      14.7    0.00404   14.7\n",
      "119   950.0000      14.2    0.00382   14.2\n",
      "120  1000.0000      13.8    0.00364   13.8\n",
      "\n",
      "[121 rows x 4 columns]\n"
     ]
    }
   ],
   "source": [
    "# copying this from the main version\n",
    "# now we read in the stopping power data from ASTAR\n",
    "# using dry air in this case since we are re-creating the rutherford experiment\n",
    "stoppingpowers = pd.read_csv(Path(\"stoppingpowers/dryair.csv\"))\n",
    "# rename cols to make them easier to reference\n",
    "stoppingpowers.columns = [\"KE\", \"electron\", \"nuclear\", \"total\"]\n",
    "# reindex the dataframe by kinetic energy to make lookups easier\n",
    "#stoppingpowers.set_index(\"KE\", inplace=True)\n",
    "print(stoppingpowers)"
   ]
  },
  {
   "cell_type": "code",
   "execution_count": 7,
   "metadata": {},
   "outputs": [
    {
     "name": "stdout",
     "output_type": "stream",
     "text": [
      "0.0005811365099999999\n"
     ]
    }
   ],
   "source": [
    "def scattering_probability(ke, dx):\n",
    "    sample_dim = 1 # cm\n",
    "\n",
    "    N_A = 6.02214E23 # mol^-1\n",
    "    mol_wt = 200\n",
    "    rho = 19.3 # g/cm^3, see above\n",
    "    #n = ((N_A/mol_wt) * rho)*(sample_dim**2)*dx\n",
    "    n = N_A/(mol_wt) * dx * rho\n",
    "    # effective area based on cross-section\n",
    "    Z = 79 \n",
    "    D = ((197.3/137) * (2*Z)/ke)*1E-15\n",
    "    # the 140.646 comes from integrating the differential cx expression in\n",
    "    # 02_rutherford\n",
    "    # here we only account for scattering > 10 degrees (around 0.1745 rad)\n",
    "    sigma = 130.646*4*np.pi*np.power(D, 2)\n",
    "    #print(sigma)\n",
    "    #print(sigma)\n",
    "    #sigma = 100 * 1E-24\n",
    "    #sigma = 100 * 1E-15\n",
    "    # total particle effective area\n",
    "    eff_a = sigma*n\n",
    "\n",
    "    # the total area\n",
    "    total_a = sample_dim**2\n",
    "    return eff_a/total_a\n",
    "\n",
    "# note to self - alpha energy is 4.7 mev\n",
    "#s_xrange = np.linspace(5, 10, 10)\n",
    "#s_probs = scattering_probability(s_xrange, 1E-4)\n",
    "#_probsfrac = [str(fractions.Fraction(i)) for i in s_probs]\n",
    "\n",
    "#print(s_probs)\n",
    "print(scattering_probability(6, 0.0001))\n"
   ]
  },
  {
   "cell_type": "code",
   "execution_count": 77,
   "metadata": {},
   "outputs": [],
   "source": [
    "# now to do the linear interpolation for the ASTAR dataset\n",
    "def stp_interp(e, stp=stoppingpowers):\n",
    "    # NOTE this assumes that the stopping powers are sorted\n",
    "    # we get them this way from ASTAR so it's not an issue, but we can fix that if need be\n",
    "    for k in stoppingpowers.index:\n",
    "        if e >= stoppingpowers[\"KE\"].max():\n",
    "            return (stoppingpowers[\"total\"].iloc(-1))/(stoppingpowers[\"KE\"].iloc(-1))*e\n",
    "        elif e <= stoppingpowers[\"KE\"][k+1] and e >= stoppingpowers[\"KE\"][k]:\n",
    "            ke_low = stoppingpowers[\"KE\"][k]\n",
    "            sp_low = stoppingpowers[\"total\"][k]\n",
    "            ke_high = stoppingpowers[\"KE\"][k+1]\n",
    "            sp_high = stoppingpowers[\"total\"][k+1]\n",
    "            break\n",
    "\n",
    "    return ((sp_high - sp_low)/(ke_high - ke_low)) * e + sp_low"
   ]
  },
  {
   "cell_type": "code",
   "execution_count": 34,
   "metadata": {},
   "outputs": [
    {
     "name": "stdout",
     "output_type": "stream",
     "text": [
      "0\n"
     ]
    }
   ],
   "source": [
    "def scatter_sim(e_0, epsilon=0.1, density=0.8562, stepsize=0.00004):\n",
    "    scatters = 0\n",
    "    # now to run the simulation\n",
    "    e_i = e_0\n",
    "    while e_i > epsilon:\n",
    "        if scattering_probability(e_i, stepsize) > random.random():\n",
    "            # here, we need to figure out the change inscattering_angle momentum and energy due to the scattering\n",
    "            # both the proton and alpha particle will cause an event, so we need\n",
    "            # to tally both\n",
    "            #transfer_e = energy_transfer(e_i)\n",
    "            #print(f\"Scattering! Angle{transfer_e[2]}\")\n",
    "            scatters += 1\n",
    "        else:\n",
    "            # we don't need to multiply by the density here since the LAB data\n",
    "            # has that baked in for us\n",
    "            e_i = e_i - stp_interp(e_i)*stepsize\n",
    "    return scatters\n",
    "\n",
    "n = scatter_sim(4.7)\n",
    "\n",
    "print(n)"
   ]
  },
  {
   "cell_type": "code",
   "execution_count": 35,
   "metadata": {},
   "outputs": [],
   "source": [
    "def run_sim_instance(e_0, stepsize=0.0001, nbins=80, epsilon=0.1, density=0.8562):\n",
    "    n = scatter_sim(e_0, epsilon=epsilon, density=density, stepsize=stepsize)\n",
    "    return n \n",
    "\n",
    "def sim_wrapper(arg):\n",
    "    args, kwargs = arg\n",
    "    return run_sim_instance(*args, **kwargs)\n",
    "\n",
    "def start_sim(e_0, n_particles, stepsize=0.001, nbins=40, epsilon=0.1, density=0.8562):\n",
    "    arg = (e_0, )\n",
    "    kwargs = {'stepsize': stepsize, 'nbins': nbins, 'epsilon': epsilon, 'density': density}\n",
    "    with Pool(floor((2/3)*cpu_count())) as p:\n",
    "        p_out = p.map(sim_wrapper, [(arg, kwargs) for i in range(n_particles)])\n",
    "\n",
    "    print(p_out)\n",
    "    sim_data = sum(p_out) \n",
    "    return sim_data \n",
    "\n",
    "sim_data = start_sim(4.4, 40000, nbins=100, stepsize=4E-5)\n",
    "print(sim_data)"
   ]
  }
 ],
 "metadata": {
  "kernelspec": {
   "display_name": "Python 3 (ipykernel)",
   "language": "python",
   "name": "python3"
  },
  "language_info": {
   "codemirror_mode": {
    "name": "ipython",
    "version": 3
   },
   "file_extension": ".py",
   "mimetype": "text/x-python",
   "name": "python",
   "nbconvert_exporter": "python",
   "pygments_lexer": "ipython3",
   "version": "3.12.3"
  }
 },
 "nbformat": 4,
 "nbformat_minor": 2
}
