{
 "cells": [
  {
   "cell_type": "markdown",
   "metadata": {},
   "source": [
    "## SNO+ Scattering Pseudo-MC\n",
    "A simple test using known results to determine the viability of nuclear recoil\n",
    "explaining the odd behaviour at 2.2 MeV."
   ]
  },
  {
   "cell_type": "code",
   "execution_count": 39,
   "metadata": {},
   "outputs": [],
   "source": [
    "# importing the usual suspects\n",
    "import matplotlib.pyplot as plt\n",
    "import pandas as pd\n",
    "import numpy as np\n",
    "from pathlib import Path\n",
    "\n",
    "# random number generation\n",
    "import random\n",
    "# i just picked an arbitrary seed here\n",
    "# if it matters it's easy to change\n",
    "random.seed(\"snoplus\")\n",
    "\n",
    "plt.rcParams['figure.figsize'] = (12, 8)"
   ]
  },
  {
   "cell_type": "code",
   "execution_count": 40,
   "metadata": {},
   "outputs": [
    {
     "name": "stdout",
     "output_type": "stream",
     "text": [
      "            KE  electron    nuclear  total\n",
      "0       0.0010     194.0  289.00000  483.0\n",
      "1       0.0015     233.0  260.00000  493.0\n",
      "2       0.0020     266.0  238.00000  503.0\n",
      "3       0.0025     294.0  219.00000  514.0\n",
      "4       0.0030     320.0  204.00000  524.0\n",
      "..         ...       ...        ...    ...\n",
      "116   800.0000      19.1    0.00655   19.1\n",
      "117   850.0000      18.4    0.00617   18.4\n",
      "118   900.0000      17.7    0.00582   17.7\n",
      "119   950.0000      17.1    0.00552   17.2\n",
      "120  1000.0000      16.6    0.00524   16.6\n",
      "\n",
      "[121 rows x 4 columns]\n"
     ]
    }
   ],
   "source": [
    "# now we read in the stopping power data from ASTAR\n",
    "stoppingpowers = pd.read_csv(Path(\"stoppingpowers/paraffin.csv\"))\n",
    "# rename cols to make them easier to reference\n",
    "stoppingpowers.columns = [\"KE\", \"electron\", \"nuclear\", \"total\"]\n",
    "# reindex the dataframe by kinetic energy to make lookups easier\n",
    "#stoppingpowers.set_index(\"KE\", inplace=True)\n",
    "print(stoppingpowers)"
   ]
  },
  {
   "cell_type": "markdown",
   "metadata": {},
   "source": [
    "So now we have the stopping power data available to us and formatted nicely.\n",
    "\n",
    "**NB**: the initial revision here is without scattering to get a grip on things\n",
    "\n",
    "The setup is that we have some sort of particle with a given energy E_0 (i'm not sure exactly what yet -\n",
    "need to figure that out)\n",
    "The general process goes like this:\n",
    "- Look up stopping power in the table for the energy of our event\n",
    "- Find dE (**NOTE**: need to figure out what dx will be here first - see\n",
    "  wikipedia page for stopping power)\n",
    "- Add dE to the bin for an event of that energy\n",
    "- Repeat this, as if we had an energy of E_j = E_0 - dE\n",
    "- Terminate once E_j is less than some given epsilon (generally close to zero -\n",
    "  but we will never reach zero exactly)\n",
    "\n",
    "Implementation notes: Can use recursion, but that is setting myself up for a\n",
    "nightmare so let's keep things iterative\n",
    "\n",
    "Also - how to deal with events which aren't exactly a given KE in the table.\n",
    "Data is nonlinear but describes the derivative of energy w.r.t. position - the\n",
    "function \"looks like\" it is C-infinity (ie. continuous derivatives) and differentiability\n",
    "implies linearity in a neighbourhood so a linear interpolation should be a very\n",
    "accurate estimation "
   ]
  },
  {
   "cell_type": "code",
   "execution_count": 41,
   "metadata": {},
   "outputs": [],
   "source": [
    "# Let's set up the bins for events here\n",
    "# I don't know of any prepackaged solution for this so let's write a structure\n",
    "# to hold binned data for us\n",
    "\n",
    "# this kind of seems unnecessary to me, but also I would be implementing the\n",
    "# exact same logic in a messier form otherwise so I digress\n",
    "class CountBin:\n",
    "    def __init__(self, low, high):\n",
    "        self._low = low\n",
    "        self._high = high\n",
    "        self._count = 0\n",
    "    \n",
    "    # setting properties for the bin count\n",
    "    @property\n",
    "    def count(self):\n",
    "        return self._count\n",
    "\n",
    "    @count.setter\n",
    "    def count(self, new_count):\n",
    "        self._count = new_count\n",
    "\n",
    "    # increment and decrement convenience functions\n",
    "    def increment(self):\n",
    "        self.count = self._count + 1       \n",
    "\n",
    "    def decrement(self):\n",
    "        self.count = self._count - 1\n",
    "\n",
    "    # properties for bin bounds\n",
    "    @property\n",
    "    def low_range(self):\n",
    "        return self._low\n",
    "\n",
    "    @property\n",
    "    def high_range(self):\n",
    "        return self._high\n",
    "\n",
    "    def __str__(self):\n",
    "        return f\"CountBin(low={self.low_range}, high={self.high_range}, count={self.count})\"\n",
    "    \n",
    "\n",
    "class BinnedCountData:\n",
    "    def __init__(self, num_bins, d=None, startpoint=0, endpoint=1):\n",
    "        if d != None:\n",
    "            low = min(d)\n",
    "            high = max(d)\n",
    "        else:\n",
    "            low = startpoint\n",
    "            high = endpoint\n",
    "\n",
    "        self.binEdges = np.linspace(low, high, num_bins+1)\n",
    "\n",
    "        self.bins = []\n",
    "\n",
    "        i = 0\n",
    "        while i < len(self.binEdges)-1:\n",
    "            self.bins.append(CountBin(self.binEdges[i], self.binEdges[i+1]))\n",
    "            i += 1\n",
    "\n",
    "\n",
    "    def get_bin_index(self, v):\n",
    "        i = 0\n",
    "        while i < len(self.binEdges) - 1:\n",
    "            if v <= self.binEdges[i+1]:\n",
    "                return i\n",
    "            i += 1\n",
    "\n",
    "\n",
    "    @property\n",
    "    def bin_min(self):\n",
    "        return min(self.binEdges)\n",
    "    \n",
    "    @property\n",
    "    def bin_max(self):\n",
    "        return max(self.binEdges)\n",
    "\n",
    "    @property\n",
    "    def bin_edges(self):\n",
    "        return self.binEdges\n",
    "\n",
    "    # add a value to the correct count bin\n",
    "    def add_count_by_value(self, v):\n",
    "        # TODO is there a faster algorithm for this?\n",
    "        self.bins[self.get_bin_index(v)].increment()\n",
    "\n",
    "    # count an entire list\n",
    "    def add_count_by_list(self, l):\n",
    "        for i in l:\n",
    "            self.count_value(i)\n",
    "\n",
    "    @property\n",
    "    def counts(self):\n",
    "        return [i.count for i in self.bins]\n",
    "\n",
    "    def get_count_by_value(self, v):\n",
    "        # get count of a bin some value is in\n",
    "        return self.bins[self.get_bin_index(v)].count"
   ]
  },
  {
   "cell_type": "markdown",
   "metadata": {},
   "source": [
    "Now we do the linear interpolation of the ASTAR data\n",
    "Although the data is nonlinear, this is still decently accurate since it is a differentiable function "
   ]
  },
  {
   "cell_type": "code",
   "execution_count": 42,
   "metadata": {},
   "outputs": [],
   "source": [
    "# now to do the linear interpolation for the ASTAR dataset\n",
    "def stp_interp(e, stp=stoppingpowers):\n",
    "    # NOTE this assumes that the stopping powers are sorted\n",
    "    # we get them this way from ASTAR so it's not an issue, but we can fix that if need be\n",
    "    for k in stoppingpowers.index:\n",
    "        if e >= stoppingpowers[\"KE\"].max():\n",
    "            return (stoppingpowers[\"total\"].iloc(-1))/(stoppingpowers[\"KE\"].iloc(-1))*e\n",
    "        elif e <= stoppingpowers[\"KE\"][k+1] and e >= stoppingpowers[\"KE\"][k]:\n",
    "            ke_low = stoppingpowers[\"KE\"][k]\n",
    "            sp_low = stoppingpowers[\"total\"][k]\n",
    "            ke_high = stoppingpowers[\"KE\"][k+1]\n",
    "            sp_high = stoppingpowers[\"total\"][k+1]\n",
    "            break\n",
    "\n",
    "    return ((sp_high - sp_low)/(ke_high - ke_low)) * e + sp_low\n"
   ]
  },
  {
   "cell_type": "code",
   "execution_count": 49,
   "metadata": {},
   "outputs": [
    {
     "name": "stdout",
     "output_type": "stream",
     "text": [
      "2.9209273805705334e+40\n"
     ]
    }
   ],
   "source": [
    "def scattering_probability(e):\n",
    "    # this Z is for paraffin\n",
    "    # TODO work out for LAB\n",
    "    Z = 62\n",
    "    # the closest approach distance\n",
    "    D = 197.3/137 * (2*Z)/e\n",
    "\n",
    "    #working out the approximate nuclear area \n",
    "    R_0 = 1.2E-15 \n",
    "    R = np.power(Z, 1/3)*R_0\n",
    "    nuclear_area = np.pi*np.power(R, 2)\n",
    "\n",
    "    sigma = np.pi * np.power(D, 2) * 1E8\n",
    "    \n",
    "    return sigma/nuclear_area\n",
    "\n",
    "    # returning a constant probability for now until we figure things out\n",
    "\n",
    "print(scattering_probability(2.2))"
   ]
  },
  {
   "cell_type": "markdown",
   "metadata": {},
   "source": [
    "Now, let's do the simulation."
   ]
  },
  {
   "cell_type": "code",
   "execution_count": 44,
   "metadata": {},
   "outputs": [],
   "source": [
    "stepsize = 0.00001 # this is our dx\n",
    "e_0 = 14 # initial energy in MeV, it's arbitrary right now\n",
    "epsilon = 0.1\n",
    "density = 0.92 # of paraffin for now, is in g/cm3\n",
    "\n",
    "sim_data = BinnedCountData(40, startpoint=0, endpoint=e_0)\n",
    "\n",
    "# now to run the simulation\n",
    "e_i = e_0\n",
    "while e_i > epsilon:\n",
    "    # TODO figure out sampling distribution for scattering\n",
    "    if scattering_probability(e_i) > random.random():\n",
    "        continue\n",
    "    else:\n",
    "        sim_data.add_count_by_value(e_i)\n",
    "        e_i = e_i - stp_interp(e_i)*stepsize*density\n"
   ]
  },
  {
   "cell_type": "code",
   "execution_count": 45,
   "metadata": {},
   "outputs": [
    {
     "data": {
      "image/png": "[encoded data removed]",
      "text/plain": [
       "<Figure size 1200x800 with 1 Axes>"
      ]
     },
     "metadata": {},
     "output_type": "display_data"
    }
   ],
   "source": [
    "# now to plot the simulation results\n",
    "#plt.stairs(sim_data.counts, sim_data.bin_edges)\n",
    "plt.hist(sim_data.bin_edges[:-1], sim_data.bin_edges, weights=sim_data.counts, rwidth=0.8)\n",
    "plt.xlabel(\"Energy\")\n",
    "plt.ylabel(\"Count\")\n",
    "plt.gca().invert_xaxis()\n",
    "plt.title(\"Event Energy Counts\")\n",
    "plt.show()"
   ]
  },
  {
   "cell_type": "code",
   "execution_count": null,
   "metadata": {},
   "outputs": [],
   "source": []
  }
 ],
 "metadata": {
  "kernelspec": {
   "display_name": "Python 3",
   "language": "python",
   "name": "python3"
  },
  "language_info": {
   "codemirror_mode": {
    "name": "ipython",
    "version": 3
   },
   "file_extension": ".py",
   "mimetype": "text/x-python",
   "name": "python",
   "nbconvert_exporter": "python",
   "pygments_lexer": "ipython3",
   "version": "3.12.2"
  }
 },
 "nbformat": 4,
 "nbformat_minor": 2
}
