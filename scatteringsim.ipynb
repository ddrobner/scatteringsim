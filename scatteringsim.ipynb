{
 "cells": [
  {
   "cell_type": "markdown",
   "metadata": {},
   "source": [
    "## SNO+ Scattering Pseudo-MC\n",
    "A simple test using known results to determine the viability of nuclear recoil\n",
    "explaining the odd behaviour at 2.2 MeV."
   ]
  },
  {
   "cell_type": "code",
   "execution_count": 2,
   "metadata": {},
   "outputs": [],
   "source": [
    "# importing the usual suspects\n",
    "import matplotlib.pyplot as plt\n",
    "import pandas as pd\n",
    "import numpy as np\n",
    "from pathlib import Path\n",
    "from multiprocessing import Pool, cpu_count\n",
    "from math import floor\n",
    "\n",
    "# for faster bin insertion\n",
    "import bisect\n",
    "\n",
    "import pickle\n",
    "\n",
    "# random number generation\n",
    "import random\n",
    "# i just picked an arbitrary seed here\n",
    "# if it matters it's easy to change\n",
    "random.seed(\"snoplus\")\n",
    "\n",
    "plt.rcParams['figure.figsize'] = (12, 8)"
   ]
  },
  {
   "cell_type": "code",
   "execution_count": 3,
   "metadata": {},
   "outputs": [
    {
     "name": "stdout",
     "output_type": "stream",
     "text": [
      "         KE  electron   nuclear   total\n",
      "0    0.0180     0.691  0.068500  653.60\n",
      "1    0.0200     0.730  0.063800  682.84\n",
      "2    0.0225     0.774  0.058900  716.38\n",
      "3    0.0250     0.816  0.054800  749.06\n",
      "4    0.0275     0.856  0.051300  780.02\n",
      "..      ...       ...       ...     ...\n",
      "75  15.0000     0.430  0.000275  369.80\n",
      "76  16.0000     0.408  0.000260  350.88\n",
      "77  17.0000     0.389  0.000246  334.54\n",
      "78  18.0000     0.371  0.000234  319.06\n",
      "79  20.0000     0.341  0.000213  293.26\n",
      "\n",
      "[80 rows x 4 columns]\n"
     ]
    }
   ],
   "source": [
    "# now we read in the stopping power data from ASTAR\n",
    "stoppingpowers = pd.read_csv(Path(\"stoppingpowers/lab.csv\"))\n",
    "# rename cols to make them easier to reference\n",
    "stoppingpowers.columns = [\"KE\", \"electron\", \"nuclear\", \"total\"]\n",
    "# reindex the dataframe by kinetic energy to make lookups easier\n",
    "#stoppingpowers.set_index(\"KE\", inplace=True)\n",
    "print(stoppingpowers)"
   ]
  },
  {
   "cell_type": "markdown",
   "metadata": {},
   "source": [
    "So now we have the stopping power data available to us and formatted nicely.\n",
    "\n",
    "**NB**: the initial revision here is without scattering to get a grip on things\n",
    "\n",
    "The setup is that we have some sort of particle with a given energy E_0 (i'm not sure exactly what yet -\n",
    "need to figure that out)\n",
    "The general process goes like this:\n",
    "- Look up stopping power in the table for the energy of our event\n",
    "- Find dE (**NOTE**: need to figure out what dx will be here first - see\n",
    "  wikipedia page for stopping power)\n",
    "- Add dE to the bin for an event of that energy\n",
    "- Repeat this, as if we had an energy of E_j = E_0 - dE\n",
    "- Terminate once E_j is less than some given epsilon (generally close to zero -\n",
    "  but we will never reach zero exactly)\n",
    "\n",
    "Implementation notes: Can use recursion, but that is setting myself up for a\n",
    "nightmare so let's keep things iterative\n",
    "\n",
    "Also - how to deal with events which aren't exactly a given KE in the table.\n",
    "Data is nonlinear but describes the derivative of energy w.r.t. position - the\n",
    "function \"looks like\" it is C-infinity (ie. continuous derivatives) and differentiability\n",
    "implies linearity in a neighbourhood so a linear interpolation should be a very\n",
    "accurate estimation "
   ]
  },
  {
   "cell_type": "code",
   "execution_count": 4,
   "metadata": {},
   "outputs": [],
   "source": [
    "# Let's set up the bins for events here\n",
    "# I don't know of any prepackaged solution for this so let's write a structure\n",
    "# to hold binned data for us\n",
    "\n",
    "# this kind of seems unnecessary to me, but also I would be implementing the\n",
    "# exact same logic in a messier form otherwise so I digress\n",
    "class CountBin:\n",
    "    def __init__(self, low, high):\n",
    "        self._low = low\n",
    "        self._high = high\n",
    "        self._count = 0\n",
    "    \n",
    "    # setting properties for the bin count\n",
    "    @property\n",
    "    def count(self):\n",
    "        return self._count\n",
    "\n",
    "    @count.setter\n",
    "    def count(self, new_count):\n",
    "        self._count = new_count\n",
    "\n",
    "    # increment and decrement convenience functions\n",
    "    def increment(self):\n",
    "        self.count = self._count + 1       \n",
    "\n",
    "    def decrement(self):\n",
    "        self.count = self._count - 1\n",
    "\n",
    "    # properties for bin bounds\n",
    "    @property\n",
    "    def low_range(self):\n",
    "        return self._low\n",
    "\n",
    "    @property\n",
    "    def high_range(self):\n",
    "        return self._high\n",
    "\n",
    "    def __str__(self):\n",
    "        return f\"CountBin(low={self.low_range}, high={self.high_range}, count={self.count})\"\n",
    "    \n",
    "\n",
    "class BinnedCountData:\n",
    "    def __init__(self, num_bins, d=None, startpoint=0, endpoint=1):\n",
    "        if d != None:\n",
    "            low = min(d)\n",
    "            high = max(d)\n",
    "        else:\n",
    "            low = startpoint\n",
    "            high = endpoint\n",
    "\n",
    "        self.binEdges = np.linspace(low, high, num_bins+1)\n",
    "\n",
    "        self.bins = []\n",
    "\n",
    "        i = 0\n",
    "        while i < len(self.binEdges)-1:\n",
    "            self.bins.append(CountBin(self.binEdges[i], self.binEdges[i+1]))\n",
    "            i += 1\n",
    "\n",
    "\n",
    "    def get_bin_index(self, v):\n",
    "        #i = 0\n",
    "        #while i < len(self.binEdges) - 1:\n",
    "        #    if v <= self.binEdges[i+1]:\n",
    "        #        return i\n",
    "        #    i += 1\n",
    "        return (bisect.bisect_left(self.bin_edges, v) - 1)\n",
    "\n",
    "    @property\n",
    "    def bin_min(self):\n",
    "        return min(self.binEdges)\n",
    "    \n",
    "    @property\n",
    "    def bin_max(self):\n",
    "        return max(self.binEdges)\n",
    "\n",
    "    @property\n",
    "    def bin_edges(self):\n",
    "        return self.binEdges\n",
    "\n",
    "    @property\n",
    "    def num_bins(self):\n",
    "        return len(self.bins)\n",
    "\n",
    "    # add a value to the correct count bin\n",
    "    def add_count_by_value(self, v):\n",
    "        # TODO is there a faster algorithm for this?\n",
    "        self.bins[self.get_bin_index(v)].increment()\n",
    "\n",
    "    # count an entire list\n",
    "    def add_count_by_list(self, l):\n",
    "        for i in l:\n",
    "            self.add_count_by_value(i)\n",
    "\n",
    "    def set_count_by_index(self, idx, c):\n",
    "        self.bins[idx].count = c\n",
    "\n",
    "    @property\n",
    "    def counts(self):\n",
    "        return [i.count for i in self.bins]\n",
    "\n",
    "    def get_count_by_value(self, v):\n",
    "        # get count of a bin some value is in\n",
    "        return self.bins[self.get_bin_index(v)].count"
   ]
  },
  {
   "cell_type": "code",
   "execution_count": 5,
   "metadata": {},
   "outputs": [],
   "source": [
    "# and a helper function to merge histograms\n",
    "def merge_hists(hists: list[BinnedCountData]):\n",
    "    low = hists[0].bin_min\n",
    "    high = hists[0].bin_max\n",
    "    n_bins = hists[0].num_bins\n",
    "    new_hist = BinnedCountData(n_bins, startpoint=low, endpoint=high)\n",
    "\n",
    "    i = 0\n",
    "    while i < n_bins:\n",
    "        new_hist.set_count_by_index(i, sum([k.counts[i] for k in hists]))\n",
    "        i += 1\n",
    "\n",
    "    return new_hist"
   ]
  },
  {
   "cell_type": "markdown",
   "metadata": {},
   "source": [
    "Now we do the linear interpolation of the ASTAR data\n",
    "Although the data is nonlinear, this is still decently accurate since it is a differentiable function "
   ]
  },
  {
   "cell_type": "code",
   "execution_count": 6,
   "metadata": {},
   "outputs": [],
   "source": [
    "# now to do the linear interpolation for the ASTAR dataset\n",
    "def stp_interp(e, stp=stoppingpowers):\n",
    "    # NOTE this assumes that the stopping powers are sorted\n",
    "    # we get them this way from ASTAR so it's not an issue, but we can fix that if need be\n",
    "    for k in stp.index:\n",
    "        if e <= stp[\"KE\"][k+1] and e >= stp[\"KE\"][k]:\n",
    "            ke_low = stp[\"KE\"][k]\n",
    "            sp_low = stp[\"total\"][k]\n",
    "            ke_high = stp[\"KE\"][k+1]\n",
    "            sp_high = stp[\"total\"][k+1]\n",
    "            return ((sp_high - sp_low)/(ke_high - ke_low)) * e + sp_low\n",
    "        else:\n",
    "            return ((list(stp[\"total\"])[-1])/list(stp[\"KE\"])[-1])*e\n",
    "\n"
   ]
  },
  {
   "cell_type": "markdown",
   "metadata": {},
   "source": [
    "Here we define a function to compute the scattering probability for each event\n",
    "\n",
    "*NB:* See http://hyperphysics.phy-astr.gsu.edu/hbase/Nuclear/crosec2.html#c1"
   ]
  },
  {
   "cell_type": "code",
   "execution_count": 7,
   "metadata": {},
   "outputs": [],
   "source": [
    "def scattering_probability(ke, dx, density=0.8652, mol_wt = 246.43):\n",
    "    sample_dim = 1 # cm\n",
    "\n",
    "    N_A = 6.02214E23 # mol^-1, avogadro's constant\n",
    "    rho = density # g/cm^3, see above\n",
    "    #n = ((N_A/mol_wt) * rho)*(sample_dim**2)*dx\n",
    "    n = N_A/(mol_wt) * dx * rho\n",
    "    Z = 1 \n",
    "\n",
    "    D = ((197.3/137) * (2*Z)/ke)*1E-15\n",
    "    # the 140.646 comes from integrating the differential cx expression in\n",
    "    # 02_rutherford\n",
    "    # here we only account for scattering > 10 degrees (around 0.1745 rad)\n",
    "    sigma = 4E6*4*np.pi*np.power(D, 2)\n",
    "    #print(sigma*10E24)\n",
    "    #sigma = 524.582*4*np.pi*np.power(D, 2)\n",
    "    # total particle effective area\n",
    "    eff_a = sigma*n\n",
    "\n",
    "    # the total area\n",
    "    total_a = sample_dim**2\n",
    "    return eff_a/total_a"
   ]
  },
  {
   "cell_type": "markdown",
   "metadata": {},
   "source": [
    "And now let's write a function to sample from the differential cross-section as a distribution"
   ]
  },
  {
   "cell_type": "code",
   "execution_count": 8,
   "metadata": {},
   "outputs": [],
   "source": [
    "def diff_cx(theta, ke):\n",
    "    Z = 1 \n",
    "    D = ((198.3/137) * (2*Z)/ke)*1E-15\n",
    "    #return np.pi/4 * D**2 * (np.cos(theta/2)/np.power(np.sin(theta/2),3))\n",
    "    return np.pi/8 * D**2 * (1/np.power(np.sin(theta/2), 4))\n",
    "\n",
    "def scaled_diff_cx(theta, ke):\n",
    "    # luckily, our differential crossection is a decreasing function on the interval we care about\n",
    "    # so, we just take the left endpoint as our x-value\n",
    "    theta_min = 0.001\n",
    "    scale = 1/(diff_cx(theta_min, ke))\n",
    "    return diff_cx(theta,ke)*scale\n",
    "\n",
    "def scattering_angle(ke):\n",
    "    theta_min = 0.001\n",
    "    Z = 48\n",
    "    while True:\n",
    "        # first we sample from a uniform distribution of valid x-values\n",
    "        xsample = random.uniform(theta_min, np.pi/2)\n",
    "        # then find the scaled differential crosssection at the x-sample\n",
    "        scx = scaled_diff_cx(xsample, ke)\n",
    "        # and then return the x-sample if a random number is less than that value\n",
    "        if random.random() < scx:\n",
    "            return xsample"
   ]
  },
  {
   "cell_type": "markdown",
   "metadata": {},
   "source": [
    "Now let's sort out the transferred energy. In my notes I have the long\n",
    "derivation for 2-d elastic collisions but that can be found in any classical\n",
    "mechanics textbook.\n",
    "\n",
    "Note that the initial velocity of the alpha particle is given since the initial\n",
    "energy is known, and the scattering angle is sampled from the distribution given\n",
    "by the differential crosssection.\n",
    "\n",
    "Let\n",
    "$$ \\kappa = \\frac{m_{\\alpha}}{m_{p}} $$\n",
    "\n",
    "Then, we have\n",
    "$$\n",
    "    v_{\\alpha}^{\\prime} = v_{\\alpha}\\frac{( \\sqrt{1 - \\kappa^2\\sin^2{\\theta_1}} )}{1 + \\kappa}\n",
    "$$\n",
    "\n",
    "where $\\theta_1$ is the scattering angle of the alpha, $\\theta_2$ the angle of\n",
    "the proton, primed velocities are final and unprimed are initial.\n",
    "\n",
    "Now, using this and the intial equations we can find a relation describing\n",
    "$\\theta_2$. We have\n",
    "\n",
    "$$\n",
    "    \\tan{\\theta_2} = \\frac{v_{\\alpha}^{\\prime}\\sin{\\theta_1}}{v_{\\alpha} - v_{\\alpha}^{\\prime}\\cos{\\theta_1}}\n",
    "$$\n",
    "\n",
    "Finally, using these two we may find the final proton velocity\n",
    "\n",
    "$$\n",
    "v_{p}^{\\prime} = \\kappa v_{\\alpha}\\frac{\\sin{\\theta_1}}{\\sin{\\theta_2}}\n",
    "$$\n",
    "\n",
    "Yielding the final velocities of each particle.\n",
    "After this, it's just a matter of substituting that velocity into the kinetic\n",
    "energy expression using the appropriate mass."
   ]
  },
  {
   "cell_type": "code",
   "execution_count": 9,
   "metadata": {},
   "outputs": [],
   "source": [
    "def energy_transfer(e_i, scatter_angle=None):\n",
    "    # TODO need to handle the case where alpha does not deflect (or has a very\n",
    "    # small deflection angle?)\n",
    "    # returns a tuple with the new alpha-energy and proton-energy in coordinate\n",
    "    # 0 and 1 respectively\n",
    "    # as well as the scattering angle (if we need it later) in pos. 2\n",
    "    m_alpha = 6.646E-27 # kg\n",
    "    m_proton = 1.6726E-27 # kg\n",
    "\n",
    "    if scatter_angle is None:\n",
    "        scatter_angle = scattering_angle(e_i)\n",
    "    # just identifying scatter_angle as theta_1 to match the algebra\n",
    "    theta_1 = scatter_angle\n",
    "\n",
    "    kappa = m_alpha/m_proton\n",
    "\n",
    "    # need to convert mev to joules \n",
    "    mev_to_j = 1.602176e-13\n",
    "    ei_j = e_i * mev_to_j\n",
    "    valpha_i = np.sqrt((2*ei_j)/m_alpha)\n",
    "\n",
    "    # TODO compute both + and - solns, take whichever satisfies conservation of energy\n",
    "    # breaking this up into two parts\n",
    "    try:\n",
    "        gamma = (1/(1+kappa))*np.sqrt((kappa**2)*(valpha_i**2)*(np.cos(theta_1)**2) - (kappa**2 - 1)*(valpha_i**2))\n",
    "    except:\n",
    "        print(theta_1)\n",
    "        return (0, 0, 0)\n",
    "    #valpha_f = (1/(1+kappa))*(valpha_i*kappa*np.cos(theta_1)) + gamma\n",
    "    valpha_f = (1/(1+kappa))*(kappa*valpha_i*np.cos(theta_1)) + gamma\n",
    "\n",
    "    theta_2 = np.arctan((valpha_f*np.sin(theta_1))/(valpha_i - valpha_f*np.cos(theta_1)))\n",
    "    \n",
    "    vproton_f = (kappa*valpha_f*np.sin(theta_1))/(np.sin(theta_2))\n",
    "\n",
    "    # and now convert back to mev\n",
    "    ea_f = 0.5*m_alpha*(valpha_f**2)*(1/mev_to_j)\n",
    "    ep_f = 0.5*m_proton*(vproton_f**2)*(1/mev_to_j)\n",
    "\n",
    "    return (ea_f, ep_f, theta_1)\n",
    "\n",
    "\n"
   ]
  },
  {
   "cell_type": "markdown",
   "metadata": {},
   "source": [
    "Now, let's write the function that does the simulation"
   ]
  },
  {
   "cell_type": "code",
   "execution_count": 10,
   "metadata": {},
   "outputs": [],
   "source": [
    "def scatter_sim(e_0: float, epsilon=0.1, stepsize=0.001, density=0.8562, p_quenching_factor=0.4) -> tuple[list, list]:\n",
    "    # TODO add ability to get scattering angles out\n",
    "    # we can do the binning/etc later\n",
    "    alpha_quenching_factor = 0.1\n",
    "    alpha_path = []\n",
    "    e_i = e_0\n",
    "    # The alpha energy path is completely deterministic, so to speed things up\n",
    "    # let's pre-bake it. Then, for each step we can do the scattering stuff\n",
    "    while e_i > epsilon:\n",
    "        alpha_path.append(e_i*alpha_quenching_factor)\n",
    "        e_i = e_i - stp_interp(e_i)*stepsize\n",
    "\n",
    "    # great, so now we have our pre-baked alpha energy\n",
    "    # now we can iterate over the list and do the proton scattering\n",
    "    for s in range(len(alpha_path)):\n",
    "        if scattering_probability(e_i, stepsize, density=density) > random.random():\n",
    "            transfer_e = energy_transfer(alpha_path[s])\n",
    "            alpha_path[s] = transfer_e[0]*alpha_quenching_factor + transfer_e[1]*p_quenching_factor\n",
    "\n",
    "    return alpha_path"
   ]
  },
  {
   "cell_type": "markdown",
   "metadata": {},
   "source": [
    "Let's compute some potential energy transfer values to the proton, before we run\n",
    "a long and computationally heavy simulation"
   ]
  },
  {
   "cell_type": "code",
   "execution_count": 11,
   "metadata": {},
   "outputs": [
    {
     "data": {
      "image/png": "[encoded data removed]",
      "text/plain": [
       "<Figure size 864x576 with 1 Axes>"
      ]
     },
     "metadata": {
      "needs_background": "light"
     },
     "output_type": "display_data"
    },
    {
     "data": {
      "image/png": "[encoded data removed]",
      "text/plain": [
       "<Figure size 864x576 with 1 Axes>"
      ]
     },
     "metadata": {
      "needs_background": "light"
     },
     "output_type": "display_data"
    },
    {
     "data": {
      "text/plain": [
       "<matplotlib.collections.PathCollection at 0x7fa778aba580>"
      ]
     },
     "execution_count": 11,
     "metadata": {},
     "output_type": "execute_result"
    },
    {
     "data": {
      "image/png": "[encoded data removed]",
      "text/plain": [
       "<Figure size 864x576 with 1 Axes>"
      ]
     },
     "metadata": {
      "needs_background": "light"
     },
     "output_type": "display_data"
    }
   ],
   "source": [
    "ei_range = np.linspace(1, 14, 1000)\n",
    "#ei_range = 14*np.ones(500)\n",
    "with Pool(int(0.75*cpu_count())) as p:\n",
    "    transfer_e_raw = p.map(energy_transfer, ei_range)\n",
    "transfer_e = [i[1] for i in transfer_e_raw]\n",
    "s_angles = [i[2] for i in transfer_e_raw]\n",
    "#print(s_angles)\n",
    "\n",
    "#print(energy_transfer(8)[1])\n",
    "#print(transfer_e)\n",
    "#etransfer_bins = BinnedCountData(d=transfer_e, num_bins=20)\n",
    "#etransfer_bins.add_count_by_list(transfer_e)\n",
    "\n",
    "#plt.hist(etransfer_bins.bin_edges[:-1], etransfer_bins.bin_edges, weights=etransfer_bins.counts, rwidth=0.8)\n",
    "ax = plt.gca()\n",
    "ax.set_facecolor('white')\n",
    "ax.set_alpha(1.0)\n",
    "plt.scatter(ei_range, transfer_e)\n",
    "plt.title(\"Alpha Energy Transferred to Proton\")\n",
    "plt.xlabel(\"Alpha Energy (MeV)\")\n",
    "plt.ylabel(\"Energy Transferred to Proton (MeV)\")\n",
    "plt.show()\n",
    "\n",
    "plt.figure(2)\n",
    "ax = plt.gca()\n",
    "ax.set_facecolor('white')\n",
    "ax.set_alpha(1.0)\n",
    "plt.title(\"Scattering Angle Counts\")\n",
    "plt.xlabel(\"Scattering Angle\")\n",
    "plt.ylabel(\"Count\")\n",
    "scatter_bins = BinnedCountData(d=s_angles, num_bins = 100)\n",
    "scatter_bins.add_count_by_list(s_angles)\n",
    "plt.hist(scatter_bins.bin_edges[:-1], scatter_bins.bin_edges, weights=scatter_bins.counts, rwidth=0.8)\n",
    "plt.show()\n",
    "#plt.scatter(transfer_e, s_angles)\n",
    "#plt.xlabel(\"Energy (MeV)\")\n",
    "#plt.ylabel(\"Scattering Angle (rad)\")\n",
    "\n",
    "plt.figure(3)\n",
    "plt.title(\"Proton Energy vs. Scattering Angle\")\n",
    "plt.xlabel(\"Scattering Angle (rad)\")\n",
    "plt.ylabel(\"Proton Energy (MeV)\")\n",
    "plt.savefig(\"etransfer_better.jpg\")\n",
    "plt.scatter(s_angles, transfer_e)"
   ]
  },
  {
   "cell_type": "code",
   "execution_count": 12,
   "metadata": {},
   "outputs": [
    {
     "data": {
      "image/png": "[encoded data removed]",
      "text/plain": [
       "<Figure size 864x576 with 1 Axes>"
      ]
     },
     "metadata": {
      "needs_background": "light"
     },
     "output_type": "display_data"
    }
   ],
   "source": [
    "# let's compute energy transfer for a fixed energy and a bunch of different\n",
    "# scattering angles\n",
    "e_i = 14\n",
    "s_angle_range = np.linspace(0.01, 0.25, 200)\n",
    "proton_e = [energy_transfer(14, scatter_angle=i)[1] for i in s_angle_range]\n",
    "\n",
    "plt.scatter(s_angle_range, proton_e)\n",
    "plt.xlabel(\"Scattering Angle (rad)\")\n",
    "plt.ylabel(\"Proton Energy (MeV)\")\n",
    "plt.title(\"Scattering Angle vs. Proton Energy\")\n",
    "plt.tight_layout()\n",
    "plt.savefig(\"pe_v_sa_good.jpg\")\n",
    "plt.show()"
   ]
  },
  {
   "cell_type": "code",
   "execution_count": 13,
   "metadata": {},
   "outputs": [
    {
     "name": "stderr",
     "output_type": "stream",
     "text": [
      "Process ForkPoolWorker-44:\n",
      "Process ForkPoolWorker-41:\n",
      "Process ForkPoolWorker-37:\n",
      "Process ForkPoolWorker-35:\n",
      "Process ForkPoolWorker-48:\n",
      "Process ForkPoolWorker-45:\n",
      "Process ForkPoolWorker-36:\n",
      "Process ForkPoolWorker-31:\n",
      "Process ForkPoolWorker-47:\n",
      "Process ForkPoolWorker-38:\n",
      "Process ForkPoolWorker-42:\n",
      "Process ForkPoolWorker-46:\n",
      "Process ForkPoolWorker-34:\n",
      "Process ForkPoolWorker-39:\n",
      "Process ForkPoolWorker-54:\n",
      "Process ForkPoolWorker-49:\n",
      "Process ForkPoolWorker-33:\n",
      "Process ForkPoolWorker-40:\n",
      "Process ForkPoolWorker-43:\n",
      "Process ForkPoolWorker-50:\n",
      "Process ForkPoolWorker-52:\n",
      "Process ForkPoolWorker-51:\n"
     ]
    },
    {
     "ename": "KeyboardInterrupt",
     "evalue": "",
     "output_type": "error",
     "traceback": [
      "\u001b[0;31m---------------------------------------------------------------------------\u001b[0m",
      "\u001b[0;31mKeyboardInterrupt\u001b[0m                         Traceback (most recent call last)",
      "\u001b[0;32m/tmp/ipykernel_1034/20300213.py\u001b[0m in \u001b[0;36m<module>\u001b[0;34m\u001b[0m\n\u001b[1;32m     21\u001b[0m     \u001b[0;32mreturn\u001b[0m \u001b[0msim_data\u001b[0m\u001b[0;34m\u001b[0m\u001b[0;34m\u001b[0m\u001b[0m\n\u001b[1;32m     22\u001b[0m \u001b[0;34m\u001b[0m\u001b[0m\n\u001b[0;32m---> 23\u001b[0;31m \u001b[0msim_data\u001b[0m \u001b[0;34m=\u001b[0m \u001b[0mstart_sim\u001b[0m\u001b[0;34m(\u001b[0m\u001b[0;36m8\u001b[0m\u001b[0;34m,\u001b[0m \u001b[0;36m10000\u001b[0m\u001b[0;34m,\u001b[0m \u001b[0mnbins\u001b[0m\u001b[0;34m=\u001b[0m\u001b[0;36m50\u001b[0m\u001b[0;34m,\u001b[0m \u001b[0mstepsize\u001b[0m\u001b[0;34m=\u001b[0m\u001b[0;36m1E-4\u001b[0m\u001b[0;34m)\u001b[0m\u001b[0;34m\u001b[0m\u001b[0;34m\u001b[0m\u001b[0m\n\u001b[0m\u001b[1;32m     24\u001b[0m \u001b[0;34m\u001b[0m\u001b[0m\n\u001b[1;32m     25\u001b[0m \u001b[0;31m# this is a big sim, let's pickle the output so we can retrieve it later\u001b[0m\u001b[0;34m\u001b[0m\u001b[0;34m\u001b[0m\u001b[0m\n",
      "\u001b[0;32m/tmp/ipykernel_1034/20300213.py\u001b[0m in \u001b[0;36mstart_sim\u001b[0;34m(e_0, n_particles, stepsize, nbins, epsilon, density)\u001b[0m\n\u001b[1;32m     15\u001b[0m     \u001b[0mkwargs\u001b[0m \u001b[0;34m=\u001b[0m \u001b[0;34m{\u001b[0m\u001b[0;34m'stepsize'\u001b[0m\u001b[0;34m:\u001b[0m \u001b[0mstepsize\u001b[0m\u001b[0;34m,\u001b[0m \u001b[0;34m'nbins'\u001b[0m\u001b[0;34m:\u001b[0m \u001b[0mnbins\u001b[0m\u001b[0;34m,\u001b[0m \u001b[0;34m'epsilon'\u001b[0m\u001b[0;34m:\u001b[0m \u001b[0mepsilon\u001b[0m\u001b[0;34m,\u001b[0m \u001b[0;34m'density'\u001b[0m\u001b[0;34m:\u001b[0m \u001b[0mdensity\u001b[0m\u001b[0;34m}\u001b[0m\u001b[0;34m\u001b[0m\u001b[0;34m\u001b[0m\u001b[0m\n\u001b[1;32m     16\u001b[0m     \u001b[0;32mwith\u001b[0m \u001b[0mPool\u001b[0m\u001b[0;34m(\u001b[0m\u001b[0mfloor\u001b[0m\u001b[0;34m(\u001b[0m\u001b[0;34m(\u001b[0m\u001b[0;36m2\u001b[0m\u001b[0;34m/\u001b[0m\u001b[0;36m3\u001b[0m\u001b[0;34m)\u001b[0m\u001b[0;34m*\u001b[0m\u001b[0mcpu_count\u001b[0m\u001b[0;34m(\u001b[0m\u001b[0;34m)\u001b[0m\u001b[0;34m)\u001b[0m\u001b[0;34m)\u001b[0m \u001b[0;32mas\u001b[0m \u001b[0mp\u001b[0m\u001b[0;34m:\u001b[0m\u001b[0;34m\u001b[0m\u001b[0;34m\u001b[0m\u001b[0m\n\u001b[0;32m---> 17\u001b[0;31m         \u001b[0msim_data\u001b[0m \u001b[0;34m=\u001b[0m \u001b[0mp\u001b[0m\u001b[0;34m.\u001b[0m\u001b[0mmap\u001b[0m\u001b[0;34m(\u001b[0m\u001b[0msim_wrapper\u001b[0m\u001b[0;34m,\u001b[0m \u001b[0;34m[\u001b[0m\u001b[0;34m(\u001b[0m\u001b[0marg\u001b[0m\u001b[0;34m,\u001b[0m \u001b[0mkwargs\u001b[0m\u001b[0;34m)\u001b[0m \u001b[0;32mfor\u001b[0m \u001b[0mi\u001b[0m \u001b[0;32min\u001b[0m \u001b[0mrange\u001b[0m\u001b[0;34m(\u001b[0m\u001b[0mn_particles\u001b[0m\u001b[0;34m)\u001b[0m\u001b[0;34m]\u001b[0m\u001b[0;34m)\u001b[0m\u001b[0;34m\u001b[0m\u001b[0;34m\u001b[0m\u001b[0m\n\u001b[0m\u001b[1;32m     18\u001b[0m         \u001b[0mp\u001b[0m\u001b[0;34m.\u001b[0m\u001b[0mclose\u001b[0m\u001b[0;34m(\u001b[0m\u001b[0;34m)\u001b[0m\u001b[0;34m\u001b[0m\u001b[0;34m\u001b[0m\u001b[0m\n\u001b[1;32m     19\u001b[0m         \u001b[0mp\u001b[0m\u001b[0;34m.\u001b[0m\u001b[0mjoin\u001b[0m\u001b[0;34m(\u001b[0m\u001b[0;34m)\u001b[0m\u001b[0;34m\u001b[0m\u001b[0;34m\u001b[0m\u001b[0m\n",
      "\u001b[0;32m/opt/conda/lib/python3.9/multiprocessing/pool.py\u001b[0m in \u001b[0;36mmap\u001b[0;34m(self, func, iterable, chunksize)\u001b[0m\n\u001b[1;32m    362\u001b[0m         \u001b[0;32min\u001b[0m \u001b[0ma\u001b[0m \u001b[0mlist\u001b[0m \u001b[0mthat\u001b[0m \u001b[0;32mis\u001b[0m \u001b[0mreturned\u001b[0m\u001b[0;34m.\u001b[0m\u001b[0;34m\u001b[0m\u001b[0;34m\u001b[0m\u001b[0m\n\u001b[1;32m    363\u001b[0m         '''\n\u001b[0;32m--> 364\u001b[0;31m         \u001b[0;32mreturn\u001b[0m \u001b[0mself\u001b[0m\u001b[0;34m.\u001b[0m\u001b[0m_map_async\u001b[0m\u001b[0;34m(\u001b[0m\u001b[0mfunc\u001b[0m\u001b[0;34m,\u001b[0m \u001b[0miterable\u001b[0m\u001b[0;34m,\u001b[0m \u001b[0mmapstar\u001b[0m\u001b[0;34m,\u001b[0m \u001b[0mchunksize\u001b[0m\u001b[0;34m)\u001b[0m\u001b[0;34m.\u001b[0m\u001b[0mget\u001b[0m\u001b[0;34m(\u001b[0m\u001b[0;34m)\u001b[0m\u001b[0;34m\u001b[0m\u001b[0;34m\u001b[0m\u001b[0m\n\u001b[0m\u001b[1;32m    365\u001b[0m \u001b[0;34m\u001b[0m\u001b[0m\n\u001b[1;32m    366\u001b[0m     \u001b[0;32mdef\u001b[0m \u001b[0mstarmap\u001b[0m\u001b[0;34m(\u001b[0m\u001b[0mself\u001b[0m\u001b[0;34m,\u001b[0m \u001b[0mfunc\u001b[0m\u001b[0;34m,\u001b[0m \u001b[0miterable\u001b[0m\u001b[0;34m,\u001b[0m \u001b[0mchunksize\u001b[0m\u001b[0;34m=\u001b[0m\u001b[0;32mNone\u001b[0m\u001b[0;34m)\u001b[0m\u001b[0;34m:\u001b[0m\u001b[0;34m\u001b[0m\u001b[0;34m\u001b[0m\u001b[0m\n",
      "\u001b[0;32m/opt/conda/lib/python3.9/multiprocessing/pool.py\u001b[0m in \u001b[0;36mget\u001b[0;34m(self, timeout)\u001b[0m\n\u001b[1;32m    763\u001b[0m \u001b[0;34m\u001b[0m\u001b[0m\n\u001b[1;32m    764\u001b[0m     \u001b[0;32mdef\u001b[0m \u001b[0mget\u001b[0m\u001b[0;34m(\u001b[0m\u001b[0mself\u001b[0m\u001b[0;34m,\u001b[0m \u001b[0mtimeout\u001b[0m\u001b[0;34m=\u001b[0m\u001b[0;32mNone\u001b[0m\u001b[0;34m)\u001b[0m\u001b[0;34m:\u001b[0m\u001b[0;34m\u001b[0m\u001b[0;34m\u001b[0m\u001b[0m\n\u001b[0;32m--> 765\u001b[0;31m         \u001b[0mself\u001b[0m\u001b[0;34m.\u001b[0m\u001b[0mwait\u001b[0m\u001b[0;34m(\u001b[0m\u001b[0mtimeout\u001b[0m\u001b[0;34m)\u001b[0m\u001b[0;34m\u001b[0m\u001b[0;34m\u001b[0m\u001b[0m\n\u001b[0m\u001b[1;32m    766\u001b[0m         \u001b[0;32mif\u001b[0m \u001b[0;32mnot\u001b[0m \u001b[0mself\u001b[0m\u001b[0;34m.\u001b[0m\u001b[0mready\u001b[0m\u001b[0;34m(\u001b[0m\u001b[0;34m)\u001b[0m\u001b[0;34m:\u001b[0m\u001b[0;34m\u001b[0m\u001b[0;34m\u001b[0m\u001b[0m\n\u001b[1;32m    767\u001b[0m             \u001b[0;32mraise\u001b[0m \u001b[0mTimeoutError\u001b[0m\u001b[0;34m\u001b[0m\u001b[0;34m\u001b[0m\u001b[0m\n",
      "\u001b[0;32m/opt/conda/lib/python3.9/multiprocessing/pool.py\u001b[0m in \u001b[0;36mwait\u001b[0;34m(self, timeout)\u001b[0m\n\u001b[1;32m    760\u001b[0m \u001b[0;34m\u001b[0m\u001b[0m\n\u001b[1;32m    761\u001b[0m     \u001b[0;32mdef\u001b[0m \u001b[0mwait\u001b[0m\u001b[0;34m(\u001b[0m\u001b[0mself\u001b[0m\u001b[0;34m,\u001b[0m \u001b[0mtimeout\u001b[0m\u001b[0;34m=\u001b[0m\u001b[0;32mNone\u001b[0m\u001b[0;34m)\u001b[0m\u001b[0;34m:\u001b[0m\u001b[0;34m\u001b[0m\u001b[0;34m\u001b[0m\u001b[0m\n\u001b[0;32m--> 762\u001b[0;31m         \u001b[0mself\u001b[0m\u001b[0;34m.\u001b[0m\u001b[0m_event\u001b[0m\u001b[0;34m.\u001b[0m\u001b[0mwait\u001b[0m\u001b[0;34m(\u001b[0m\u001b[0mtimeout\u001b[0m\u001b[0;34m)\u001b[0m\u001b[0;34m\u001b[0m\u001b[0;34m\u001b[0m\u001b[0m\n\u001b[0m\u001b[1;32m    763\u001b[0m \u001b[0;34m\u001b[0m\u001b[0m\n\u001b[1;32m    764\u001b[0m     \u001b[0;32mdef\u001b[0m \u001b[0mget\u001b[0m\u001b[0;34m(\u001b[0m\u001b[0mself\u001b[0m\u001b[0;34m,\u001b[0m \u001b[0mtimeout\u001b[0m\u001b[0;34m=\u001b[0m\u001b[0;32mNone\u001b[0m\u001b[0;34m)\u001b[0m\u001b[0;34m:\u001b[0m\u001b[0;34m\u001b[0m\u001b[0;34m\u001b[0m\u001b[0m\n",
      "\u001b[0;32m/opt/conda/lib/python3.9/threading.py\u001b[0m in \u001b[0;36mwait\u001b[0;34m(self, timeout)\u001b[0m\n\u001b[1;32m    572\u001b[0m             \u001b[0msignaled\u001b[0m \u001b[0;34m=\u001b[0m \u001b[0mself\u001b[0m\u001b[0;34m.\u001b[0m\u001b[0m_flag\u001b[0m\u001b[0;34m\u001b[0m\u001b[0;34m\u001b[0m\u001b[0m\n\u001b[1;32m    573\u001b[0m             \u001b[0;32mif\u001b[0m \u001b[0;32mnot\u001b[0m \u001b[0msignaled\u001b[0m\u001b[0;34m:\u001b[0m\u001b[0;34m\u001b[0m\u001b[0;34m\u001b[0m\u001b[0m\n\u001b[0;32m--> 574\u001b[0;31m                 \u001b[0msignaled\u001b[0m \u001b[0;34m=\u001b[0m \u001b[0mself\u001b[0m\u001b[0;34m.\u001b[0m\u001b[0m_cond\u001b[0m\u001b[0;34m.\u001b[0m\u001b[0mwait\u001b[0m\u001b[0;34m(\u001b[0m\u001b[0mtimeout\u001b[0m\u001b[0;34m)\u001b[0m\u001b[0;34m\u001b[0m\u001b[0;34m\u001b[0m\u001b[0m\n\u001b[0m\u001b[1;32m    575\u001b[0m             \u001b[0;32mreturn\u001b[0m \u001b[0msignaled\u001b[0m\u001b[0;34m\u001b[0m\u001b[0;34m\u001b[0m\u001b[0m\n\u001b[1;32m    576\u001b[0m \u001b[0;34m\u001b[0m\u001b[0m\n",
      "\u001b[0;32m/opt/conda/lib/python3.9/threading.py\u001b[0m in \u001b[0;36mwait\u001b[0;34m(self, timeout)\u001b[0m\n\u001b[1;32m    310\u001b[0m         \u001b[0;32mtry\u001b[0m\u001b[0;34m:\u001b[0m    \u001b[0;31m# restore state no matter what (e.g., KeyboardInterrupt)\u001b[0m\u001b[0;34m\u001b[0m\u001b[0;34m\u001b[0m\u001b[0m\n\u001b[1;32m    311\u001b[0m             \u001b[0;32mif\u001b[0m \u001b[0mtimeout\u001b[0m \u001b[0;32mis\u001b[0m \u001b[0;32mNone\u001b[0m\u001b[0;34m:\u001b[0m\u001b[0;34m\u001b[0m\u001b[0;34m\u001b[0m\u001b[0m\n\u001b[0;32m--> 312\u001b[0;31m                 \u001b[0mwaiter\u001b[0m\u001b[0;34m.\u001b[0m\u001b[0macquire\u001b[0m\u001b[0;34m(\u001b[0m\u001b[0;34m)\u001b[0m\u001b[0;34m\u001b[0m\u001b[0;34m\u001b[0m\u001b[0m\n\u001b[0m\u001b[1;32m    313\u001b[0m                 \u001b[0mgotit\u001b[0m \u001b[0;34m=\u001b[0m \u001b[0;32mTrue\u001b[0m\u001b[0;34m\u001b[0m\u001b[0;34m\u001b[0m\u001b[0m\n\u001b[1;32m    314\u001b[0m             \u001b[0;32melse\u001b[0m\u001b[0;34m:\u001b[0m\u001b[0;34m\u001b[0m\u001b[0;34m\u001b[0m\u001b[0m\n",
      "\u001b[0;31mKeyboardInterrupt\u001b[0m: "
     ]
    }
   ],
   "source": [
    "# ok, now let's write a loop to process a lot of particles\n",
    "# using one on each thread to speed things up\n",
    "# considering this is a toy model, let's just use one thread for each particle\n",
    "\n",
    "def run_sim_instance(e_0, stepsize=0.0001, nbins=80, epsilon=0.1, density=0.8562):\n",
    "    run_data = scatter_sim(e_0, epsilon=epsilon, density=density, stepsize=stepsize)\n",
    "    return run_data\n",
    "\n",
    "def sim_wrapper(arg):\n",
    "    args, kwargs = arg\n",
    "    return run_sim_instance(*args, **kwargs)\n",
    "\n",
    "def start_sim(e_0, n_particles, stepsize=0.001, nbins=40, epsilon=0.1, density=0.8562):\n",
    "    arg = (e_0, )\n",
    "    kwargs = {'stepsize': stepsize, 'nbins': nbins, 'epsilon': epsilon, 'density': density}\n",
    "    with Pool(floor((2/3)*cpu_count())) as p:\n",
    "        sim_data = p.map(sim_wrapper, [(arg, kwargs) for i in range(n_particles)])\n",
    "        p.close()\n",
    "        p.join()\n",
    "\n",
    "    return sim_data\n",
    "\n",
    "sim_data = start_sim(8, 10000, nbins=50, stepsize=1E-4)\n",
    "\n",
    "# this is a big sim, let's pickle the output so we can retrieve it later\n",
    "#with open(\"50k_8MeV_Alphas\", \"wb\") as fp:\n",
    "#    pickle.dump(sim_data, fp)"
   ]
  },
  {
   "cell_type": "code",
   "execution_count": null,
   "metadata": {},
   "outputs": [],
   "source": [
    "sim_data_flat = [l for ls in sim_data for l in ls]"
   ]
  },
  {
   "cell_type": "code",
   "execution_count": null,
   "metadata": {},
   "outputs": [],
   "source": [
    "sim_counts = BinnedCountData(100, d=sim_data_flat)\n",
    "sim_counts.add_count_by_list(sim_data_flat)\n",
    "plt.hist(sim_counts.bin_edges[:-1], sim_counts.bin_edges, weights=sim_counts.counts, rwdith=0.8)\n",
    "plt.xlabel(\"Energy\")\n",
    "plt.ylabel(\"Count\")\n",
    "plt.title(\"Quenched Spectrum Counts\")"
   ]
  },
  {
   "cell_type": "code",
   "execution_count": null,
   "metadata": {},
   "outputs": [
    {
     "name": "stdout",
     "output_type": "stream",
     "text": [
      "250000\n"
     ]
    }
   ],
   "source": [
    "# apparently pickle del's the variable once you dump it\n",
    "# let's reload the sim output\n",
    "#with open(\"250k_8MeV_Alphas\", 'rb') as fp:\n",
    "#    sim_data = pickle.load(fp)\n",
    "#print(len(sim_data))"
   ]
  },
  {
   "cell_type": "code",
   "execution_count": null,
   "metadata": {},
   "outputs": [],
   "source": [
    "%%script False\n",
    "alpha_data = []\n",
    "proton_data = []\n",
    "for i in sim_data:\n",
    "    alpha_data.extend(i[0])\n",
    "    proton_data.extend(i[1])\n",
    "del sim_data"
   ]
  },
  {
   "cell_type": "code",
   "execution_count": null,
   "metadata": {},
   "outputs": [
    {
     "data": {
      "image/png": "[encoded data removed]",
      "text/plain": [
       "<Figure size 864x576 with 1 Axes>"
      ]
     },
     "metadata": {
      "needs_background": "light"
     },
     "output_type": "display_data"
    },
    {
     "name": "stderr",
     "output_type": "stream",
     "text": [
      "\n",
      "KeyboardInterrupt\n",
      "\n"
     ]
    },
    {
     "data": {
      "text/plain": [
       "<Figure size 864x576 with 0 Axes>"
      ]
     },
     "metadata": {},
     "output_type": "display_data"
    }
   ],
   "source": [
    "%%script False\n",
    "# now to plot the simulation results\n",
    "#plt.stairs(sim_data.counts, sim_data.bin_edges)\n",
    "#plt.hist(sim_data.bin_edges[:-1], sim_data.bin_edges, weights=sim_data.counts, rwidth=0.8)\n",
    "#plt.scatter([(sim_data.bin_edges[i] + sim_data.bin_edges[i-1])/2 for i in\n",
    "#range(len(sim_data.bin_edges))], sim_data.counts)\n",
    "#plt.scatter(sim_data.bin_edges[:-1], sim_data.counts)\n",
    "proton_counts = BinnedCountData(50, d=proton_data)\n",
    "proton_counts.add_count_by_list(proton_data)\n",
    "plt.hist(proton_counts.bin_edges[:-1], proton_counts.bin_edges, weights=proton_counts.counts, rwidth=0.8)\n",
    "plt.xlabel(\"Energy\")\n",
    "plt.ylabel(\"Count\")\n",
    "plt.gca().invert_xaxis()\n",
    "plt.title(\"Proton Scattering Event Energy Counts\")\n",
    "plt.show()\n",
    "plt.figure(2)\n",
    "alpha_counts = BinnedCountData(50, d=alpha_data)\n",
    "alpha_counts.add_count_by_list(alpha_data)\n",
    "\n",
    "plt.hist(alpha_counts.bin_edges[:-1], alpha_counts.bin_edges, weights=alpha_counts.counts, rwidth=0.8)\n",
    "plt.title(\"Alpha Scattering Event Energy Counts\")\n",
    "plt.xlabel(\"Energy\")\n",
    "plt.ylabel(\"Count\")\n",
    "plt.show()"
   ]
  },
  {
   "cell_type": "code",
   "execution_count": null,
   "metadata": {},
   "outputs": [
    {
     "ename": "",
     "evalue": "",
     "output_type": "error",
     "traceback": [
      "\u001b[1;31mCannot execute code, session has been disposed. Please try restarting the Kernel."
     ]
    },
    {
     "ename": "",
     "evalue": "",
     "output_type": "error",
     "traceback": [
      "\u001b[1;31mCannot execute code, session has been disposed. Please try restarting the Kernel. \n",
      "\u001b[1;31mView Jupyter <a href='command:jupyter.viewOutput'>log</a> for further details."
     ]
    }
   ],
   "source": []
  }
 ],
 "metadata": {
  "kernelspec": {
   "display_name": "Python 3 (ipykernel)",
   "language": "python",
   "name": "python3"
  },
  "language_info": {
   "codemirror_mode": {
    "name": "ipython",
    "version": 3
   },
   "file_extension": ".py",
   "mimetype": "text/x-python",
   "name": "python",
   "nbconvert_exporter": "python",
   "pygments_lexer": "ipython3",
   "version": "3.9.7"
  }
 },
 "nbformat": 4,
 "nbformat_minor": 2
}
