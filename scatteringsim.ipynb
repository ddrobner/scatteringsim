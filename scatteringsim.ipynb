{
 "cells": [
  {
   "cell_type": "markdown",
   "metadata": {},
   "source": [
    "## SNO+ Scattering Pseudo-MC\n",
    "A simple test using known results to determine the viability of nuclear recoil\n",
    "explaining the odd behaviour at 2.2 MeV."
   ]
  },
  {
   "cell_type": "code",
   "execution_count": 141,
   "metadata": {},
   "outputs": [],
   "source": [
    "# importing the usual suspects\n",
    "import matplotlib.pyplot as plt\n",
    "import pandas as pd\n",
    "import numpy as np\n",
    "from pathlib import Path\n",
    "from multiprocessing import Pool, cpu_count\n",
    "from math import floor\n",
    "\n",
    "# for faster bin insertion\n",
    "import bisect\n",
    "\n",
    "# random number generation\n",
    "import random\n",
    "# i just picked an arbitrary seed here\n",
    "# if it matters it's easy to change\n",
    "random.seed(\"snoplus\")\n",
    "\n",
    "plt.rcParams['figure.figsize'] = (12, 8)"
   ]
  },
  {
   "cell_type": "code",
   "execution_count": 142,
   "metadata": {},
   "outputs": [
    {
     "name": "stdout",
     "output_type": "stream",
     "text": [
      "         KE  electron   nuclear   total\n",
      "0    0.0180     0.691  0.068500  653.60\n",
      "1    0.0200     0.730  0.063800  682.84\n",
      "2    0.0225     0.774  0.058900  716.38\n",
      "3    0.0250     0.816  0.054800  749.06\n",
      "4    0.0275     0.856  0.051300  780.02\n",
      "..      ...       ...       ...     ...\n",
      "75  15.0000     0.430  0.000275  369.80\n",
      "76  16.0000     0.408  0.000260  350.88\n",
      "77  17.0000     0.389  0.000246  334.54\n",
      "78  18.0000     0.371  0.000234  319.06\n",
      "79  20.0000     0.341  0.000213  293.26\n",
      "\n",
      "[80 rows x 4 columns]\n"
     ]
    }
   ],
   "source": [
    "# now we read in the stopping power data from ASTAR\n",
    "stoppingpowers = pd.read_csv(Path(\"stoppingpowers/lab.csv\"))\n",
    "# rename cols to make them easier to reference\n",
    "stoppingpowers.columns = [\"KE\", \"electron\", \"nuclear\", \"total\"]\n",
    "# reindex the dataframe by kinetic energy to make lookups easier\n",
    "#stoppingpowers.set_index(\"KE\", inplace=True)\n",
    "print(stoppingpowers)"
   ]
  },
  {
   "cell_type": "markdown",
   "metadata": {},
   "source": [
    "So now we have the stopping power data available to us and formatted nicely.\n",
    "\n",
    "**NB**: the initial revision here is without scattering to get a grip on things\n",
    "\n",
    "The setup is that we have some sort of particle with a given energy E_0 (i'm not sure exactly what yet -\n",
    "need to figure that out)\n",
    "The general process goes like this:\n",
    "- Look up stopping power in the table for the energy of our event\n",
    "- Find dE (**NOTE**: need to figure out what dx will be here first - see\n",
    "  wikipedia page for stopping power)\n",
    "- Add dE to the bin for an event of that energy\n",
    "- Repeat this, as if we had an energy of E_j = E_0 - dE\n",
    "- Terminate once E_j is less than some given epsilon (generally close to zero -\n",
    "  but we will never reach zero exactly)\n",
    "\n",
    "Implementation notes: Can use recursion, but that is setting myself up for a\n",
    "nightmare so let's keep things iterative\n",
    "\n",
    "Also - how to deal with events which aren't exactly a given KE in the table.\n",
    "Data is nonlinear but describes the derivative of energy w.r.t. position - the\n",
    "function \"looks like\" it is C-infinity (ie. continuous derivatives) and differentiability\n",
    "implies linearity in a neighbourhood so a linear interpolation should be a very\n",
    "accurate estimation "
   ]
  },
  {
   "cell_type": "code",
   "execution_count": 143,
   "metadata": {},
   "outputs": [],
   "source": [
    "# Let's set up the bins for events here\n",
    "# I don't know of any prepackaged solution for this so let's write a structure\n",
    "# to hold binned data for us\n",
    "\n",
    "# this kind of seems unnecessary to me, but also I would be implementing the\n",
    "# exact same logic in a messier form otherwise so I digress\n",
    "class CountBin:\n",
    "    def __init__(self, low, high):\n",
    "        self._low = low\n",
    "        self._high = high\n",
    "        self._count = 0\n",
    "    \n",
    "    # setting properties for the bin count\n",
    "    @property\n",
    "    def count(self):\n",
    "        return self._count\n",
    "\n",
    "    @count.setter\n",
    "    def count(self, new_count):\n",
    "        self._count = new_count\n",
    "\n",
    "    # increment and decrement convenience functions\n",
    "    def increment(self):\n",
    "        self.count = self._count + 1       \n",
    "\n",
    "    def decrement(self):\n",
    "        self.count = self._count - 1\n",
    "\n",
    "    # properties for bin bounds\n",
    "    @property\n",
    "    def low_range(self):\n",
    "        return self._low\n",
    "\n",
    "    @property\n",
    "    def high_range(self):\n",
    "        return self._high\n",
    "\n",
    "    def __str__(self):\n",
    "        return f\"CountBin(low={self.low_range}, high={self.high_range}, count={self.count})\"\n",
    "    \n",
    "\n",
    "class BinnedCountData:\n",
    "    def __init__(self, num_bins, d=None, startpoint=0, endpoint=1):\n",
    "        if d != None:\n",
    "            low = min(d)\n",
    "            high = max(d)\n",
    "        else:\n",
    "            low = startpoint\n",
    "            high = endpoint\n",
    "\n",
    "        self.binEdges = np.linspace(low, high, num_bins+1)\n",
    "\n",
    "        self.bins = []\n",
    "\n",
    "        i = 0\n",
    "        while i < len(self.binEdges)-1:\n",
    "            self.bins.append(CountBin(self.binEdges[i], self.binEdges[i+1]))\n",
    "            i += 1\n",
    "\n",
    "\n",
    "    def get_bin_index(self, v):\n",
    "        #i = 0\n",
    "        #while i < len(self.binEdges) - 1:\n",
    "        #    if v <= self.binEdges[i+1]:\n",
    "        #        return i\n",
    "        #    i += 1\n",
    "        return (bisect.bisect_left(self.bin_edges, v) - 1)\n",
    "\n",
    "    @property\n",
    "    def bin_min(self):\n",
    "        return min(self.binEdges)\n",
    "    \n",
    "    @property\n",
    "    def bin_max(self):\n",
    "        return max(self.binEdges)\n",
    "\n",
    "    @property\n",
    "    def bin_edges(self):\n",
    "        return self.binEdges\n",
    "\n",
    "    @property\n",
    "    def num_bins(self):\n",
    "        return len(self.bins)\n",
    "\n",
    "    # add a value to the correct count bin\n",
    "    def add_count_by_value(self, v):\n",
    "        # TODO is there a faster algorithm for this?\n",
    "        self.bins[self.get_bin_index(v)].increment()\n",
    "\n",
    "    # count an entire list\n",
    "    def add_count_by_list(self, l):\n",
    "        for i in l:\n",
    "            self.add_count_by_value(i)\n",
    "\n",
    "    def set_count_by_index(self, idx, c):\n",
    "        self.bins[idx].count = c\n",
    "\n",
    "    @property\n",
    "    def counts(self):\n",
    "        return [i.count for i in self.bins]\n",
    "\n",
    "    def get_count_by_value(self, v):\n",
    "        # get count of a bin some value is in\n",
    "        return self.bins[self.get_bin_index(v)].count"
   ]
  },
  {
   "cell_type": "markdown",
   "metadata": {},
   "source": [
    "Now we do the linear interpolation of the ASTAR data\n",
    "Although the data is nonlinear, this is still decently accurate since it is a differentiable function "
   ]
  },
  {
   "cell_type": "code",
   "execution_count": 144,
   "metadata": {},
   "outputs": [],
   "source": [
    "# now to do the linear interpolation for the ASTAR dataset\n",
    "def stp_interp(e, stp=stoppingpowers):\n",
    "    # NOTE this assumes that the stopping powers are sorted\n",
    "    # we get them this way from ASTAR so it's not an issue, but we can fix that if need be\n",
    "    for k in stp.index:\n",
    "        if e >= stp[\"KE\"].max():\n",
    "            return (stp[\"total\"].iloc(-1))/(stp[\"KE\"].iloc(-1))*e\n",
    "        elif e <= stp[\"KE\"][k+1] and e >= stp[\"KE\"][k]:\n",
    "            ke_low = stp[\"KE\"][k]\n",
    "            sp_low = stp[\"total\"][k]\n",
    "            ke_high = stp[\"KE\"][k+1]\n",
    "            sp_high = stp[\"total\"][k+1]\n",
    "            break\n",
    "\n",
    "    return ((sp_high - sp_low)/(ke_high - ke_low)) * e + sp_low\n"
   ]
  },
  {
   "cell_type": "markdown",
   "metadata": {},
   "source": [
    "Here we define a function to compute the scattering probability for each event\n",
    "\n",
    "*NB:* See http://hyperphysics.phy-astr.gsu.edu/hbase/Nuclear/crosec2.html#c1"
   ]
  },
  {
   "cell_type": "code",
   "execution_count": 166,
   "metadata": {},
   "outputs": [
    {
     "name": "stdout",
     "output_type": "stream",
     "text": [
      "2.423666589743481e-06\n"
     ]
    }
   ],
   "source": [
    "def scattering_probability(ke, dx):\n",
    "    sample_dim = 1 # cm\n",
    "\n",
    "    N_A = 6.02214E23 # mol^-1\n",
    "    mol_wt = 246.43 # for LAB, need to verify\n",
    "    rho = 0.8562 # g/cm^3, see above\n",
    "    #n = ((N_A/mol_wt) * rho)*(sample_dim**2)*dx\n",
    "    n = N_A/(mol_wt) * dx * rho\n",
    "    Z = 1 \n",
    "\n",
    "    D = ((197.3/137) * (2*Z)/ke)*1E-15\n",
    "    # the 140.646 comes from integrating the differential cx expression in\n",
    "    # 02_rutherford\n",
    "    # here we only account for scattering > 10 degrees (around 0.1745 rad)\n",
    "    sigma = 4E6*4*np.pi*np.power(D, 2)\n",
    "    #print(sigma*10E24)\n",
    "    #sigma = 524.582*4*np.pi*np.power(D, 2)\n",
    "    # total particle effective area\n",
    "    eff_a = sigma*n\n",
    "\n",
    "    # the total area\n",
    "    total_a = sample_dim**2\n",
    "    return eff_a/total_a\n",
    "\n",
    "print(scattering_probability(6, 0.0001))\n"
   ]
  },
  {
   "cell_type": "markdown",
   "metadata": {},
   "source": [
    "And now let's write a function to sample from the differential cross-section as a distribution"
   ]
  },
  {
   "cell_type": "code",
   "execution_count": 170,
   "metadata": {},
   "outputs": [],
   "source": [
    "def diff_cx(theta, ke):\n",
    "    Z = 1 \n",
    "    D = ((198.3/137) * (2*Z)/ke)*1E-15\n",
    "    #return np.pi/4 * D**2 * (np.cos(theta/2)/np.power(np.sin(theta/2),3))\n",
    "    return np.pi/8 * D**2 * (1/np.power(np.sin(theta/2), 4))\n",
    "\n",
    "def scaled_diff_cx(theta, ke):\n",
    "    # luckily, our differential crossection is a decreasing function on the interval we care about\n",
    "    # so, we just take the left endpoint as our x-value\n",
    "    theta_min = 0.001\n",
    "    scale = 1/(diff_cx(theta_min, ke))\n",
    "    return diff_cx(theta,ke)*scale\n",
    "\n",
    "def scattering_angle(ke):\n",
    "    theta_min = 0.001\n",
    "    Z = 48\n",
    "    while True:\n",
    "        # first we sample from a uniform distribution of valid x-values\n",
    "        xsample = random.uniform(theta_min, np.pi/2)\n",
    "        # then find the scaled differential crosssection at the x-sample\n",
    "        scx = scaled_diff_cx(xsample, ke)\n",
    "        # and then return the x-sample if a random number is less than that value\n",
    "        if random.random() < scx:\n",
    "            return xsample"
   ]
  },
  {
   "cell_type": "markdown",
   "metadata": {},
   "source": [
    "Now let's sort out the transferred energy. In my notes I have the long\n",
    "derivation for 2-d elastic collisions (should I include those? it's pretty\n",
    "standard so maybe not) - INSERT SKETCH\n",
    "\n",
    "Note that the initial velocity of the alpha particle is given since the initial\n",
    "energy is known, and the scattering angle is sampled from the distribution given\n",
    "by the differential crosssection.\n",
    "\n",
    "Let\n",
    "$$ \\kappa = \\frac{m_{\\alpha}}{m_{p}} $$\n",
    "\n",
    "Then, we have\n",
    "$$\n",
    "    v_{\\alpha}^{\\prime} = v_{\\alpha}\\frac{(\\kappa \\cos{\\theta_1} \\pm \\sqrt{1 +\n",
    "    \\kappa(\\cos^2{\\theta_1} - 1)} )}{1 + \\epsilon}\n",
    "$$\n",
    "\n",
    "where $\\theta_1$ is the scattering angle of the alpha, $\\theta_2$ the angle of\n",
    "the proton, primed velocities are final and unprimed are initial.\n",
    "\n",
    "Likewise, we have\n",
    "$$\n",
    "    v_{p}^{\\prime} = v_{\\alpha}^{\\prime}\\frac{\\sin{\\theta_1}}{\\kappa\\sin{\\theta_2}}\n",
    "$$\n",
    "\n",
    "and, we can relate $\\theta_1$ and $\\theta_2$ by\n",
    "$$\n",
    "    \\tan{\\theta_2} = \\frac{v_{\\alpha}^{\\prime}\\sin{\\theta_1}}{v_{\\alpha} - v_{\\alpha}^{\\prime}\\cos{\\theta_1}}\n",
    "$$\n",
    "\n",
    "Yielding the final velocities of each particle."
   ]
  },
  {
   "cell_type": "markdown",
   "metadata": {},
   "source": [
    "Now, let's do the simulation."
   ]
  },
  {
   "cell_type": "code",
   "execution_count": 171,
   "metadata": {},
   "outputs": [],
   "source": [
    "\"\"\"\n",
    "def energy_transfer(e_i):\n",
    "    # returns a tuple with the new alpha-energy and proton-energy in coordinate\n",
    "    # 0 and 1 respectively\n",
    "    # as well as the scattering angle (if we need it later) in pos. 2\n",
    "    m_alpha = 6.646E-27 # kg\n",
    "    m_proton = 1.6726E-27 # kg\n",
    "    scatter_angle = scattering_angle(e_i) # in radians\n",
    "    #frac_e = np.power(np.sin(scatter_angle), 2) +\n",
    "    #(m_alpha/m_proton)*np.power(np.cos(scatter_angle), 2)\n",
    "    #frac_e = (np.power(np.sin(np.pi/4 - scatter_angle), 2) +\n",
    "    #(m_alpha/m_proton)*np.power(np.sin(scatter_angle),\n",
    "    #2))/np.power(np.sin(np.pi/4), 2)\n",
    "    frac_e = 1/(np.power(np.sin(np.pi/2 - scatter_angle/2), 2) + (m_alpha/m_proton)*np.power(np.sin(scatter_angle/2), 2))\n",
    "    #print(frac_e)\n",
    "    a_energy = frac_e*e_i\n",
    "    p_energy = (1 - frac_e)*e_i\n",
    "    return (a_energy, p_energy, scatter_angle)\n",
    "\"\"\"\n",
    "def energy_transfer(e_i):\n",
    "    # TODO need to handle the case where alpha does not deflect (or has a very\n",
    "    # small deflection angle?)\n",
    "    # returns a tuple with the new alpha-energy and proton-energy in coordinate\n",
    "    # 0 and 1 respectively\n",
    "    # as well as the scattering angle (if we need it later) in pos. 2\n",
    "    m_alpha = 6.646E-27 # kg\n",
    "    m_proton = 1.6726E-27 # kg\n",
    "    scatter_angle = scattering_angle(e_i) # in radians\n",
    "    # just identifying scatter_angle as theta_1 to match the algebra\n",
    "    theta_1 = scatter_angle\n",
    "\n",
    "    kappa = m_alpha/m_proton\n",
    "\n",
    "    # need to convert mev to joules \n",
    "    mev_to_j = 1.602176e-13\n",
    "    ei_j = e_i * mev_to_j\n",
    "    valpha_i = np.sqrt(2*ei_j/m_alpha)\n",
    "\n",
    "    # do I want to take the + or - soln here?\n",
    "    valpha_f = (1/(1+kappa))*valpha_i*(kappa*np.cos(theta_1) - np.sqrt(1 + kappa*(np.power(np.cos(theta_1), 2) - 1)))\n",
    "\n",
    "    theta_2 = np.arctan((valpha_f*np.sin(theta_1))/(valpha_i - valpha_f*np.cos(theta_1)))\n",
    "    \n",
    "    vproton_f = valpha_f*(np.sin(theta_1)/(kappa*np.sin(theta_2)))\n",
    "\n",
    "    # and now convert back to mev\n",
    "    ea_f = 0.5*m_alpha*np.power(valpha_f, 2)*(1/mev_to_j)\n",
    "    ep_f = 0.5*m_proton*np.power(vproton_f, 2)*(1/mev_to_j)\n",
    "\n",
    "    return (ea_f, ep_f, scatter_angle)\n",
    "\n",
    "def scatter_sim(e_0, epsilon=0.1, density=0.8562, stepsize=0.001, sim_data=None):\n",
    "    if sim_data is None:\n",
    "        data = BinnedCountData(40, startpoint=0, endpoint=e_0)\n",
    "    else:\n",
    "        data = sim_data\n",
    "\n",
    "    # now to run the simulation\n",
    "    e_i = e_0\n",
    "    while e_i > epsilon:\n",
    "        if scattering_probability(e_i, stepsize) > random.random():\n",
    "            # here, we need to figure out the change in momentum and energy due to the scattering\n",
    "            # both the proton and alpha particle will cause an event, so we need\n",
    "            # to tally both\n",
    "            transfer_e = energy_transfer(e_i)\n",
    "            print(f\"Scattering! Angle{transfer_e[2]}\", flush=True)\n",
    "            e_i = transfer_e[0] \n",
    "            scatter_sim(transfer_e[1], epsilon=epsilon, density=density, stepsize=stepsize, sim_data=data)\n",
    "        else:\n",
    "            data.add_count_by_value(e_i)\n",
    "            # we don't need to multiply by the density here since the LAB data\n",
    "            # has that baked in for us\n",
    "            e_i = e_i - stp_interp(e_i)*stepsize\n",
    "    if sim_data is None:\n",
    "        return data\n"
   ]
  },
  {
   "cell_type": "markdown",
   "metadata": {},
   "source": [
    "Let's compute some potential energy transfer values to the proton, before we run\n",
    "a long and computationally heavy simulation"
   ]
  },
  {
   "cell_type": "code",
   "execution_count": 173,
   "metadata": {},
   "outputs": [
    {
     "data": {
      "image/png": "[encoded data removed]",
      "text/plain": [
       "<Figure size 864x576 with 1 Axes>"
      ]
     },
     "metadata": {
      "needs_background": "light"
     },
     "output_type": "display_data"
    },
    {
     "data": {
      "image/png": "[encoded data removed]",
      "text/plain": [
       "<Figure size 864x576 with 1 Axes>"
      ]
     },
     "metadata": {
      "needs_background": "light"
     },
     "output_type": "display_data"
    }
   ],
   "source": [
    "ei_range = np.linspace(1, 14, 100)\n",
    "#ei_range = 14*np.ones(500)\n",
    "transfer_e_raw = [energy_transfer(i) for i in ei_range]\n",
    "transfer_e = [i[1] for i in transfer_e_raw]\n",
    "s_angles = [i[2] for i in transfer_e_raw]\n",
    "#print(s_angles)\n",
    "\n",
    "#print(energy_transfer(8)[1])\n",
    "#print(transfer_e)\n",
    "#etransfer_bins = BinnedCountData(d=transfer_e, num_bins=20)\n",
    "#etransfer_bins.add_count_by_list(transfer_e)\n",
    "\n",
    "#plt.hist(etransfer_bins.bin_edges[:-1], etransfer_bins.bin_edges, weights=etransfer_bins.counts, rwidth=0.8)\n",
    "ax = plt.gca()\n",
    "ax.set_facecolor('white')\n",
    "ax.set_alpha(1.0)\n",
    "plt.scatter(ei_range, transfer_e)\n",
    "plt.title(\"Alpha Energy Transferred to Proton\")\n",
    "plt.xlabel(\"Alpha Energy (MeV)\")\n",
    "plt.ylabel(\"Energy Transferred to Proton (MeV)\")\n",
    "plt.show()\n",
    "\n",
    "plt.figure(2)\n",
    "ax = plt.gca()\n",
    "ax.set_facecolor('white')\n",
    "ax.set_alpha(1.0)\n",
    "plt.title(\"Scattering Angle Counts\")\n",
    "plt.xlabel(\"Scattering Angle\")\n",
    "plt.ylabel(\"Count\")\n",
    "scatter_bins = BinnedCountData(d=s_angles, num_bins = 100)\n",
    "scatter_bins.add_count_by_list(s_angles)\n",
    "plt.hist(scatter_bins.bin_edges[:-1], scatter_bins.bin_edges, weights=scatter_bins.counts, rwidth=0.8)\n",
    "plt.show()\n",
    "#plt.scatter(transfer_e, s_angles)\n",
    "#plt.xlabel(\"Energy (MeV)\")\n",
    "#plt.ylabel(\"Scattering Angle (rad)\")\n"
   ]
  },
  {
   "cell_type": "code",
   "execution_count": 174,
   "metadata": {},
   "outputs": [
    {
     "ename": "KeyboardInterrupt",
     "evalue": "",
     "output_type": "error",
     "traceback": [
      "\u001b[0;31m---------------------------------------------------------------------------\u001b[0m",
      "\u001b[0;31mKeyboardInterrupt\u001b[0m                         Traceback (most recent call last)",
      "\u001b[0;32m/tmp/ipykernel_502297/3668247400.py\u001b[0m in \u001b[0;36m<module>\u001b[0;34m\u001b[0m\n\u001b[1;32m      2\u001b[0m \u001b[0;31m# let's do a whole bunch for one alpha energy\u001b[0m\u001b[0;34m\u001b[0m\u001b[0;34m\u001b[0m\u001b[0m\n\u001b[1;32m      3\u001b[0m \u001b[0me_test\u001b[0m \u001b[0;34m=\u001b[0m \u001b[0;36m1000\u001b[0m\u001b[0;34m*\u001b[0m\u001b[0mnp\u001b[0m\u001b[0;34m.\u001b[0m\u001b[0mones\u001b[0m\u001b[0;34m(\u001b[0m\u001b[0;36m1000\u001b[0m\u001b[0;34m)\u001b[0m \u001b[0;31m#MeV\u001b[0m\u001b[0;34m\u001b[0m\u001b[0;34m\u001b[0m\u001b[0m\n\u001b[0;32m----> 4\u001b[0;31m \u001b[0mte_raw\u001b[0m \u001b[0;34m=\u001b[0m \u001b[0;34m[\u001b[0m\u001b[0menergy_transfer\u001b[0m\u001b[0;34m(\u001b[0m\u001b[0mi\u001b[0m\u001b[0;34m)\u001b[0m \u001b[0;32mfor\u001b[0m \u001b[0mi\u001b[0m \u001b[0;32min\u001b[0m \u001b[0me_test\u001b[0m\u001b[0;34m]\u001b[0m\u001b[0;34m\u001b[0m\u001b[0;34m\u001b[0m\u001b[0m\n\u001b[0m\u001b[1;32m      5\u001b[0m \u001b[0mte_proton\u001b[0m \u001b[0;34m=\u001b[0m \u001b[0;34m[\u001b[0m\u001b[0mi\u001b[0m\u001b[0;34m[\u001b[0m\u001b[0;36m1\u001b[0m\u001b[0;34m]\u001b[0m \u001b[0;32mfor\u001b[0m \u001b[0mi\u001b[0m \u001b[0;32min\u001b[0m \u001b[0mte_raw\u001b[0m\u001b[0;34m]\u001b[0m\u001b[0;34m\u001b[0m\u001b[0;34m\u001b[0m\u001b[0m\n\u001b[1;32m      6\u001b[0m \u001b[0mangs\u001b[0m \u001b[0;34m=\u001b[0m \u001b[0;34m[\u001b[0m\u001b[0mi\u001b[0m\u001b[0;34m[\u001b[0m\u001b[0;36m2\u001b[0m\u001b[0;34m]\u001b[0m \u001b[0;32mfor\u001b[0m \u001b[0mi\u001b[0m \u001b[0;32min\u001b[0m \u001b[0mte_raw\u001b[0m\u001b[0;34m]\u001b[0m\u001b[0;34m\u001b[0m\u001b[0;34m\u001b[0m\u001b[0m\n",
      "\u001b[0;32m/tmp/ipykernel_502297/3668247400.py\u001b[0m in \u001b[0;36m<listcomp>\u001b[0;34m(.0)\u001b[0m\n\u001b[1;32m      2\u001b[0m \u001b[0;31m# let's do a whole bunch for one alpha energy\u001b[0m\u001b[0;34m\u001b[0m\u001b[0;34m\u001b[0m\u001b[0m\n\u001b[1;32m      3\u001b[0m \u001b[0me_test\u001b[0m \u001b[0;34m=\u001b[0m \u001b[0;36m1000\u001b[0m\u001b[0;34m*\u001b[0m\u001b[0mnp\u001b[0m\u001b[0;34m.\u001b[0m\u001b[0mones\u001b[0m\u001b[0;34m(\u001b[0m\u001b[0;36m1000\u001b[0m\u001b[0;34m)\u001b[0m \u001b[0;31m#MeV\u001b[0m\u001b[0;34m\u001b[0m\u001b[0;34m\u001b[0m\u001b[0m\n\u001b[0;32m----> 4\u001b[0;31m \u001b[0mte_raw\u001b[0m \u001b[0;34m=\u001b[0m \u001b[0;34m[\u001b[0m\u001b[0menergy_transfer\u001b[0m\u001b[0;34m(\u001b[0m\u001b[0mi\u001b[0m\u001b[0;34m)\u001b[0m \u001b[0;32mfor\u001b[0m \u001b[0mi\u001b[0m \u001b[0;32min\u001b[0m \u001b[0me_test\u001b[0m\u001b[0;34m]\u001b[0m\u001b[0;34m\u001b[0m\u001b[0;34m\u001b[0m\u001b[0m\n\u001b[0m\u001b[1;32m      5\u001b[0m \u001b[0mte_proton\u001b[0m \u001b[0;34m=\u001b[0m \u001b[0;34m[\u001b[0m\u001b[0mi\u001b[0m\u001b[0;34m[\u001b[0m\u001b[0;36m1\u001b[0m\u001b[0;34m]\u001b[0m \u001b[0;32mfor\u001b[0m \u001b[0mi\u001b[0m \u001b[0;32min\u001b[0m \u001b[0mte_raw\u001b[0m\u001b[0;34m]\u001b[0m\u001b[0;34m\u001b[0m\u001b[0;34m\u001b[0m\u001b[0m\n\u001b[1;32m      6\u001b[0m \u001b[0mangs\u001b[0m \u001b[0;34m=\u001b[0m \u001b[0;34m[\u001b[0m\u001b[0mi\u001b[0m\u001b[0;34m[\u001b[0m\u001b[0;36m2\u001b[0m\u001b[0;34m]\u001b[0m \u001b[0;32mfor\u001b[0m \u001b[0mi\u001b[0m \u001b[0;32min\u001b[0m \u001b[0mte_raw\u001b[0m\u001b[0;34m]\u001b[0m\u001b[0;34m\u001b[0m\u001b[0;34m\u001b[0m\u001b[0m\n",
      "\u001b[0;32m/tmp/ipykernel_502297/2931580170.py\u001b[0m in \u001b[0;36menergy_transfer\u001b[0;34m(e_i)\u001b[0m\n\u001b[1;32m     26\u001b[0m     \u001b[0mm_alpha\u001b[0m \u001b[0;34m=\u001b[0m \u001b[0;36m6.646E-27\u001b[0m \u001b[0;31m# kg\u001b[0m\u001b[0;34m\u001b[0m\u001b[0;34m\u001b[0m\u001b[0m\n\u001b[1;32m     27\u001b[0m     \u001b[0mm_proton\u001b[0m \u001b[0;34m=\u001b[0m \u001b[0;36m1.6726E-27\u001b[0m \u001b[0;31m# kg\u001b[0m\u001b[0;34m\u001b[0m\u001b[0;34m\u001b[0m\u001b[0m\n\u001b[0;32m---> 28\u001b[0;31m     \u001b[0mscatter_angle\u001b[0m \u001b[0;34m=\u001b[0m \u001b[0mscattering_angle\u001b[0m\u001b[0;34m(\u001b[0m\u001b[0me_i\u001b[0m\u001b[0;34m)\u001b[0m \u001b[0;31m# in radians\u001b[0m\u001b[0;34m\u001b[0m\u001b[0;34m\u001b[0m\u001b[0m\n\u001b[0m\u001b[1;32m     29\u001b[0m     \u001b[0;31m# just identifying scatter_angle as theta_1 to match the algebra\u001b[0m\u001b[0;34m\u001b[0m\u001b[0;34m\u001b[0m\u001b[0m\n\u001b[1;32m     30\u001b[0m     \u001b[0mtheta_1\u001b[0m \u001b[0;34m=\u001b[0m \u001b[0mscatter_angle\u001b[0m\u001b[0;34m\u001b[0m\u001b[0;34m\u001b[0m\u001b[0m\n",
      "\u001b[0;32m/tmp/ipykernel_502297/1962222510.py\u001b[0m in \u001b[0;36mscattering_angle\u001b[0;34m(ke)\u001b[0m\n\u001b[1;32m     19\u001b[0m         \u001b[0mxsample\u001b[0m \u001b[0;34m=\u001b[0m \u001b[0mrandom\u001b[0m\u001b[0;34m.\u001b[0m\u001b[0muniform\u001b[0m\u001b[0;34m(\u001b[0m\u001b[0mtheta_min\u001b[0m\u001b[0;34m,\u001b[0m \u001b[0mnp\u001b[0m\u001b[0;34m.\u001b[0m\u001b[0mpi\u001b[0m\u001b[0;34m/\u001b[0m\u001b[0;36m2\u001b[0m\u001b[0;34m)\u001b[0m\u001b[0;34m\u001b[0m\u001b[0;34m\u001b[0m\u001b[0m\n\u001b[1;32m     20\u001b[0m         \u001b[0;31m# then find the scaled differential crosssection at the x-sample\u001b[0m\u001b[0;34m\u001b[0m\u001b[0;34m\u001b[0m\u001b[0m\n\u001b[0;32m---> 21\u001b[0;31m         \u001b[0mscx\u001b[0m \u001b[0;34m=\u001b[0m \u001b[0mscaled_diff_cx\u001b[0m\u001b[0;34m(\u001b[0m\u001b[0mxsample\u001b[0m\u001b[0;34m,\u001b[0m \u001b[0mke\u001b[0m\u001b[0;34m)\u001b[0m\u001b[0;34m\u001b[0m\u001b[0;34m\u001b[0m\u001b[0m\n\u001b[0m\u001b[1;32m     22\u001b[0m         \u001b[0;31m# and then return the x-sample if a random number is less than that value\u001b[0m\u001b[0;34m\u001b[0m\u001b[0;34m\u001b[0m\u001b[0m\n\u001b[1;32m     23\u001b[0m         \u001b[0;32mif\u001b[0m \u001b[0mrandom\u001b[0m\u001b[0;34m.\u001b[0m\u001b[0mrandom\u001b[0m\u001b[0;34m(\u001b[0m\u001b[0;34m)\u001b[0m \u001b[0;34m<\u001b[0m \u001b[0mscx\u001b[0m\u001b[0;34m:\u001b[0m\u001b[0;34m\u001b[0m\u001b[0;34m\u001b[0m\u001b[0m\n",
      "\u001b[0;32m/tmp/ipykernel_502297/1962222510.py\u001b[0m in \u001b[0;36mscaled_diff_cx\u001b[0;34m(theta, ke)\u001b[0m\n\u001b[1;32m     10\u001b[0m     \u001b[0mtheta_min\u001b[0m \u001b[0;34m=\u001b[0m \u001b[0;36m0.001\u001b[0m\u001b[0;34m\u001b[0m\u001b[0;34m\u001b[0m\u001b[0m\n\u001b[1;32m     11\u001b[0m     \u001b[0mscale\u001b[0m \u001b[0;34m=\u001b[0m \u001b[0;36m1\u001b[0m\u001b[0;34m/\u001b[0m\u001b[0;34m(\u001b[0m\u001b[0mdiff_cx\u001b[0m\u001b[0;34m(\u001b[0m\u001b[0mtheta_min\u001b[0m\u001b[0;34m,\u001b[0m \u001b[0mke\u001b[0m\u001b[0;34m)\u001b[0m\u001b[0;34m)\u001b[0m\u001b[0;34m\u001b[0m\u001b[0;34m\u001b[0m\u001b[0m\n\u001b[0;32m---> 12\u001b[0;31m     \u001b[0;32mreturn\u001b[0m \u001b[0mdiff_cx\u001b[0m\u001b[0;34m(\u001b[0m\u001b[0mtheta\u001b[0m\u001b[0;34m,\u001b[0m\u001b[0mke\u001b[0m\u001b[0;34m)\u001b[0m\u001b[0;34m*\u001b[0m\u001b[0mscale\u001b[0m\u001b[0;34m\u001b[0m\u001b[0;34m\u001b[0m\u001b[0m\n\u001b[0m\u001b[1;32m     13\u001b[0m \u001b[0;34m\u001b[0m\u001b[0m\n\u001b[1;32m     14\u001b[0m \u001b[0;32mdef\u001b[0m \u001b[0mscattering_angle\u001b[0m\u001b[0;34m(\u001b[0m\u001b[0mke\u001b[0m\u001b[0;34m)\u001b[0m\u001b[0;34m:\u001b[0m\u001b[0;34m\u001b[0m\u001b[0;34m\u001b[0m\u001b[0m\n",
      "\u001b[0;32m/tmp/ipykernel_502297/1962222510.py\u001b[0m in \u001b[0;36mdiff_cx\u001b[0;34m(theta, ke)\u001b[0m\n\u001b[1;32m      3\u001b[0m     \u001b[0mD\u001b[0m \u001b[0;34m=\u001b[0m \u001b[0;34m(\u001b[0m\u001b[0;34m(\u001b[0m\u001b[0;36m198.3\u001b[0m\u001b[0;34m/\u001b[0m\u001b[0;36m137\u001b[0m\u001b[0;34m)\u001b[0m \u001b[0;34m*\u001b[0m \u001b[0;34m(\u001b[0m\u001b[0;36m2\u001b[0m\u001b[0;34m*\u001b[0m\u001b[0mZ\u001b[0m\u001b[0;34m)\u001b[0m\u001b[0;34m/\u001b[0m\u001b[0mke\u001b[0m\u001b[0;34m)\u001b[0m\u001b[0;34m*\u001b[0m\u001b[0;36m1E-15\u001b[0m\u001b[0;34m\u001b[0m\u001b[0;34m\u001b[0m\u001b[0m\n\u001b[1;32m      4\u001b[0m     \u001b[0;31m#return np.pi/4 * D**2 * (np.cos(theta/2)/np.power(np.sin(theta/2),3))\u001b[0m\u001b[0;34m\u001b[0m\u001b[0;34m\u001b[0m\u001b[0m\n\u001b[0;32m----> 5\u001b[0;31m     \u001b[0;32mreturn\u001b[0m \u001b[0mnp\u001b[0m\u001b[0;34m.\u001b[0m\u001b[0mpi\u001b[0m\u001b[0;34m/\u001b[0m\u001b[0;36m8\u001b[0m \u001b[0;34m*\u001b[0m \u001b[0mD\u001b[0m\u001b[0;34m**\u001b[0m\u001b[0;36m2\u001b[0m \u001b[0;34m*\u001b[0m \u001b[0;34m(\u001b[0m\u001b[0;36m1\u001b[0m\u001b[0;34m/\u001b[0m\u001b[0mnp\u001b[0m\u001b[0;34m.\u001b[0m\u001b[0mpower\u001b[0m\u001b[0;34m(\u001b[0m\u001b[0mnp\u001b[0m\u001b[0;34m.\u001b[0m\u001b[0msin\u001b[0m\u001b[0;34m(\u001b[0m\u001b[0mtheta\u001b[0m\u001b[0;34m/\u001b[0m\u001b[0;36m2\u001b[0m\u001b[0;34m)\u001b[0m\u001b[0;34m,\u001b[0m \u001b[0;36m4\u001b[0m\u001b[0;34m)\u001b[0m\u001b[0;34m)\u001b[0m\u001b[0;34m\u001b[0m\u001b[0;34m\u001b[0m\u001b[0m\n\u001b[0m\u001b[1;32m      6\u001b[0m \u001b[0;34m\u001b[0m\u001b[0m\n\u001b[1;32m      7\u001b[0m \u001b[0;32mdef\u001b[0m \u001b[0mscaled_diff_cx\u001b[0m\u001b[0;34m(\u001b[0m\u001b[0mtheta\u001b[0m\u001b[0;34m,\u001b[0m \u001b[0mke\u001b[0m\u001b[0;34m)\u001b[0m\u001b[0;34m:\u001b[0m\u001b[0;34m\u001b[0m\u001b[0;34m\u001b[0m\u001b[0m\n",
      "\u001b[0;31mKeyboardInterrupt\u001b[0m: "
     ]
    }
   ],
   "source": [
    "# not looking good....\n",
    "# let's do a whole bunch for one alpha energy\n",
    "e_test = 20*np.ones(1000) #MeV\n",
    "te_raw = [energy_transfer(i) for i in e_test]\n",
    "te_proton = [i[1] for i in te_raw]\n",
    "angs = [i[2] for i in te_raw]\n",
    "\n",
    "plt.scatter(angs, te_proton)\n",
    "plt.show()\n"
   ]
  },
  {
   "cell_type": "code",
   "execution_count": 149,
   "metadata": {},
   "outputs": [
    {
     "name": "stdout",
     "output_type": "stream",
     "text": [
      "Couldn't find program: 'False'\n"
     ]
    }
   ],
   "source": [
    "# ok, now let's write a loop to process a lot of particles\n",
    "# using one on each thread to speed things up\n",
    "# considering this is a toy model, let's just use one thread for each particle\n",
    "\n",
    "\n",
    "def merge_hists(hists: list[BinnedCountData]):\n",
    "    low = hists[0].bin_min\n",
    "    high = hists[0].bin_max\n",
    "    n_bins = hists[0].num_bins\n",
    "    new_hist = BinnedCountData(n_bins, startpoint=low, endpoint=high)\n",
    "\n",
    "    i = 0\n",
    "    while i < n_bins:\n",
    "        new_hist.set_count_by_index(i, sum([k.counts[i] for k in hists]))\n",
    "        i += 1\n",
    "\n",
    "    return new_hist\n",
    "\n",
    "def run_sim_instance(e_0, stepsize=0.0001, nbins=80, epsilon=0.1, density=0.8562):\n",
    "    run_data = BinnedCountData(nbins, startpoint=0, endpoint=e_0)\n",
    "    scatter_sim(e_0, epsilon=epsilon, density=density, stepsize=stepsize, sim_data=run_data)\n",
    "    return run_data\n",
    "\n",
    "def sim_wrapper(arg):\n",
    "    args, kwargs = arg\n",
    "    return run_sim_instance(*args, **kwargs)\n",
    "\n",
    "def start_sim(e_0, n_particles, stepsize=0.001, nbins=40, epsilon=0.1, density=0.8562):\n",
    "    arg = (e_0, )\n",
    "    kwargs = {'stepsize': stepsize, 'nbins': nbins, 'epsilon': epsilon, 'density': density}\n",
    "    with Pool(floor((2/3)*cpu_count())) as p:\n",
    "        p_out = p.map(sim_wrapper, [(arg, kwargs) for i in range(n_particles)])\n",
    "        p.close()\n",
    "        p.join()\n",
    "\n",
    "    sim_data = merge_hists(p_out) \n",
    "    return sim_data \n",
    "\n",
    "sim_data = start_sim(14, 50000, nbins=100, stepsize=1E-4)"
   ]
  },
  {
   "cell_type": "code",
   "execution_count": 150,
   "metadata": {},
   "outputs": [
    {
     "name": "stdout",
     "output_type": "stream",
     "text": [
      "Couldn't find program: 'False'\n"
     ]
    }
   ],
   "source": [
    "# now to plot the simulation results\n",
    "#plt.stairs(sim_data.counts, sim_data.bin_edges)\n",
    "plt.hist(sim_data.bin_edges[:-1], sim_data.bin_edges, weights=sim_data.counts, rwidth=0.8)\n",
    "plt.xlabel(\"Energy\")\n",
    "plt.ylabel(\"Count\")\n",
    "plt.gca().invert_xaxis()\n",
    "plt.title(\"Event Energy Counts\")\n",
    "plt.show()"
   ]
  }
 ],
 "metadata": {
  "kernelspec": {
   "display_name": "Python 3 (ipykernel)",
   "language": "python",
   "name": "python3"
  },
  "language_info": {
   "codemirror_mode": {
    "name": "ipython",
    "version": 3
   },
   "file_extension": ".py",
   "mimetype": "text/x-python",
   "name": "python",
   "nbconvert_exporter": "python",
   "pygments_lexer": "ipython3",
   "version": "3.9.7"
  }
 },
 "nbformat": 4,
 "nbformat_minor": 2
}
