{
 "cells": [
  {
   "cell_type": "markdown",
   "metadata": {},
   "source": [
    "## SNO+ Scattering Pseudo-MC\n",
    "A simple test using known results to determine the viability of nuclear recoil\n",
    "explaining the odd behaviour at 2.2 MeV."
   ]
  },
  {
   "cell_type": "code",
   "execution_count": 1,
   "metadata": {},
   "outputs": [],
   "source": [
    "# importing the usual suspects\n",
    "import matplotlib.pyplot as plt\n",
    "import matplotlib.ticker as tck\n",
    "import pandas as pd\n",
    "import numpy as np\n",
    "from pathlib import Path\n",
    "from multiprocessing import Pool, cpu_count\n",
    "from math import floor\n",
    "import copy\n",
    "\n",
    "# for faster bin insertion\n",
    "import bisect\n",
    "\n",
    "# to dump sim results to disk\n",
    "import pickle\n",
    "\n",
    "\n",
    "\n",
    "\n",
    "# random number generation\n",
    "import random\n",
    "# i just picked an arbitrary seed here\n",
    "# if it matters it's easy to change\n",
    "random.seed(\"snoplus\")\n",
    "\n",
    "plt.rcParams['figure.figsize'] = (12, 8)\n",
    "plt.rcParams['axes.formatter.useoffset'] = False"
   ]
  },
  {
   "cell_type": "code",
   "execution_count": 331,
   "metadata": {},
   "outputs": [
    {
     "name": "stdout",
     "output_type": "stream",
     "text": [
      "         KE  electron   nuclear   total\n",
      "0    0.0180     0.691  0.068500  653.60\n",
      "1    0.0200     0.730  0.063800  682.84\n",
      "2    0.0225     0.774  0.058900  716.38\n",
      "3    0.0250     0.816  0.054800  749.06\n",
      "4    0.0275     0.856  0.051300  780.02\n",
      "..      ...       ...       ...     ...\n",
      "75  15.0000     0.430  0.000275  369.80\n",
      "76  16.0000     0.408  0.000260  350.88\n",
      "77  17.0000     0.389  0.000246  334.54\n",
      "78  18.0000     0.371  0.000234  319.06\n",
      "79  20.0000     0.341  0.000213  293.26\n",
      "\n",
      "[80 rows x 4 columns]\n"
     ]
    }
   ],
   "source": [
    "# now we read in the stopping power data from ASTAR\n",
    "stoppingpowers = pd.read_csv(Path(\"stoppingpowers/lab.csv\"))\n",
    "# rename cols to make them easier to reference\n",
    "stoppingpowers.columns = [\"KE\", \"electron\", \"nuclear\", \"total\"]\n",
    "# reindex the dataframe by kinetic energy to make lookups easier\n",
    "#stoppingpowers.set_index(\"KE\", inplace=True)\n",
    "print(stoppingpowers)"
   ]
  },
  {
   "cell_type": "markdown",
   "metadata": {},
   "source": [
    "So now we have the stopping power data available to us and formatted nicely.\n",
    "\n",
    "**NB**: the initial revision here is without scattering to get a grip on things\n",
    "\n",
    "The setup is that we have some sort of particle with a given energy E_0 (i'm not sure exactly what yet -\n",
    "need to figure that out)\n",
    "The general process goes like this:\n",
    "- Look up stopping power in the table for the energy of our event\n",
    "- Find dE (**NOTE**: need to figure out what dx will be here first - see\n",
    "  wikipedia page for stopping power)\n",
    "- Add dE to the bin for an event of that energy\n",
    "- Repeat this, as if we had an energy of E_j = E_0 - dE\n",
    "- Terminate once E_j is less than some given epsilon (generally close to zero -\n",
    "  but we will never reach zero exactly)\n",
    "\n",
    "Implementation notes: Can use recursion, but that is setting myself up for a\n",
    "nightmare so let's keep things iterative\n",
    "\n",
    "Also - how to deal with events which aren't exactly a given KE in the table.\n",
    "Data is nonlinear but describes the derivative of energy w.r.t. position - the\n",
    "function \"looks like\" it is C-infinity (ie. continuous derivatives) and differentiability\n",
    "implies linearity in a neighbourhood so a linear interpolation should be a very\n",
    "accurate estimation "
   ]
  },
  {
   "cell_type": "code",
   "execution_count": 332,
   "metadata": {},
   "outputs": [],
   "source": [
    "# Let's set up the bins for events here\n",
    "# I don't know of any prepackaged solution for this so let's write a structure\n",
    "# to hold binned data for us\n",
    "\n",
    "# this kind of seems unnecessary to me, but also I would be implementing the\n",
    "# exact same logic in a messier form otherwise so I digress\n",
    "class CountBin:\n",
    "    def __init__(self, low, high):\n",
    "        self._low = low\n",
    "        self._high = high\n",
    "        self._count = 0\n",
    "    \n",
    "    # setting properties for the bin count\n",
    "    @property\n",
    "    def count(self):\n",
    "        return self._count\n",
    "\n",
    "    @count.setter\n",
    "    def count(self, new_count):\n",
    "        self._count = new_count\n",
    "\n",
    "    # increment and decrement convenience functions\n",
    "    def increment(self):\n",
    "        self.count = self._count + 1       \n",
    "\n",
    "    def decrement(self):\n",
    "        self.count = self._count - 1\n",
    "\n",
    "    # properties for bin bounds\n",
    "    @property\n",
    "    def low_range(self):\n",
    "        return self._low\n",
    "\n",
    "    @property\n",
    "    def high_range(self):\n",
    "        return self._high\n",
    "\n",
    "    def __str__(self):\n",
    "        return f\"CountBin(low={self.low_range}, high={self.high_range}, count={self.count})\"\n",
    "    \n",
    "\n",
    "class BinnedCountData:\n",
    "    def __init__(self, num_bins, d=None, startpoint=0, endpoint=1):\n",
    "        if d != None:\n",
    "            low = min(d)\n",
    "            high = max(d)\n",
    "        else:\n",
    "            low = startpoint\n",
    "            high = endpoint\n",
    "\n",
    "        self.binEdges = np.linspace(low, high, num_bins+1)\n",
    "        self.bins = []\n",
    "        i = 0\n",
    "        while i < len(self.binEdges)-1:\n",
    "            self.bins.append(CountBin(self.binEdges[i], self.binEdges[i+1]))\n",
    "            i += 1\n",
    "\n",
    "        if d != None:\n",
    "            self.add_count_by_list(d)\n",
    "\n",
    "\n",
    "    def get_bin_index(self, v):\n",
    "        #i = 0\n",
    "        #while i < len(self.binEdges) - 1:\n",
    "        #    if v <= self.binEdges[i+1]:\n",
    "        #        return i\n",
    "        #    i += 1\n",
    "        return (bisect.bisect_left(self.bin_edges, v) - 1)\n",
    "\n",
    "    @property\n",
    "    def bin_min(self):\n",
    "        return min(self.binEdges)\n",
    "    \n",
    "    @property\n",
    "    def bin_max(self):\n",
    "        return max(self.binEdges)\n",
    "\n",
    "    @property\n",
    "    def bin_edges(self):\n",
    "        return self.binEdges\n",
    "\n",
    "    @property\n",
    "    def num_bins(self):\n",
    "        return len(self.bins)\n",
    "\n",
    "    # add a value to the correct count bin\n",
    "    def add_count_by_value(self, v):\n",
    "        # TODO is there a faster algorithm for this?\n",
    "        self.bins[self.get_bin_index(v)].increment()\n",
    "\n",
    "    # count an entire list\n",
    "    def add_count_by_list(self, l):\n",
    "        for i in l:\n",
    "            self.add_count_by_value(i)\n",
    "\n",
    "    def set_count_by_index(self, idx, c):\n",
    "        self.bins[idx].count = c\n",
    "\n",
    "    @property\n",
    "    def counts(self):\n",
    "        return [i.count for i in self.bins]\n",
    "\n",
    "    def get_count_by_value(self, v):\n",
    "        # get count of a bin some value is in\n",
    "        return self.bins[self.get_bin_index(v)].count"
   ]
  },
  {
   "cell_type": "code",
   "execution_count": 333,
   "metadata": {},
   "outputs": [],
   "source": [
    "# and a helper function to merge histograms\n",
    "def merge_hists(hists: list[BinnedCountData]):\n",
    "    low = hists[0].bin_min\n",
    "    high = hists[0].bin_max\n",
    "    n_bins = hists[0].num_bins\n",
    "    new_hist = BinnedCountData(n_bins, startpoint=low, endpoint=high)\n",
    "\n",
    "    i = 0\n",
    "    while i < n_bins:\n",
    "        new_hist.set_count_by_index(i, sum([k.counts[i] for k in hists]))\n",
    "        i += 1\n",
    "\n",
    "    return new_hist"
   ]
  },
  {
   "cell_type": "markdown",
   "metadata": {},
   "source": [
    "Now we do the linear interpolation of the ASTAR data\n",
    "Although the data is nonlinear, this is still decently accurate since it is a differentiable function "
   ]
  },
  {
   "cell_type": "code",
   "execution_count": 334,
   "metadata": {},
   "outputs": [],
   "source": [
    "# now to do the linear interpolation for the ASTAR dataset\n",
    "def stp_interp(e, stp=stoppingpowers):\n",
    "    # NOTE this assumes that the stopping powers are sorted\n",
    "    # we get them this way from ASTAR so it's not an issue, but we can fix that if need be\n",
    "    for k in stp.index:\n",
    "        if e <= stp[\"KE\"][k+1] and e >= stp[\"KE\"][k]:\n",
    "            ke_low = stp[\"KE\"][k]\n",
    "            sp_low = stp[\"total\"][k]\n",
    "            ke_high = stp[\"KE\"][k+1]\n",
    "            sp_high = stp[\"total\"][k+1]\n",
    "            return ((sp_high - sp_low)/(ke_high - ke_low)) * e + sp_low\n",
    "        else:\n",
    "            return ((list(stp[\"total\"])[-1])/list(stp[\"KE\"])[-1])*e\n",
    "\n"
   ]
  },
  {
   "cell_type": "markdown",
   "metadata": {},
   "source": [
    "Here we define a function to compute the scattering probability for each event\n",
    "\n",
    "*NB:* See http://hyperphysics.phy-astr.gsu.edu/hbase/Nuclear/crosec2.html#c1"
   ]
  },
  {
   "cell_type": "code",
   "execution_count": 69,
   "metadata": {},
   "outputs": [
    {
     "name": "stdout",
     "output_type": "stream",
     "text": [
      "1.3776430011252145e-08\n"
     ]
    }
   ],
   "source": [
    "def scattering_probability(ke, dx, density=0.8652, mol_wt = 246.43):\n",
    "    sample_dim = 1 # cm\n",
    "\n",
    "    N_A = 6.02214E23 # mol^-1, avogadro's constant\n",
    "    rho = density # g/cm^3, see above\n",
    "    #n = ((N_A/mol_wt) * rho)*(sample_dim**2)*dx\n",
    "    n = N_A/(mol_wt) * dx * rho\n",
    "    Z = 1 \n",
    "\n",
    "    D = ((197.3/137) * (2*Z)/ke)*1E-15\n",
    "    # the 140.646 comes from integrating the differential cx expression in\n",
    "    # 02_rutherford\n",
    "    # here we only account for scattering > 10 degrees (around 0.1745 rad)\n",
    "    sigma = 4E6*4*np.pi*np.power(D, 2)\n",
    "    #print(sigma*10E24)\n",
    "    #sigma = 524.582*4*np.pi*np.power(D, 2)\n",
    "    # total particle effective area\n",
    "    eff_a = sigma*n\n",
    "\n",
    "    # the total area\n",
    "    total_a = sample_dim**2\n",
    "    return eff_a/total_a"
   ]
  },
  {
   "cell_type": "markdown",
   "metadata": {},
   "source": [
    "Let's re-do the scattering probability. For now, we're going to use some\n",
    "experimental results and see if we have to rework that later."
   ]
  },
  {
   "cell_type": "code",
   "execution_count": 72,
   "metadata": {},
   "outputs": [
    {
     "data": {
      "text/plain": [
       "4.0454650119135616e-08"
      ]
     },
     "execution_count": 72,
     "metadata": {},
     "output_type": "execute_result"
    }
   ],
   "source": [
    "def scattering_probability(ke, dx, density=0.8562, mol_wt=246.43, fname='diffcx_new.csv'):\n",
    "\n",
    "    # TODO need to chop off angles we don't need anymore\n",
    "    exp_cx = pd.read_csv(fname)\n",
    "    sample_dim = 1\n",
    "\n",
    "    r_sum = 0\n",
    "\n",
    "    i = 0\n",
    "    z = list(zip(exp_cx[\"theta\"], exp_cx['sigma']))\n",
    "    # let's numerically integrate\n",
    "    # with something like a riemann sum (although with none of that sup or inf nonsense)\n",
    "    while i < len(z) - 1:\n",
    "        rs = z[i+1]\n",
    "        ls = z[i]\n",
    "        r_sum += abs((rs[0] - ls[0]))*(ls[1]*0.001)\n",
    "        i += 1\n",
    "    sigma = r_sum*(1E-24)\n",
    "\n",
    "    # now let's do the same stuff as before to determine the probability\n",
    "    N_A = 6.02214E23 # mol^-1, avogadro's constant\n",
    "    rho = density # g/cm^3, see above\n",
    "    n = N_A/(mol_wt) * dx * rho\n",
    "\n",
    "    eff_a = sigma*n\n",
    "    total_a = sample_dim**2\n",
    "    return eff_a/total_a\n"
   ]
  },
  {
   "cell_type": "markdown",
   "metadata": {},
   "source": [
    "And now let's write a function to sample from the differential cross-section as a distribution"
   ]
  },
  {
   "cell_type": "code",
   "execution_count": 73,
   "metadata": {},
   "outputs": [],
   "source": [
    "\n",
    "\"\"\"\n",
    "def diff_cx(theta, ke):\n",
    "    Z = 1 \n",
    "    D = ((198.3/137) * (2*Z)/ke)*1E-15\n",
    "    print(D)\n",
    "    #return np.pi/4 * D**2 * (np.cos(theta/2)/np.power(np.sin(theta/2),3))\n",
    "    return np.pi/8 * D**2 * (1/np.power(np.sin(theta/2), 4))\n",
    "\"\"\"\n",
    "\n",
    "# now let's redo the differential cross-section\n",
    "# this time, we just interpolate the values from the csv\n",
    "# although the ke argument is redundant, I'd rather just keep the same function\n",
    "# signature to make my life easier\n",
    "def diff_cx(theta, ke, fname=\"diffcx_new.csv\") -> np.float64:\n",
    "    exp_cx = pd.read_csv(fname)\n",
    "    for k in exp_cx.index:\n",
    "        if theta < exp_cx[\"theta\"][k+1] and theta >= exp_cx['theta'][k]:\n",
    "            theta_low = exp_cx['theta'][k]\n",
    "            cx_low = exp_cx['sigma'][k]\n",
    "            theta_high = exp_cx['theta'][k]\n",
    "            cx_high = exp_cx['sigma'][k]\n",
    "            return ((cx_high - cx_low)/(theta_high - theta_low))*theta\n",
    "        else:\n",
    "            return (list(exp_cx['sigma'])[-1]/list(exp_cx['sigma'])[-1])*theta\n",
    "    \n",
    "\n",
    "def scaled_diff_cx(theta, ke):\n",
    "    # luckily, our differential crossection is a decreasing function on the interval we care about\n",
    "    # so, we just take the left endpoint as our x-value\n",
    "    theta_min = 0.001\n",
    "    scale = 1/(diff_cx(theta_min, ke))\n",
    "    return diff_cx(theta,ke)*scale\n",
    "\n",
    "def scattering_angle(ke):\n",
    "    theta_min = 0.001\n",
    "    Z = 48\n",
    "    while True:\n",
    "        # first we sample from a uniform distribution of valid x-values\n",
    "        xsample = random.uniform(theta_min, np.pi/2)\n",
    "        # then find the scaled differential crosssection at the x-sample\n",
    "        scx = scaled_diff_cx(xsample, ke)\n",
    "        # and then return the x-sample if a random number is less than that value\n",
    "        if random.random() < scx:\n",
    "            return xsample"
   ]
  },
  {
   "cell_type": "markdown",
   "metadata": {},
   "source": [
    "Now let's sort out the transferred energy. In my notes I have the long\n",
    "derivation for 2-d elastic collisions but that can be found in any classical\n",
    "mechanics textbook.\n",
    "\n",
    "Note that the initial velocity of the alpha particle is given since the initial\n",
    "energy is known, and the scattering angle is sampled from the distribution given\n",
    "by the differential crosssection.\n",
    "\n",
    "Let\n",
    "$$ \\kappa = \\frac{m_{\\alpha}}{m_{p}} $$\n",
    "\n",
    "Then, we have\n",
    "$$\n",
    "    v_{\\alpha}^{\\prime} = v_{\\alpha}\\frac{( \\sqrt{1 - \\kappa^2\\sin^2{\\theta_1}} )}{1 + \\kappa}\n",
    "$$\n",
    "\n",
    "where $\\theta_1$ is the scattering angle of the alpha, $\\theta_2$ the angle of\n",
    "the proton, primed velocities are final and unprimed are initial.\n",
    "\n",
    "Now, using this and the intial equations we can find a relation describing\n",
    "$\\theta_2$. We have\n",
    "\n",
    "$$\n",
    "    \\tan{\\theta_2} = \\frac{v_{\\alpha}^{\\prime}\\sin{\\theta_1}}{v_{\\alpha} - v_{\\alpha}^{\\prime}\\cos{\\theta_1}}\n",
    "$$\n",
    "\n",
    "Finally, using these two we may find the final proton velocity\n",
    "\n",
    "$$\n",
    "v_{p}^{\\prime} = \\kappa v_{\\alpha}\\frac{\\sin{\\theta_1}}{\\sin{\\theta_2}}\n",
    "$$\n",
    "\n",
    "Yielding the final velocities of each particle.\n",
    "After this, it's just a matter of substituting that velocity into the kinetic\n",
    "energy expression using the appropriate mass."
   ]
  },
  {
   "cell_type": "code",
   "execution_count": 337,
   "metadata": {},
   "outputs": [],
   "source": [
    "def energy_transfer(e_i, scatter_angle=None):\n",
    "    # TODO need to handle the case where alpha does not deflect (or has a very\n",
    "    # small deflection angle?)\n",
    "    # returns a tuple with the new alpha-energy and proton-energy in coordinate\n",
    "    # 0 and 1 respectively\n",
    "    # as well as the scattering angle (if we need it later) in pos. 2\n",
    "    m_alpha = 6.646E-27 # kg\n",
    "    m_proton = 1.6726E-27 # kg\n",
    "\n",
    "    if scatter_angle is None:\n",
    "        scatter_angle = scattering_angle(e_i)\n",
    "    # just identifying scatter_angle as theta_1 to match the algebra\n",
    "    theta_1 = scatter_angle\n",
    "\n",
    "    kappa = m_alpha/m_proton\n",
    "\n",
    "    # need to convert mev to joules \n",
    "    mev_to_j = 1.602176e-13\n",
    "    ei_j = e_i * mev_to_j\n",
    "    valpha_i = np.sqrt((2*ei_j)/m_alpha)\n",
    "\n",
    "    # TODO compute both + and - solns, take whichever satisfies conservation of energy\n",
    "    # breaking this up into two parts\n",
    "    try:\n",
    "        gamma = (1/(1+kappa))*np.sqrt((kappa**2)*(valpha_i**2)*(np.cos(theta_1)**2) - (kappa**2 - 1)*(valpha_i**2))\n",
    "    except:\n",
    "        print(theta_1)\n",
    "        return (0, 0, 0)\n",
    "    #valpha_f = (1/(1+kappa))*(valpha_i*kappa*np.cos(theta_1)) + gamma\n",
    "    valpha_f = (1/(1+kappa))*(kappa*valpha_i*np.cos(theta_1)) - gamma\n",
    "\n",
    "    theta_2 = np.arctan((valpha_f*np.sin(theta_1))/(valpha_i - valpha_f*np.cos(theta_1)))\n",
    "    \n",
    "    vproton_f = (kappa*valpha_f*np.sin(theta_1))/(np.sin(theta_2))\n",
    "\n",
    "    # and now convert back to mev\n",
    "    ea_f = 0.5*m_alpha*(valpha_f**2)*(1/mev_to_j)\n",
    "    ep_f = 0.5*m_proton*(vproton_f**2)*(1/mev_to_j)\n",
    "\n",
    "    return (ea_f, ep_f, theta_1)"
   ]
  },
  {
   "cell_type": "markdown",
   "metadata": {},
   "source": [
    "And, we also have to re-write the energy transfer function since the\n",
    "cross-section assumes things are in the CM frame.\n",
    "\n",
    "I'm just going to take the solution from wikipedia here (and hope it works)\n",
    "instead of doing the derivation myself this time. If I have to do it in the lab\n",
    "frame then so be it, but I'd like to not."
   ]
  },
  {
   "cell_type": "code",
   "execution_count": 84,
   "metadata": {},
   "outputs": [],
   "source": [
    "def energy_transfer(e_i, scatter_angle=None):\n",
    "    m_alpha = 6.646E-27 # kg\n",
    "    m_proton = 1.6726E-27 # kg\n",
    "\n",
    "    mev_to_j = 1.602176e-13\n",
    "    ei_j = e_i * mev_to_j\n",
    "\n",
    "    if scatter_angle is None:\n",
    "        scatter_angle = scattering_angle(e_i)\n",
    "    # just identifying scatter_angle as theta_1 to match the algebra\n",
    "    # this is in the lab frame\n",
    "    Theta = scatter_angle\n",
    "\n",
    "    # and now we determine the final velocity of the alpha in the lab frame\n",
    "\n",
    "    # first thing we need to do is to work out the velocity of the alpha\n",
    "    # particle in the lab frame\n",
    "    #valpha_i_lab = np.sqrt(2*ei_j/m_alpha)\n",
    "    # note that the initial proton velocity in the lab frame is 0\n",
    "    #valpha_f_lab = (np.sqrt((m_proton**2 + 2*(m_proton**2)*(m_alpha**2)*np.cos(Theta) + m_alpha**2))/(m_proton + m_alpha))*(valpha_i_lab)\n",
    "    #vproton_f_lab = \n",
    "    frac_energy = 2*m_alpha*m_proton*(np.cos(Theta) - 1)/((m_alpha + m_proton)**2)\n",
    "    valpha_i = np.sqrt(2*ei_j/m_alpha)\n",
    "    valpha_f = valpha_i * frac_energy\n",
    "    vproton_f = (1-frac_energy)*valpha_i\n",
    "\n",
    "    eproton_f = (1/mev_to_j)*0.5*m_proton*(vproton_f**2)\n",
    "    ealpha_f = (1/mev_to_j)*0.5*m_alpha*(valpha_f**2)\n",
    "\n",
    "    theta_1 = np.arctan(m_proton*np.sin(Theta)/(np.cos(Theta) -\n",
    "    (m_alpha/m_proton)))\n",
    "\n",
    "    return (ealpha_f, eproton_f, theta_1)\n",
    "\n",
    "    \n",
    "    # and now to determine the velocity of the center of mass\n",
    "    #v_cm = (m_alpha*valpha_i_lab)/(m_alpha + m_proton)\n"
   ]
  },
  {
   "cell_type": "markdown",
   "metadata": {},
   "source": [
    "Now, let's write the function that does the simulation"
   ]
  },
  {
   "cell_type": "code",
   "execution_count": 338,
   "metadata": {},
   "outputs": [],
   "source": [
    "def scatter_sim(e_0: float, alpha_path = list, stepsize=0.001, density=0.8562) -> tuple[list, list, list]:\n",
    "    # TODO add ability to get scattering angles out\n",
    "    # we can do the binning/etc later\n",
    "\n",
    "    # let's set both quenchin factors to 1 in here so we can tune them later\n",
    "    a_path = copy.deepcopy(alpha_path)\n",
    "    proton_event_path = []\n",
    "    e_i = e_0\n",
    "    # The alpha energy path is completely deterministic, so to speed things up\n",
    "    # let's pre-bake it. Then, for each step we can do the scattering stuff\n",
    "    #while e_i > epsilon:\n",
    "    #    alpha_path.append(e_i)\n",
    "    #    e_i = e_i - stp_interp(e_i)*stepsize\n",
    "\n",
    "    # great, so now we have our pre-baked alpha energy\n",
    "    # now we can iterate over the list and do the proton scattering\n",
    "    scatter_e = []\n",
    "    for s in range(len(a_path)):\n",
    "        if scattering_probability(e_i, stepsize, density=density) > random.random():\n",
    "            scatter_angle = scattering_angle(s)\n",
    "            transfer_e = energy_transfer(a_path[s], scatter_angle=scatter_angle)\n",
    "            a_path[s] = transfer_e[0]\n",
    "            proton_event_path.append(transfer_e[1])\n",
    "            scatter_e.append( (scatter_angle, transfer_e[1]) )\n",
    "\n",
    "    return (alpha_path, proton_event_path, scatter_e)\n",
    "\n",
    "def gen_alpha_path(e_0, epsilon=0.1, stepsize=0.001) -> list:\n",
    "    e_i = e_0\n",
    "    alpha_path = []\n",
    "    while e_i > epsilon:\n",
    "        alpha_path.append(e_i)\n",
    "        e_i = e_i - stp_interp(e_i)*stepsize\n",
    "    return alpha_path\n",
    "\n",
    "def quenched_spectrum(sim_data: tuple[list, list], proton_factor: float, alpha_factor: float=0.1) -> list:\n",
    "    q_spec = []\n",
    "    a_diffs = []\n",
    "    a = 1\n",
    "    while a < len(sim_data[0]):\n",
    "        a_diffs.append(abs(sim_data[0][a] - sim_data[0][a-1]))\n",
    "        a += 1\n",
    "    q_spec.append( sum( [alpha_factor*j for j in a_diffs] + [proton_factor*k for k in sim_data[1]] ) )\n",
    "    print(a_diffs[0:200])\n",
    "    return q_spec\n"
   ]
  },
  {
   "cell_type": "code",
   "execution_count": 85,
   "metadata": {},
   "outputs": [
    {
     "data": {
      "image/png": "[encoded data removed]",
      "text/plain": [
       "<Figure size 864x576 with 1 Axes>"
      ]
     },
     "metadata": {
      "needs_background": "light"
     },
     "output_type": "display_data"
    }
   ],
   "source": [
    "s_et_xrange = np.linspace(0.15, 0.2, 100)\n",
    "t_e = [energy_transfer(8, i)[1] for i in s_et_xrange]\n",
    "plt.scatter(s_et_xrange, t_e)\n",
    "plt.xlabel(\"Scattering Angle (rad)\")\n",
    "plt.ylabel(\"Proton Energy (MeV)\")\n",
    "plt.title(\"Energy Transferred to Proton vs. Scattering Angle\")\n",
    "plt.tight_layout()\n",
    "plt.savefig(\"etransfer_negative_soln.jpg\")\n",
    "plt.show()"
   ]
  },
  {
   "cell_type": "markdown",
   "metadata": {},
   "source": [
    "Let's compute some potential energy transfer values to the proton, before we run\n",
    "a long and computationally heavy simulation"
   ]
  },
  {
   "cell_type": "code",
   "execution_count": 340,
   "metadata": {},
   "outputs": [
    {
     "data": {
      "image/png": "[encoded data removed]",
      "text/plain": [
       "<Figure size 864x576 with 1 Axes>"
      ]
     },
     "metadata": {
      "needs_background": "light"
     },
     "output_type": "display_data"
    },
    {
     "data": {
      "image/png": "[encoded data removed]",
      "text/plain": [
       "<Figure size 864x576 with 1 Axes>"
      ]
     },
     "metadata": {
      "needs_background": "light"
     },
     "output_type": "display_data"
    },
    {
     "data": {
      "text/plain": [
       "<matplotlib.collections.PathCollection at 0x7fa69fc0a640>"
      ]
     },
     "execution_count": 340,
     "metadata": {},
     "output_type": "execute_result"
    },
    {
     "data": {
      "image/png": "[encoded data removed]",
      "text/plain": [
       "<Figure size 864x576 with 1 Axes>"
      ]
     },
     "metadata": {
      "needs_background": "light"
     },
     "output_type": "display_data"
    }
   ],
   "source": [
    "ei_range = np.linspace(1, 14, 1000)\n",
    "#ei_range = 14*np.ones(500)\n",
    "with Pool(int(0.75*cpu_count())) as p:\n",
    "    transfer_e_raw = p.map(energy_transfer, ei_range)\n",
    "transfer_e = [i[1] for i in transfer_e_raw]\n",
    "s_angles = [i[2] for i in transfer_e_raw]\n",
    "#print(s_angles)\n",
    "\n",
    "#print(energy_transfer(8)[1])\n",
    "#print(transfer_e)\n",
    "#etransfer_bins = BinnedCountData(d=transfer_e, num_bins=20)\n",
    "#etransfer_bins.add_count_by_list(transfer_e)\n",
    "\n",
    "#plt.hist(etransfer_bins.bin_edges[:-1], etransfer_bins.bin_edges, weights=etransfer_bins.counts, rwidth=0.8)\n",
    "ax = plt.gca()\n",
    "ax.set_facecolor('white')\n",
    "ax.set_alpha(1.0)\n",
    "plt.scatter(ei_range, transfer_e)\n",
    "plt.title(\"Alpha Energy Transferred to Proton\")\n",
    "plt.xlabel(\"Alpha Energy (MeV)\")\n",
    "plt.ylabel(\"Energy Transferred to Proton (MeV)\")\n",
    "plt.show()\n",
    "\n",
    "plt.figure(2)\n",
    "ax = plt.gca()\n",
    "ax.set_facecolor('white')\n",
    "ax.set_alpha(1.0)\n",
    "plt.title(\"Scattering Angle Counts\")\n",
    "plt.xlabel(\"Scattering Angle\")\n",
    "plt.ylabel(\"Count\")\n",
    "scatter_bins = BinnedCountData(d=s_angles, num_bins = 100)\n",
    "scatter_bins.add_count_by_list(s_angles)\n",
    "plt.hist(scatter_bins.bin_edges[:-1], scatter_bins.bin_edges, weights=scatter_bins.counts, rwidth=0.8)\n",
    "plt.show()\n",
    "#plt.scatter(transfer_e, s_angles)\n",
    "#plt.xlabel(\"Energy (MeV)\")\n",
    "#plt.ylabel(\"Scattering Angle (rad)\")\n",
    "\n",
    "plt.figure(3)\n",
    "plt.title(\"Proton Energy vs. Scattering Angle\")\n",
    "plt.xlabel(\"Scattering Angle (rad)\")\n",
    "plt.ylabel(\"Proton Energy (MeV)\")\n",
    "plt.savefig(\"etransfer_better.jpg\")\n",
    "plt.scatter(s_angles, transfer_e)"
   ]
  },
  {
   "cell_type": "code",
   "execution_count": 341,
   "metadata": {},
   "outputs": [
    {
     "data": {
      "image/png": "[encoded data removed]",
      "text/plain": [
       "<Figure size 864x576 with 1 Axes>"
      ]
     },
     "metadata": {
      "needs_background": "light"
     },
     "output_type": "display_data"
    }
   ],
   "source": [
    "# let's compute energy transfer for a fixed energy and a bunch of different\n",
    "# scattering angles\n",
    "e_i = 14\n",
    "s_angle_range = np.linspace(0.01, 0.25, 200)\n",
    "proton_e = [energy_transfer(14, scatter_angle=i)[1] for i in s_angle_range]\n",
    "\n",
    "plt.scatter(s_angle_range, proton_e)\n",
    "plt.xlabel(\"Scattering Angle (rad)\")\n",
    "plt.ylabel(\"Proton Energy (MeV)\")\n",
    "plt.title(\"Scattering Angle vs. Proton Energy\")\n",
    "plt.tight_layout()\n",
    "plt.savefig(\"pe_v_sa_good.jpg\")\n",
    "plt.show()"
   ]
  },
  {
   "cell_type": "code",
   "execution_count": 342,
   "metadata": {},
   "outputs": [],
   "source": [
    "# ok, now let's write a loop to process a lot of particles\n",
    "# using one on each thread to speed things up\n",
    "# considering this is a toy model, let's just use one thread for each particle\n",
    "\n",
    "def run_sim_instance(e_0, alpha_path, stepsize=0.0001, nbins=80, epsilon=0.1, density=0.8562):\n",
    "    run_data = scatter_sim(e_0, alpha_path, density=density, stepsize=stepsize)\n",
    "    return run_data\n",
    "\n",
    "def sim_wrapper(arg):\n",
    "    args, kwargs = arg\n",
    "    return run_sim_instance(*args, **kwargs)\n",
    "\n",
    "def start_sim(e_0, n_particles, stepsize=0.001, nbins=40, epsilon=0.1, density=0.8562):\n",
    "    alpha_path = gen_alpha_path(e_0, epsilon=epsilon, stepsize=stepsize)\n",
    "    arg = (e_0, alpha_path)\n",
    "    kwargs = {'stepsize': stepsize, 'nbins': nbins, 'epsilon': epsilon, 'density': density}\n",
    "    with Pool(floor((2/3)*cpu_count())) as p:\n",
    "        sim_data = p.map(sim_wrapper, [(arg, kwargs) for i in range(n_particles)])\n",
    "        p.close()\n",
    "        p.join()\n",
    "\n",
    "    return sim_data\n",
    "\n",
    "sim_data = start_sim(8, 5000, nbins=50, stepsize=1E-6)\n",
    "\n",
    "# this is a big sim, let's pickle the output so we can retrieve it later\n",
    "#with open(\"100k_8MeV_Alphas_Redux\", \"wb\") as fp:\n",
    "#    pickle.dump(sim_data, fp)"
   ]
  },
  {
   "cell_type": "code",
   "execution_count": 343,
   "metadata": {},
   "outputs": [],
   "source": [
    "e_angles = []\n",
    "for k in sim_data:\n",
    "    e_angles.extend(k[2])"
   ]
  },
  {
   "cell_type": "code",
   "execution_count": null,
   "metadata": {},
   "outputs": [],
   "source": [
    "plt.scatter(*zip(*e_angles))\n",
    "plt.ylabel(\"Proton Energy\")\n",
    "plt.xlabel(\"Scattering Angle\")\n",
    "plt.title(\"Proton Energy vs. Scattering Angle (5k Alphas, $10^{-7}$ Stepsize)\")\n",
    "plt.tight_layout()\n",
    "plt.show()"
   ]
  },
  {
   "cell_type": "code",
   "execution_count": 345,
   "metadata": {},
   "outputs": [
    {
     "data": {
      "text/plain": [
       "<matplotlib.collections.PathCollection at 0x7fa679f941f0>"
      ]
     },
     "execution_count": 345,
     "metadata": {},
     "output_type": "execute_result"
    },
    {
     "data": {
      "image/png": "[encoded data removed]",
      "text/plain": [
       "<Figure size 864x576 with 1 Axes>"
      ]
     },
     "metadata": {
      "needs_background": "light"
     },
     "output_type": "display_data"
    }
   ],
   "source": [
    "protone = []\n",
    "for x in sim_data:\n",
    "    if x[2] != []:\n",
    "        protone.append(x[2])\n",
    "\n",
    "protone_ang = [x[0][0] for x in protone]\n",
    "protone_e = [x[0][1] for x in protone]\n",
    "plt.scatter(protone_ang, protone_e)"
   ]
  },
  {
   "cell_type": "code",
   "execution_count": 346,
   "metadata": {},
   "outputs": [
    {
     "name": "stdout",
     "output_type": "stream",
     "text": [
      "[0.00011730399999976271, 0.00011730227997119869, 0.00011730055996839184, 0.0001172988399895658, 0.00011729712003738513, 0.00011729540010918527, 0.00011729368020674258, 0.00011729196033005707, 0.00011729024047735237, 0.00011728852065129303, 0.0001172868008492145, 0.00011728508107289315, 0.0001172833613214408, 0.00011728164159574561, 0.00011727992189491943, 0.00011727820221985041, 0.0001172764825696504, 0.00011727476294431938, 0.00011727304334474553, 0.00011727132377004068, 0.00011726960422020483, 0.00011726788469612615, 0.00011726616519691646, 0.00011726444572346395, 0.00011726272627488044, 0.00011726100685116592, 0.00011725928745320857, 0.00011725756808012022, 0.00011725584873278905, 0.00011725412941032687, 0.00011725241011273368, 0.00011725069084089768, 0.00011724897159393066, 0.00011724725237272082, 0.0001172455331754918, 0.00011724381400490813, 0.00011724209485830528, 0.0001172403757374596, 0.0001172386566423711, 0.00011723693757126341, 0.00011723521852680108, 0.00011723349950631956, 0.00011723178051159522, 0.00011723006154173987, 0.0001172283425976417, 0.00011722662367841252, 0.00011722490478494052, 0.00011722318591544933, 0.00011722146707171532, 0.00011721974825373849, 0.00011721802946063065, 0.0001172163106923918, 0.00011721459194991013, 0.00011721287323229745, 0.00011721115453955377, 0.00011720943587256727, 0.00011720771723044976, 0.00011720599861408942, 0.00011720428002259808, 0.00011720256145597574, 0.00011720084291511057, 0.0001171991243991144, 0.00011719740590798722, 0.00011719568744261721, 0.0001171939690021162, 0.00011719225058737237, 0.00011719053219749753, 0.00011718881383249169, 0.00011718709549324302, 0.00011718537717886335, 0.00011718365888935267, 0.00011718194062559917, 0.00011718022238671466, 0.00011717850417269915, 0.00011717678598444081, 0.00011717506782105147, 0.0001171733496834193, 0.00011717163157065613, 0.00011716991348276196, 0.00011716819542062495, 0.00011716647738335695, 0.00011716475937095794, 0.0001171630413843161, 0.00011716132342254326, 0.00011715960548563942, 0.00011715788757449275, 0.00011715616968821507, 0.00011715445182769457, 0.00011715273399204307, 0.00011715101618126056, 0.00011714929839623522, 0.00011714758063607889, 0.00011714586290079154, 0.00011714414519126137, 0.0001171424275066002, 0.00011714070984680802, 0.00011713899221277302, 0.00011713727460360701, 0.00011713555702019818, 0.00011713383946165834, 0.0001171321219279875, 0.00011713040441918565, 0.00011712868693614098, 0.00011712696947885348, 0.0001171252520455468, 0.0001171235346379973, 0.00011712181725620496, 0.00011712009989839345, 0.00011711838256633911, 0.00011711666526004194, 0.00011711494797772559, 0.00011711323072116642, 0.00011711151349036442, 0.00011710979628443141, 0.0001171080791033674, 0.00011710636194717239, 0.00011710464481673455, 0.0001171029277111657, 0.00011710121063135404, 0.00011709949357641136, 0.00011709777654633768, 0.00011709605954202118, 0.0001170943425616855, 0.00011709262560799516, 0.00011709090867828564, 0.0001170891917743333, 0.00011708747489613813, 0.00011708575804192378, 0.0001170840412134666, 0.0001170823244107666, 0.00011708060763204742, 0.0001170788908790854, 0.00011707717415188057, 0.00011707545744865655, 0.0001170737407711897, 0.00011707202411948003, 0.00011707030749175118, 0.0001170685908897795, 0.000117066874313565, 0.00011706515776221948, 0.00011706344123574297, 0.00011706172473413545, 0.00011706000825828511, 0.00011705829180730376, 0.00011705657538119141, 0.00011705485898083623, 0.00011705314260535005, 0.00011705142625562104, 0.00011704970992987285, 0.00011704799363077001, 0.00011704627735564799, 0.00011704456110628314, 0.00011704284488178729, 0.00011704112868216043, 0.00011703941250829075, 0.00011703769635929007, 0.00011703598023604656, 0.00011703426413678386, 0.00011703254806416652, 0.00011703083201553, 0.00011702911599265065, 0.00011702739999464029, 0.00011702568402149893, 0.00011702396807411475, 0.00011702225215159956, 0.00011702053625395337, 0.00011701882038206435, 0.00011701710453504433, 0.00011701538871378148, 0.00011701367291649944, 0.00011701195714497459, 0.0001170102413992069, 0.00011700852567742004, 0.00011700680998139035, 0.00011700509431111783, 0.00011700337866571431, 0.0001170016630442916, 0.00011699994744951425, 0.00011699823187871772, 0.00011699651633367836, 0.00011699480081439617, 0.0001169930853190948, 0.00011699136984955061, 0.00011698965440487541, 0.00011698793898595738, 0.00011698622359190836, 0.00011698450822272832, 0.00011698279287930546, 0.0001169810775607516, 0.00011697936226706673, 0.00011697764699825086, 0.00011697593175519216, 0.00011697421653700246, 0.00011697250134368176, 0.00011697078617611822, 0.00011696907103342369, 0.00011696735591648633, 0.00011696564082352978, 0.00011696392575633041, 0.00011696221071488822]\n",
      "[0.7899999905322703]\n"
     ]
    }
   ],
   "source": [
    "\"\"\"\n",
    "with Pool(floor(cpu_count()*(2/3))) as p:\n",
    "    q_spec = p.map(quenched_spectrum, sim_data)\n",
    "    p.close()\n",
    "    p.join()\n",
    "q_spec = [l for ls in q_spec for l  in ls]\n",
    "\"\"\"\n",
    "\n",
    "print(quenched_spectrum(sim_data[0], 0.5))\n",
    "#q_spec = [quenched_spectrum(s, 0.5) for s in sim_data]"
   ]
  },
  {
   "cell_type": "code",
   "execution_count": 347,
   "metadata": {},
   "outputs": [
    {
     "ename": "TypeError",
     "evalue": "'float' object is not iterable",
     "output_type": "error",
     "traceback": [
      "\u001b[0;31m---------------------------------------------------------------------------\u001b[0m",
      "\u001b[0;31mTypeError\u001b[0m                                 Traceback (most recent call last)",
      "\u001b[0;32m/tmp/ipykernel_1034/101129610.py\u001b[0m in \u001b[0;36m<module>\u001b[0;34m\u001b[0m\n\u001b[0;32m----> 1\u001b[0;31m q_spec = [l\n\u001b[0m\u001b[1;32m      2\u001b[0m           \u001b[0;32mfor\u001b[0m \u001b[0mls\u001b[0m \u001b[0;32min\u001b[0m \u001b[0mq_spec\u001b[0m\u001b[0;34m\u001b[0m\u001b[0;34m\u001b[0m\u001b[0m\n\u001b[1;32m      3\u001b[0m           \u001b[0;32mfor\u001b[0m \u001b[0ml\u001b[0m \u001b[0;32min\u001b[0m \u001b[0mls\u001b[0m\u001b[0;34m\u001b[0m\u001b[0;34m\u001b[0m\u001b[0m\n\u001b[1;32m      4\u001b[0m           ]\n",
      "\u001b[0;32m/tmp/ipykernel_1034/101129610.py\u001b[0m in \u001b[0;36m<listcomp>\u001b[0;34m(.0)\u001b[0m\n\u001b[1;32m      1\u001b[0m q_spec = [l\n\u001b[1;32m      2\u001b[0m           \u001b[0;32mfor\u001b[0m \u001b[0mls\u001b[0m \u001b[0;32min\u001b[0m \u001b[0mq_spec\u001b[0m\u001b[0;34m\u001b[0m\u001b[0;34m\u001b[0m\u001b[0m\n\u001b[0;32m----> 3\u001b[0;31m           \u001b[0;32mfor\u001b[0m \u001b[0ml\u001b[0m \u001b[0;32min\u001b[0m \u001b[0mls\u001b[0m\u001b[0;34m\u001b[0m\u001b[0;34m\u001b[0m\u001b[0m\n\u001b[0m\u001b[1;32m      4\u001b[0m           ]\n",
      "\u001b[0;31mTypeError\u001b[0m: 'float' object is not iterable"
     ]
    }
   ],
   "source": [
    "q_spec = [l\n",
    "          for ls in q_spec\n",
    "          for l in ls\n",
    "          ]"
   ]
  },
  {
   "cell_type": "code",
   "execution_count": null,
   "metadata": {},
   "outputs": [
    {
     "data": {
      "image/png": "[encoded data removed]",
      "text/plain": [
       "<Figure size 864x576 with 1 Axes>"
      ]
     },
     "metadata": {
      "needs_background": "light"
     },
     "output_type": "display_data"
    }
   ],
   "source": [
    "#quenched_spectrum_counts = BinnedCountData(25, startpoint=min(q_spec), endpoint=max(q_spec))\n",
    "#quenched_spectrum_counts.add_count_by_list(q_spec)\n",
    "#plt.hist(quenched_spectrum_counts.bin_edges[:-1],\n",
    "#quenched_spectrum_counts.bin_edges, weights=quenched_spectrum_counts.counts,\n",
    "#rwidth=0.8)\n",
    "counts, bins = np.histogram(q_spec, 30)\n",
    "plt.hist(bins[:-1], bins, weights=counts, rwidth=0.8)\n",
    "#plt.bar(bins[:-1], counts, width=0.8, align='center')\n",
    "plt.yscale('log')\n",
    "plt.xticks([round(i, 2) for i in bins])\n",
    "plt.xticks(rotation=60)\n",
    "plt.ticklabel_format(style='plain', axis='x')\n",
    "plt.gcf().axes[0].xaxis.get_major_formatter().set_scientific(False)\n",
    "plt.gca().invert_xaxis()\n",
    "#plt.gca().xaxis.set_major_locator(tck.MultipleLocator(base=0.1))\n",
    "plt.title(\"250k Alpha Quenched Spectrum Counts (Proton Quenching Factor of 0.5)\")\n",
    "plt.xlabel(\"Energy (MeV)\")\n",
    "plt.ylabel(\"Count\")\n",
    "plt.tight_layout()\n",
    "#plt.savefig(\"q_spec_negsoln_5k_alphas_b.jpg\")\n",
    "plt.show()"
   ]
  },
  {
   "cell_type": "code",
   "execution_count": null,
   "metadata": {},
   "outputs": [],
   "source": []
  }
 ],
 "metadata": {
  "kernelspec": {
   "display_name": "Python 3 (ipykernel)",
   "language": "python",
   "name": "python3"
  },
  "language_info": {
   "codemirror_mode": {
    "name": "ipython",
    "version": 3
   },
   "file_extension": ".py",
   "mimetype": "text/x-python",
   "name": "python",
   "nbconvert_exporter": "python",
   "pygments_lexer": "ipython3",
   "version": "3.9.7"
  }
 },
 "nbformat": 4,
 "nbformat_minor": 2
}
