{
 "cells": [
  {
   "cell_type": "markdown",
   "metadata": {},
   "source": [
    "## SNO+ Scattering Pseudo-MC\n",
    "A simple test using known results to determine the viability of nuclear recoil\n",
    "explaining the odd behaviour at 2.2 MeV."
   ]
  },
  {
   "cell_type": "code",
   "execution_count": 34,
   "metadata": {},
   "outputs": [],
   "source": [
    "# importing the usual suspects\n",
    "import matplotlib.pyplot as plt\n",
    "import pandas as pd\n",
    "import numpy as np\n",
    "from pathlib import Path"
   ]
  },
  {
   "cell_type": "code",
   "execution_count": 35,
   "metadata": {},
   "outputs": [
    {
     "name": "stdout",
     "output_type": "stream",
     "text": [
      "           electron    nuclear  total\n",
      "KE                                   \n",
      "0.0010        194.0  289.00000  483.0\n",
      "0.0015        233.0  260.00000  493.0\n",
      "0.0020        266.0  238.00000  503.0\n",
      "0.0025        294.0  219.00000  514.0\n",
      "0.0030        320.0  204.00000  524.0\n",
      "...             ...        ...    ...\n",
      "800.0000       19.1    0.00655   19.1\n",
      "850.0000       18.4    0.00617   18.4\n",
      "900.0000       17.7    0.00582   17.7\n",
      "950.0000       17.1    0.00552   17.2\n",
      "1000.0000      16.6    0.00524   16.6\n",
      "\n",
      "[121 rows x 3 columns]\n"
     ]
    }
   ],
   "source": [
    "# now we read in the stopping power data from ASTAR\n",
    "stoppingpowers = pd.read_csv(Path(\"stoppingpowers/paraffin.csv\"))\n",
    "# rename cols to make them easier to reference\n",
    "stoppingpowers.columns = [\"KE\", \"electron\", \"nuclear\", \"total\"]\n",
    "# reindex the dataframe by kinetic energy to make lookups easier\n",
    "stoppingpowers.set_index(\"KE\", inplace=True)\n",
    "print(stoppingpowers)"
   ]
  },
  {
   "cell_type": "markdown",
   "metadata": {},
   "source": [
    "So now we have the stopping power data available to us and formatted nicely.\n",
    "\n",
    "**NB**: the initial revision here is without scattering to get a grip on things\n",
    "\n",
    "The setup is that we have some sort of particle with a given energy E_0 (i'm not sure exactly what yet -\n",
    "need to figure that out)\n",
    "The general process goes like this:\n",
    "- Look up stopping power in the table for the energy of our event\n",
    "- Find dE (**NOTE**: need to figure out what dx will be here first - see\n",
    "  wikipedia page for stopping power)\n",
    "- Add dE to the bin for an event of that energy\n",
    "- Repeat this, as if we had an energy of E_j = E_0 - dE\n",
    "- Terminate once E_j is less than some given epsilon (generally close to zero -\n",
    "  but we will never reach zero exactly)\n",
    "\n",
    "Implementation notes: Can use recursion, but that is setting myself up for a\n",
    "nightmare so let's keep things iterative\n",
    "\n",
    "Also - how to deal with events which aren't exactly a given KE in the table.\n",
    "Data is nonlinear but describes the derivative of energy w.r.t. position - the\n",
    "function \"looks like\" it is C-infinity (ie. continuous derivatives) and differentiability\n",
    "implies linearity in a neighbourhood so a linear interpolation should be a very\n",
    "accurate estimation "
   ]
  },
  {
   "cell_type": "code",
   "execution_count": 36,
   "metadata": {},
   "outputs": [
    {
     "name": "stdout",
     "output_type": "stream",
     "text": [
      "6\n",
      "5\n"
     ]
    }
   ],
   "source": [
    "# Let's set up the bins for events here\n",
    "# I don't know of any prepackaged solution for this so let's write a structure\n",
    "# to hold binned data for us\n",
    "\n",
    "# this kind of seems unnecessary to me, but also I would be implementing the\n",
    "# exact same logic in a messier form otherwise so I digress\n",
    "class CountBin:\n",
    "    def __init__(self, low, high):\n",
    "        self._low = low\n",
    "        self._high = high\n",
    "        self._count = 0\n",
    "    \n",
    "    # setting properties for the bin count\n",
    "    @property\n",
    "    def count(self):\n",
    "        return self._count\n",
    "\n",
    "    @count.setter\n",
    "    def count(self, new_count):\n",
    "        self._count = new_count\n",
    "\n",
    "    # increment and decrement convenience functions\n",
    "    def increment(self):\n",
    "        self.count = self._count + 1       \n",
    "\n",
    "    def decrement(self):\n",
    "        self.count = self._count - 1\n",
    "\n",
    "    # properties for bin bounds\n",
    "    @property\n",
    "    def low_range(self):\n",
    "        return self._low\n",
    "\n",
    "    @property\n",
    "    def high_range(self):\n",
    "        return self._high\n",
    "\n",
    "    def __str__(self):\n",
    "        return f\"CountBin(low={self.low_range}, high={self.high_range}, count={self.count})\"\n",
    "    \n",
    "\n",
    "class BinnedCountData:\n",
    "    def __init__(self, num_bins, d):\n",
    "        low = min(d)\n",
    "        high = max(d)\n",
    "\n",
    "        self.binEdges = np.linspace(low, high, num_bins+1)\n",
    "\n",
    "        self.bins = []\n",
    "\n",
    "        # start count at one intentionally here\n",
    "        i = 1\n",
    "        while i < len(self.binEdges):\n",
    "            self.bins.append(CountBin(self.binEdges[i-1], self.binEdges[i]))\n",
    "            i += 1\n",
    "\n",
    "        print(len(self.binEdges))\n",
    "        print(len(self.bins))\n",
    "\n",
    "    # add a value to the correct count bin\n",
    "    def count_value(self, v):\n",
    "        # TODO is there a faster algorithm for this?\n",
    "        i = 0\n",
    "        while i < len(self.binEdges) - 1:\n",
    "            if v < self.binEdges[i+1]:\n",
    "                self.bins[i].increment()\n",
    "            i += 1\n",
    "    # count an entire list\n",
    "    def count_list(self, l):\n",
    "        for i in l:\n",
    "            self.count_value(i)\n",
    "\n",
    "d = [1, 2, 3, 4, 5]\n",
    "b = BinnedCountData(5, d)\n",
    "b.count_value(3)"
   ]
  },
  {
   "cell_type": "code",
   "execution_count": null,
   "metadata": {},
   "outputs": [],
   "source": []
  }
 ],
 "metadata": {
  "kernelspec": {
   "display_name": "Python 3",
   "language": "python",
   "name": "python3"
  },
  "language_info": {
   "codemirror_mode": {
    "name": "ipython",
    "version": 3
   },
   "file_extension": ".py",
   "mimetype": "text/x-python",
   "name": "python",
   "nbconvert_exporter": "python",
   "pygments_lexer": "ipython3",
   "version": "3.12.2"
  }
 },
 "nbformat": 4,
 "nbformat_minor": 2
}
