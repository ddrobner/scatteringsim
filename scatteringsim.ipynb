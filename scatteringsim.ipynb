{
 "cells": [
  {
   "cell_type": "markdown",
   "metadata": {},
   "source": [
    "## SNO+ Scattering Pseudo-MC\n",
    "A simple test using known results to determine the viability of nuclear recoil\n",
    "explaining the odd behaviour at 2.2 MeV."
   ]
  },
  {
   "cell_type": "code",
   "execution_count": 1,
   "metadata": {
    "vscode": {
     "languageId": "python"
    }
   },
   "outputs": [],
   "source": [
    "# importing the usual suspects\n",
    "import matplotlib.pyplot as plt\n",
    "import matplotlib.ticker as tck\n",
    "import pandas as pd\n",
    "import numpy as np\n",
    "from pathlib import Path\n",
    "from multiprocessing import Pool, cpu_count\n",
    "from math import floor\n",
    "import copy\n",
    "\n",
    "# for faster bin insertion\n",
    "import bisect\n",
    "\n",
    "# to dump sim results to disk\n",
    "import pickle\n",
    "\n",
    "\n",
    "\n",
    "\n",
    "# random number generation\n",
    "import random\n",
    "# i just picked an arbitrary seed here\n",
    "# if it matters it's easy to change\n",
    "random.seed(\"snoplus\")\n",
    "\n",
    "plt.rcParams['figure.figsize'] = (12, 8)\n",
    "plt.rcParams['axes.formatter.useoffset'] = False"
   ]
  },
  {
   "cell_type": "code",
   "execution_count": 3,
   "metadata": {
    "vscode": {
     "languageId": "python"
    }
   },
   "outputs": [
    {
     "name": "stdout",
     "output_type": "stream",
     "text": [
      "         KE  electron   nuclear   total\n",
      "0    0.0180     0.691  0.068500  653.60\n",
      "1    0.0200     0.730  0.063800  682.84\n",
      "2    0.0225     0.774  0.058900  716.38\n",
      "3    0.0250     0.816  0.054800  749.06\n",
      "4    0.0275     0.856  0.051300  780.02\n",
      "..      ...       ...       ...     ...\n",
      "75  15.0000     0.430  0.000275  369.80\n",
      "76  16.0000     0.408  0.000260  350.88\n",
      "77  17.0000     0.389  0.000246  334.54\n",
      "78  18.0000     0.371  0.000234  319.06\n",
      "79  20.0000     0.341  0.000213  293.26\n",
      "\n",
      "[80 rows x 4 columns]\n"
     ]
    }
   ],
   "source": [
    "# now we read in the stopping power data from ASTAR\n",
    "stoppingpowers = pd.read_csv(Path(\"stoppingpowers/lab.csv\"))\n",
    "# rename cols to make them easier to reference\n",
    "stoppingpowers.columns = [\"KE\", \"electron\", \"nuclear\", \"total\"]\n",
    "# reindex the dataframe by kinetic energy to make lookups easier\n",
    "#stoppingpowers.set_index(\"KE\", inplace=True)\n",
    "print(stoppingpowers)"
   ]
  },
  {
   "cell_type": "markdown",
   "metadata": {},
   "source": [
    "So now we have the stopping power data available to us and formatted nicely.\n",
    "\n",
    "**NB**: the initial revision here is without scattering to get a grip on things\n",
    "\n",
    "The setup is that we have some sort of particle with a given energy E_0 (i'm not sure exactly what yet -\n",
    "need to figure that out)\n",
    "The general process goes like this:\n",
    "- Look up stopping power in the table for the energy of our event\n",
    "- Find dE (**NOTE**: need to figure out what dx will be here first - see\n",
    "  wikipedia page for stopping power)\n",
    "- Add dE to the bin for an event of that energy\n",
    "- Repeat this, as if we had an energy of E_j = E_0 - dE\n",
    "- Terminate once E_j is less than some given epsilon (generally close to zero -\n",
    "  but we will never reach zero exactly)\n",
    "\n",
    "Implementation notes: Can use recursion, but that is setting myself up for a\n",
    "nightmare so let's keep things iterative\n",
    "\n",
    "Also - how to deal with events which aren't exactly a given KE in the table.\n",
    "Data is nonlinear but describes the derivative of energy w.r.t. position - the\n",
    "function \"looks like\" it is C-infinity (ie. continuous derivatives) and differentiability\n",
    "implies linearity in a neighbourhood so a linear interpolation should be a very\n",
    "accurate estimation "
   ]
  },
  {
   "cell_type": "code",
   "execution_count": 2,
   "metadata": {
    "vscode": {
     "languageId": "python"
    }
   },
   "outputs": [],
   "source": [
    "# Let's set up the bins for events here\n",
    "# I don't know of any prepackaged solution for this so let's write a structure\n",
    "# to hold binned data for us\n",
    "\n",
    "# this kind of seems unnecessary to me, but also I would be implementing the\n",
    "# exact same logic in a messier form otherwise so I digress\n",
    "class CountBin:\n",
    "    def __init__(self, low, high):\n",
    "        self._low = low\n",
    "        self._high = high\n",
    "        self._count = 0\n",
    "    \n",
    "    # setting properties for the bin count\n",
    "    @property\n",
    "    def count(self):\n",
    "        return self._count\n",
    "\n",
    "    @count.setter\n",
    "    def count(self, new_count):\n",
    "        self._count = new_count\n",
    "\n",
    "    # increment and decrement convenience functions\n",
    "    def increment(self):\n",
    "        self.count = self._count + 1       \n",
    "\n",
    "    def decrement(self):\n",
    "        self.count = self._count - 1\n",
    "\n",
    "    # properties for bin bounds\n",
    "    @property\n",
    "    def low_range(self):\n",
    "        return self._low\n",
    "\n",
    "    @property\n",
    "    def high_range(self):\n",
    "        return self._high\n",
    "\n",
    "    def __str__(self):\n",
    "        return f\"CountBin(low={self.low_range}, high={self.high_range}, count={self.count})\"\n",
    "    \n",
    "\n",
    "class BinnedCountData:\n",
    "    def __init__(self, num_bins, d=None, startpoint=0, endpoint=1):\n",
    "        if d != None:\n",
    "            low = min(d)\n",
    "            high = max(d)\n",
    "        else:\n",
    "            low = startpoint\n",
    "            high = endpoint\n",
    "\n",
    "        self.binEdges = np.linspace(low, high, num_bins+1)\n",
    "        self.bins = []\n",
    "        i = 0\n",
    "        while i < len(self.binEdges)-1:\n",
    "            self.bins.append(CountBin(self.binEdges[i], self.binEdges[i+1]))\n",
    "            i += 1\n",
    "\n",
    "        if d != None:\n",
    "            self.add_count_by_list(d)\n",
    "\n",
    "\n",
    "    def get_bin_index(self, v):\n",
    "        #i = 0\n",
    "        #while i < len(self.binEdges) - 1:\n",
    "        #    if v <= self.binEdges[i+1]:\n",
    "        #        return i\n",
    "        #    i += 1\n",
    "        return (bisect.bisect_left(self.bin_edges, v) - 1)\n",
    "\n",
    "    @property\n",
    "    def bin_min(self):\n",
    "        return min(self.binEdges)\n",
    "    \n",
    "    @property\n",
    "    def bin_max(self):\n",
    "        return max(self.binEdges)\n",
    "\n",
    "    @property\n",
    "    def bin_edges(self):\n",
    "        return self.binEdges\n",
    "\n",
    "    @property\n",
    "    def num_bins(self):\n",
    "        return len(self.bins)\n",
    "\n",
    "    # add a value to the correct count bin\n",
    "    def add_count_by_value(self, v):\n",
    "        # TODO is there a faster algorithm for this?\n",
    "        self.bins[self.get_bin_index(v)].increment()\n",
    "\n",
    "    # count an entire list\n",
    "    def add_count_by_list(self, l):\n",
    "        for i in l:\n",
    "            self.add_count_by_value(i)\n",
    "\n",
    "    def set_count_by_index(self, idx, c):\n",
    "        self.bins[idx].count = c\n",
    "\n",
    "    @property\n",
    "    def counts(self):\n",
    "        return [i.count for i in self.bins]\n",
    "\n",
    "    def get_count_by_value(self, v):\n",
    "        # get count of a bin some value is in\n",
    "        return self.bins[self.get_bin_index(v)].count"
   ]
  },
  {
   "cell_type": "code",
   "execution_count": 4,
   "metadata": {
    "vscode": {
     "languageId": "python"
    }
   },
   "outputs": [],
   "source": [
    "# and a helper function to merge histograms\n",
    "def merge_hists(hists: list[BinnedCountData]):\n",
    "    low = hists[0].bin_min\n",
    "    high = hists[0].bin_max\n",
    "    n_bins = hists[0].num_bins\n",
    "    new_hist = BinnedCountData(n_bins, startpoint=low, endpoint=high)\n",
    "\n",
    "    i = 0\n",
    "    while i < n_bins:\n",
    "        new_hist.set_count_by_index(i, sum([k.counts[i] for k in hists]))\n",
    "        i += 1\n",
    "\n",
    "    return new_hist"
   ]
  },
  {
   "cell_type": "markdown",
   "metadata": {},
   "source": [
    "Now we do the linear interpolation of the ASTAR data\n",
    "Although the data is nonlinear, this is still decently accurate since it is a differentiable function "
   ]
  },
  {
   "cell_type": "code",
   "execution_count": 5,
   "metadata": {
    "vscode": {
     "languageId": "python"
    }
   },
   "outputs": [],
   "source": [
    "# now to do the linear interpolation for the ASTAR dataset\n",
    "def stp_interp(e, stp=stoppingpowers):\n",
    "    # NOTE this assumes that the stopping powers are sorted\n",
    "    # we get them this way from ASTAR so it's not an issue, but we can fix that if need be\n",
    "    for k in stp.index:\n",
    "        if e <= stp[\"KE\"][k+1] and e >= stp[\"KE\"][k]:\n",
    "            ke_low = stp[\"KE\"][k]\n",
    "            sp_low = stp[\"total\"][k]\n",
    "            ke_high = stp[\"KE\"][k+1]\n",
    "            sp_high = stp[\"total\"][k+1]\n",
    "            return ((sp_high - sp_low)/(ke_high - ke_low)) * e + sp_low\n",
    "        else:\n",
    "            return ((list(stp[\"total\"])[-1])/list(stp[\"KE\"])[-1])*e\n",
    "\n"
   ]
  },
  {
   "cell_type": "markdown",
   "metadata": {},
   "source": [
    "Here we define a function to compute the scattering probability for each event\n",
    "\n",
    "*NB:* See http://hyperphysics.phy-astr.gsu.edu/hbase/Nuclear/crosec2.html#c1"
   ]
  },
  {
   "cell_type": "markdown",
   "metadata": {},
   "source": [
    "Let's re-do the scattering probability. For now, we're going to use some\n",
    "experimental results and see if we have to rework that later."
   ]
  },
  {
   "cell_type": "code",
   "execution_count": 6,
   "metadata": {
    "vscode": {
     "languageId": "python"
    }
   },
   "outputs": [],
   "source": [
    "def diffcx_riemann_sum(fname='diffcx_2p02MeV.csv'):\n",
    "    exp_cx = pd.read_csv(fname)\n",
    "    r_sum = 0\n",
    "    i = 0\n",
    "    z = list(zip(exp_cx[\"theta\"], exp_cx['sigma']))\n",
    "    # let's numerically integrate\n",
    "    # with something like a riemann sum (although with none of that sup or inf nonsense)\n",
    "    while i < len(z) - 1:\n",
    "        rs = z[i+1]\n",
    "        ls = z[i]\n",
    "        r_sum += abs((rs[0] - ls[0]))*(2*np.pi*ls[1])\n",
    "        i += 1\n",
    "    return r_sum\n",
    "\n",
    "\n",
    "def scattering_probability(ke, dx, r_sum, density=0.8562, mol_wt=246.43):\n",
    "    sample_dim = 1\n",
    "    sigma = r_sum*1E-24\n",
    "\n",
    "    # now let's do the same stuff as before to determine the probability\n",
    "    N_A = 6.02214E23 # mol^-1, avogadro's constant\n",
    "    rho = density # g/cm^3, see above\n",
    "    n = N_A/(mol_wt) * dx * rho\n",
    "\n",
    "    eff_a = sigma*n\n",
    "    total_a = sample_dim**2\n",
    "    return eff_a/total_a"
   ]
  },
  {
   "cell_type": "code",
   "execution_count": 7,
   "metadata": {
    "vscode": {
     "languageId": "python"
    }
   },
   "outputs": [
    {
     "data": {
      "text/plain": [
       "6.227558415063183e-07"
      ]
     },
     "execution_count": 7,
     "metadata": {},
     "output_type": "execute_result"
    }
   ],
   "source": [
    "scattering_probability(8, 1E-6, diffcx_riemann_sum())"
   ]
  },
  {
   "cell_type": "markdown",
   "metadata": {},
   "source": [
    "And now let's write a function to sample from the differential cross-section as a distribution"
   ]
  },
  {
   "cell_type": "code",
   "execution_count": 8,
   "metadata": {
    "vscode": {
     "languageId": "python"
    }
   },
   "outputs": [],
   "source": [
    "\n",
    "\"\"\"\n",
    "def diff_cx(theta, ke):\n",
    "    Z = 1 \n",
    "    D = ((198.3/137) * (2*Z)/ke)*1E-15\n",
    "    print(D)\n",
    "    #return np.pi/4 * D**2 * (np.cos(theta/2)/np.power(np.sin(theta/2),3))\n",
    "    return np.pi/8 * D**2 * (1/np.power(np.sin(theta/2), 4))\n",
    "\"\"\"\n",
    "\n",
    "# now let's redo the differential cross-section\n",
    "# this time, we just interpolate the values from the csv\n",
    "# although the ke argument is redundant, I'd rather just keep the same function\n",
    "# signature to make my life easier\n",
    "def diff_cx(theta, ke, fname=\"diffcx_2p02MeV.csv\") -> np.float64:\n",
    "    exp_cx = pd.read_csv(fname)\n",
    "    theta = np.rad2deg(theta)\n",
    "    for k in exp_cx.index:\n",
    "        if theta < exp_cx['theta'][0]:\n",
    "            # for low scattering angles which we don't have better data for \n",
    "            # (ie. below 12 degrees )\n",
    "            # nvm 1/x makes a lot more sense here lol\n",
    "            return 2*np.pi*((1/theta) + 9.043)\n",
    "        elif theta <= exp_cx[\"theta\"][k+1] and theta >= exp_cx['theta'][k]:\n",
    "            theta_low = exp_cx['theta'][k]\n",
    "            cx_low = exp_cx['sigma'][k]\n",
    "            theta_high = exp_cx['theta'][k]\n",
    "            cx_high = exp_cx['sigma'][k]\n",
    "            return 2*np.pi*((cx_high - cx_low)/(theta_high - theta_low + 0.01))*theta\n",
    "        else:\n",
    "            return 2*np.pi*((list(exp_cx['sigma'])[-1] - list(exp_cx['sigma'])[-2])/(list(exp_cx['theta'])[-1] - list(exp_cx['theta'])[-2]))*theta\n",
    "    \n",
    "\n",
    "def scaled_diff_cx(theta, ke):\n",
    "    # luckily, our differential crossection s a decreasing function on the interval we care about\n",
    "    # so, we just take the left endpoint as our x-value\n",
    "    theta_min = 0.1\n",
    "    scale = 1/(diff_cx(theta_min, ke))\n",
    "    return diff_cx(theta,ke)*scale\n",
    "\n",
    "def scattering_angle(ke):\n",
    "    theta_min = 0.1\n",
    "    while True:\n",
    "        # first we sample from a uniform distribution of valid x-values\n",
    "        xsample = random.uniform(theta_min, np.pi)\n",
    "        # then find the scaled differential crosssection at the x-sample\n",
    "        scx = scaled_diff_cx(xsample, ke)\n",
    "        # and then return the x-sample if a random number is less than that value\n",
    "        if random.random() < scx:\n",
    "            return xsample"
   ]
  },
  {
   "cell_type": "code",
   "execution_count": 9,
   "metadata": {
    "vscode": {
     "languageId": "python"
    }
   },
   "outputs": [
    {
     "ename": "KeyError",
     "evalue": "-2",
     "output_type": "error",
     "traceback": [
      "\u001b[0;31m---------------------------------------------------------------------------\u001b[0m",
      "\u001b[0;31mValueError\u001b[0m                                Traceback (most recent call last)",
      "\u001b[0;32m/opt/conda/lib/python3.9/site-packages/pandas/core/indexes/range.py\u001b[0m in \u001b[0;36mget_loc\u001b[0;34m(self, key, method, tolerance)\u001b[0m\n\u001b[1;32m    384\u001b[0m                 \u001b[0;32mtry\u001b[0m\u001b[0;34m:\u001b[0m\u001b[0;34m\u001b[0m\u001b[0;34m\u001b[0m\u001b[0m\n\u001b[0;32m--> 385\u001b[0;31m                     \u001b[0;32mreturn\u001b[0m \u001b[0mself\u001b[0m\u001b[0;34m.\u001b[0m\u001b[0m_range\u001b[0m\u001b[0;34m.\u001b[0m\u001b[0mindex\u001b[0m\u001b[0;34m(\u001b[0m\u001b[0mnew_key\u001b[0m\u001b[0;34m)\u001b[0m\u001b[0;34m\u001b[0m\u001b[0;34m\u001b[0m\u001b[0m\n\u001b[0m\u001b[1;32m    386\u001b[0m                 \u001b[0;32mexcept\u001b[0m \u001b[0mValueError\u001b[0m \u001b[0;32mas\u001b[0m \u001b[0merr\u001b[0m\u001b[0;34m:\u001b[0m\u001b[0;34m\u001b[0m\u001b[0;34m\u001b[0m\u001b[0m\n",
      "\u001b[0;31mValueError\u001b[0m: -2 is not in range",
      "\nThe above exception was the direct cause of the following exception:\n",
      "\u001b[0;31mKeyError\u001b[0m                                  Traceback (most recent call last)",
      "\u001b[0;32m/tmp/ipykernel_1058/2965943682.py\u001b[0m in \u001b[0;36m<module>\u001b[0;34m\u001b[0m\n\u001b[0;32m----> 1\u001b[0;31m \u001b[0mprint\u001b[0m\u001b[0;34m(\u001b[0m\u001b[0mscattering_angle\u001b[0m\u001b[0;34m(\u001b[0m\u001b[0;36m8\u001b[0m\u001b[0;34m)\u001b[0m\u001b[0;34m)\u001b[0m\u001b[0;34m\u001b[0m\u001b[0;34m\u001b[0m\u001b[0m\n\u001b[0m",
      "\u001b[0;32m/tmp/ipykernel_1058/2317866828.py\u001b[0m in \u001b[0;36mscattering_angle\u001b[0;34m(ke)\u001b[0m\n\u001b[1;32m     44\u001b[0m         \u001b[0mxsample\u001b[0m \u001b[0;34m=\u001b[0m \u001b[0mrandom\u001b[0m\u001b[0;34m.\u001b[0m\u001b[0muniform\u001b[0m\u001b[0;34m(\u001b[0m\u001b[0mtheta_min\u001b[0m\u001b[0;34m,\u001b[0m \u001b[0mnp\u001b[0m\u001b[0;34m.\u001b[0m\u001b[0mpi\u001b[0m\u001b[0;34m)\u001b[0m\u001b[0;34m\u001b[0m\u001b[0;34m\u001b[0m\u001b[0m\n\u001b[1;32m     45\u001b[0m         \u001b[0;31m# then find the scaled differential crosssection at the x-sample\u001b[0m\u001b[0;34m\u001b[0m\u001b[0;34m\u001b[0m\u001b[0m\n\u001b[0;32m---> 46\u001b[0;31m         \u001b[0mscx\u001b[0m \u001b[0;34m=\u001b[0m \u001b[0mscaled_diff_cx\u001b[0m\u001b[0;34m(\u001b[0m\u001b[0mxsample\u001b[0m\u001b[0;34m,\u001b[0m \u001b[0mke\u001b[0m\u001b[0;34m)\u001b[0m\u001b[0;34m\u001b[0m\u001b[0;34m\u001b[0m\u001b[0m\n\u001b[0m\u001b[1;32m     47\u001b[0m         \u001b[0;31m# and then return the x-sample if a random number is less than that value\u001b[0m\u001b[0;34m\u001b[0m\u001b[0;34m\u001b[0m\u001b[0m\n\u001b[1;32m     48\u001b[0m         \u001b[0;32mif\u001b[0m \u001b[0mrandom\u001b[0m\u001b[0;34m.\u001b[0m\u001b[0mrandom\u001b[0m\u001b[0;34m(\u001b[0m\u001b[0;34m)\u001b[0m \u001b[0;34m<\u001b[0m \u001b[0mscx\u001b[0m\u001b[0;34m:\u001b[0m\u001b[0;34m\u001b[0m\u001b[0;34m\u001b[0m\u001b[0m\n",
      "\u001b[0;32m/tmp/ipykernel_1058/2317866828.py\u001b[0m in \u001b[0;36mscaled_diff_cx\u001b[0;34m(theta, ke)\u001b[0m\n\u001b[1;32m     36\u001b[0m     \u001b[0mtheta_min\u001b[0m \u001b[0;34m=\u001b[0m \u001b[0;36m0.1\u001b[0m\u001b[0;34m\u001b[0m\u001b[0;34m\u001b[0m\u001b[0m\n\u001b[1;32m     37\u001b[0m     \u001b[0mscale\u001b[0m \u001b[0;34m=\u001b[0m \u001b[0;36m1\u001b[0m\u001b[0;34m/\u001b[0m\u001b[0;34m(\u001b[0m\u001b[0mdiff_cx\u001b[0m\u001b[0;34m(\u001b[0m\u001b[0mtheta_min\u001b[0m\u001b[0;34m,\u001b[0m \u001b[0mke\u001b[0m\u001b[0;34m)\u001b[0m\u001b[0;34m)\u001b[0m\u001b[0;34m\u001b[0m\u001b[0;34m\u001b[0m\u001b[0m\n\u001b[0;32m---> 38\u001b[0;31m     \u001b[0;32mreturn\u001b[0m \u001b[0mdiff_cx\u001b[0m\u001b[0;34m(\u001b[0m\u001b[0mtheta\u001b[0m\u001b[0;34m,\u001b[0m\u001b[0mke\u001b[0m\u001b[0;34m)\u001b[0m\u001b[0;34m*\u001b[0m\u001b[0mscale\u001b[0m\u001b[0;34m\u001b[0m\u001b[0;34m\u001b[0m\u001b[0m\n\u001b[0m\u001b[1;32m     39\u001b[0m \u001b[0;34m\u001b[0m\u001b[0m\n\u001b[1;32m     40\u001b[0m \u001b[0;32mdef\u001b[0m \u001b[0mscattering_angle\u001b[0m\u001b[0;34m(\u001b[0m\u001b[0mke\u001b[0m\u001b[0;34m)\u001b[0m\u001b[0;34m:\u001b[0m\u001b[0;34m\u001b[0m\u001b[0;34m\u001b[0m\u001b[0m\n",
      "\u001b[0;32m/tmp/ipykernel_1058/2317866828.py\u001b[0m in \u001b[0;36mdiff_cx\u001b[0;34m(theta, ke, fname)\u001b[0m\n\u001b[1;32m     28\u001b[0m             \u001b[0;32mreturn\u001b[0m \u001b[0;36m2\u001b[0m\u001b[0;34m*\u001b[0m\u001b[0mnp\u001b[0m\u001b[0;34m.\u001b[0m\u001b[0mpi\u001b[0m\u001b[0;34m*\u001b[0m\u001b[0;34m(\u001b[0m\u001b[0;34m(\u001b[0m\u001b[0mcx_high\u001b[0m \u001b[0;34m-\u001b[0m \u001b[0mcx_low\u001b[0m\u001b[0;34m)\u001b[0m\u001b[0;34m/\u001b[0m\u001b[0;34m(\u001b[0m\u001b[0mtheta_high\u001b[0m \u001b[0;34m-\u001b[0m \u001b[0mtheta_low\u001b[0m \u001b[0;34m+\u001b[0m \u001b[0;36m0.01\u001b[0m\u001b[0;34m)\u001b[0m\u001b[0;34m)\u001b[0m\u001b[0;34m*\u001b[0m\u001b[0mtheta\u001b[0m\u001b[0;34m\u001b[0m\u001b[0;34m\u001b[0m\u001b[0m\n\u001b[1;32m     29\u001b[0m         \u001b[0;32melse\u001b[0m\u001b[0;34m:\u001b[0m\u001b[0;34m\u001b[0m\u001b[0;34m\u001b[0m\u001b[0m\n\u001b[0;32m---> 30\u001b[0;31m             \u001b[0;32mreturn\u001b[0m \u001b[0;36m2\u001b[0m\u001b[0;34m*\u001b[0m\u001b[0mnp\u001b[0m\u001b[0;34m.\u001b[0m\u001b[0mpi\u001b[0m\u001b[0;34m*\u001b[0m\u001b[0;34m(\u001b[0m\u001b[0;34m(\u001b[0m\u001b[0mlist\u001b[0m\u001b[0;34m(\u001b[0m\u001b[0mexp_cx\u001b[0m\u001b[0;34m[\u001b[0m\u001b[0;34m'sigma'\u001b[0m\u001b[0;34m]\u001b[0m\u001b[0;34m)\u001b[0m\u001b[0;34m[\u001b[0m\u001b[0;34m-\u001b[0m\u001b[0;36m1\u001b[0m\u001b[0;34m]\u001b[0m \u001b[0;34m-\u001b[0m \u001b[0mlist\u001b[0m\u001b[0;34m(\u001b[0m\u001b[0mexp_cx\u001b[0m\u001b[0;34m[\u001b[0m\u001b[0;34m'sigma'\u001b[0m\u001b[0;34m]\u001b[0m\u001b[0;34m[\u001b[0m\u001b[0;34m-\u001b[0m\u001b[0;36m2\u001b[0m\u001b[0;34m]\u001b[0m\u001b[0;34m)\u001b[0m\u001b[0;34m)\u001b[0m\u001b[0;34m/\u001b[0m\u001b[0;34m(\u001b[0m\u001b[0mlist\u001b[0m\u001b[0;34m(\u001b[0m\u001b[0mexp_cx\u001b[0m\u001b[0;34m[\u001b[0m\u001b[0;34m'theta'\u001b[0m\u001b[0;34m]\u001b[0m\u001b[0;34m)\u001b[0m\u001b[0;34m[\u001b[0m\u001b[0;34m-\u001b[0m\u001b[0;36m1\u001b[0m\u001b[0;34m]\u001b[0m \u001b[0;34m-\u001b[0m \u001b[0mlist\u001b[0m\u001b[0;34m(\u001b[0m\u001b[0mexp_cx\u001b[0m\u001b[0;34m[\u001b[0m\u001b[0;34m'theta'\u001b[0m\u001b[0;34m]\u001b[0m\u001b[0;34m[\u001b[0m\u001b[0;34m-\u001b[0m\u001b[0;36m2\u001b[0m\u001b[0;34m]\u001b[0m\u001b[0;34m)\u001b[0m\u001b[0;34m)\u001b[0m\u001b[0;34m)\u001b[0m\u001b[0;34m*\u001b[0m\u001b[0mtheta\u001b[0m\u001b[0;34m\u001b[0m\u001b[0;34m\u001b[0m\u001b[0m\n\u001b[0m\u001b[1;32m     31\u001b[0m \u001b[0;34m\u001b[0m\u001b[0m\n\u001b[1;32m     32\u001b[0m \u001b[0;34m\u001b[0m\u001b[0m\n",
      "\u001b[0;32m/opt/conda/lib/python3.9/site-packages/pandas/core/series.py\u001b[0m in \u001b[0;36m__getitem__\u001b[0;34m(self, key)\u001b[0m\n\u001b[1;32m    940\u001b[0m \u001b[0;34m\u001b[0m\u001b[0m\n\u001b[1;32m    941\u001b[0m         \u001b[0;32melif\u001b[0m \u001b[0mkey_is_scalar\u001b[0m\u001b[0;34m:\u001b[0m\u001b[0;34m\u001b[0m\u001b[0;34m\u001b[0m\u001b[0m\n\u001b[0;32m--> 942\u001b[0;31m             \u001b[0;32mreturn\u001b[0m \u001b[0mself\u001b[0m\u001b[0;34m.\u001b[0m\u001b[0m_get_value\u001b[0m\u001b[0;34m(\u001b[0m\u001b[0mkey\u001b[0m\u001b[0;34m)\u001b[0m\u001b[0;34m\u001b[0m\u001b[0;34m\u001b[0m\u001b[0m\n\u001b[0m\u001b[1;32m    943\u001b[0m \u001b[0;34m\u001b[0m\u001b[0m\n\u001b[1;32m    944\u001b[0m         \u001b[0;32mif\u001b[0m \u001b[0mis_hashable\u001b[0m\u001b[0;34m(\u001b[0m\u001b[0mkey\u001b[0m\u001b[0;34m)\u001b[0m\u001b[0;34m:\u001b[0m\u001b[0;34m\u001b[0m\u001b[0;34m\u001b[0m\u001b[0m\n",
      "\u001b[0;32m/opt/conda/lib/python3.9/site-packages/pandas/core/series.py\u001b[0m in \u001b[0;36m_get_value\u001b[0;34m(self, label, takeable)\u001b[0m\n\u001b[1;32m   1049\u001b[0m \u001b[0;34m\u001b[0m\u001b[0m\n\u001b[1;32m   1050\u001b[0m         \u001b[0;31m# Similar to Index.get_value, but we do not fall back to positional\u001b[0m\u001b[0;34m\u001b[0m\u001b[0;34m\u001b[0m\u001b[0m\n\u001b[0;32m-> 1051\u001b[0;31m         \u001b[0mloc\u001b[0m \u001b[0;34m=\u001b[0m \u001b[0mself\u001b[0m\u001b[0;34m.\u001b[0m\u001b[0mindex\u001b[0m\u001b[0;34m.\u001b[0m\u001b[0mget_loc\u001b[0m\u001b[0;34m(\u001b[0m\u001b[0mlabel\u001b[0m\u001b[0;34m)\u001b[0m\u001b[0;34m\u001b[0m\u001b[0;34m\u001b[0m\u001b[0m\n\u001b[0m\u001b[1;32m   1052\u001b[0m         \u001b[0;32mreturn\u001b[0m \u001b[0mself\u001b[0m\u001b[0;34m.\u001b[0m\u001b[0mindex\u001b[0m\u001b[0;34m.\u001b[0m\u001b[0m_get_values_for_loc\u001b[0m\u001b[0;34m(\u001b[0m\u001b[0mself\u001b[0m\u001b[0;34m,\u001b[0m \u001b[0mloc\u001b[0m\u001b[0;34m,\u001b[0m \u001b[0mlabel\u001b[0m\u001b[0;34m)\u001b[0m\u001b[0;34m\u001b[0m\u001b[0;34m\u001b[0m\u001b[0m\n\u001b[1;32m   1053\u001b[0m \u001b[0;34m\u001b[0m\u001b[0m\n",
      "\u001b[0;32m/opt/conda/lib/python3.9/site-packages/pandas/core/indexes/range.py\u001b[0m in \u001b[0;36mget_loc\u001b[0;34m(self, key, method, tolerance)\u001b[0m\n\u001b[1;32m    385\u001b[0m                     \u001b[0;32mreturn\u001b[0m \u001b[0mself\u001b[0m\u001b[0;34m.\u001b[0m\u001b[0m_range\u001b[0m\u001b[0;34m.\u001b[0m\u001b[0mindex\u001b[0m\u001b[0;34m(\u001b[0m\u001b[0mnew_key\u001b[0m\u001b[0;34m)\u001b[0m\u001b[0;34m\u001b[0m\u001b[0;34m\u001b[0m\u001b[0m\n\u001b[1;32m    386\u001b[0m                 \u001b[0;32mexcept\u001b[0m \u001b[0mValueError\u001b[0m \u001b[0;32mas\u001b[0m \u001b[0merr\u001b[0m\u001b[0;34m:\u001b[0m\u001b[0;34m\u001b[0m\u001b[0;34m\u001b[0m\u001b[0m\n\u001b[0;32m--> 387\u001b[0;31m                     \u001b[0;32mraise\u001b[0m \u001b[0mKeyError\u001b[0m\u001b[0;34m(\u001b[0m\u001b[0mkey\u001b[0m\u001b[0;34m)\u001b[0m \u001b[0;32mfrom\u001b[0m \u001b[0merr\u001b[0m\u001b[0;34m\u001b[0m\u001b[0;34m\u001b[0m\u001b[0m\n\u001b[0m\u001b[1;32m    388\u001b[0m             \u001b[0;32mraise\u001b[0m \u001b[0mKeyError\u001b[0m\u001b[0;34m(\u001b[0m\u001b[0mkey\u001b[0m\u001b[0;34m)\u001b[0m\u001b[0;34m\u001b[0m\u001b[0;34m\u001b[0m\u001b[0m\n\u001b[1;32m    389\u001b[0m         \u001b[0;32mreturn\u001b[0m \u001b[0msuper\u001b[0m\u001b[0;34m(\u001b[0m\u001b[0;34m)\u001b[0m\u001b[0;34m.\u001b[0m\u001b[0mget_loc\u001b[0m\u001b[0;34m(\u001b[0m\u001b[0mkey\u001b[0m\u001b[0;34m,\u001b[0m \u001b[0mmethod\u001b[0m\u001b[0;34m=\u001b[0m\u001b[0mmethod\u001b[0m\u001b[0;34m,\u001b[0m \u001b[0mtolerance\u001b[0m\u001b[0;34m=\u001b[0m\u001b[0mtolerance\u001b[0m\u001b[0;34m)\u001b[0m\u001b[0;34m\u001b[0m\u001b[0;34m\u001b[0m\u001b[0m\n",
      "\u001b[0;31mKeyError\u001b[0m: -2"
     ]
    }
   ],
   "source": [
    "print(scattering_angle(8))"
   ]
  },
  {
   "cell_type": "markdown",
   "metadata": {},
   "source": [
    "Now let's sort out the transferred energy. In my notes I have the long\n",
    "derivation for 2-d elastic collisions but that can be found in any classical\n",
    "mechanics textbook.\n",
    "\n",
    "Note that the initial velocity of the alpha particle is given since the initial\n",
    "energy is known, and the scattering angle is sampled from the distribution given\n",
    "by the differential crosssection.\n",
    "\n",
    "Let\n",
    "$$ \\kappa = \\frac{m_{\\alpha}}{m_{p}} $$\n",
    "\n",
    "Then, we have\n",
    "$$\n",
    "    v_{\\alpha}^{\\prime} = v_{\\alpha}\\frac{( \\sqrt{1 - \\kappa^2\\sin^2{\\theta_1}} )}{1 + \\kappa}\n",
    "$$\n",
    "\n",
    "where $\\theta_1$ is the scattering angle of the alpha, $\\theta_2$ the angle of\n",
    "the proton, primed velocities are final and unprimed are initial.\n",
    "\n",
    "Now, using this and the intial equations we can find a relation describing\n",
    "$\\theta_2$. We have\n",
    "\n",
    "$$\n",
    "    \\tan{\\theta_2} = \\frac{v_{\\alpha}^{\\prime}\\sin{\\theta_1}}{v_{\\alpha} - v_{\\alpha}^{\\prime}\\cos{\\theta_1}}\n",
    "$$\n",
    "\n",
    "Finally, using these two we may find the final proton velocity\n",
    "\n",
    "$$\n",
    "v_{p}^{\\prime} = \\kappa v_{\\alpha}\\frac{\\sin{\\theta_1}}{\\sin{\\theta_2}}\n",
    "$$\n",
    "\n",
    "Yielding the final velocities of each particle.\n",
    "After this, it's just a matter of substituting that velocity into the kinetic\n",
    "energy expression using the appropriate mass."
   ]
  },
  {
   "cell_type": "markdown",
   "metadata": {},
   "source": [
    "And, we also have to re-write the energy transfer function since the\n",
    "cross-section assumes things are in the CM frame.\n",
    "\n",
    "I'm just going to take the solution from wikipedia here (and hope it works)\n",
    "instead of doing the derivation myself this time. If I have to do it in the lab\n",
    "frame then so be it, but I'd like to not."
   ]
  },
  {
   "cell_type": "code",
   "execution_count": null,
   "metadata": {
    "vscode": {
     "languageId": "python"
    }
   },
   "outputs": [],
   "source": [
    "def energy_transfer(e_i, scatter_angle=None):\n",
    "    m_alpha = 6.646E-27 # kg\n",
    "    m_proton = 1.6726E-27 # kg\n",
    "\n",
    "    mev_to_j = 1.602176e-13\n",
    "    ei_j = e_i * mev_to_j\n",
    "\n",
    "    if scatter_angle is None:\n",
    "        scatter_angle = scattering_angle(e_i)\n",
    "    # just identifying scatter_angle as theta_1 to match the algebra\n",
    "    # this is in the lab frame\n",
    "    Theta = scatter_angle\n",
    "\n",
    "    # and now we determine the final velocity of the alpha in the lab frame\n",
    "\n",
    "    # first thing we need to do is to work out the velocity of the alpha\n",
    "    # particle in the lab frame\n",
    "    #valpha_i_lab = np.sqrt(2*ei_j/m_alpha)\n",
    "    # note that the initial proton velocity in the lab frame is 0\n",
    "    #valpha_f_lab = (np.sqrt((m_proton**2 + 2*(m_proton**2)*(m_alpha**2)*np.cos(Theta) + m_alpha**2))/(m_proton + m_alpha))*(valpha_i_lab)\n",
    "    #vproton_f_lab = \n",
    "    frac_energy = 2*m_alpha*m_proton*(np.cos(Theta) - 1)/((m_alpha + m_proton)**2)\n",
    "    valpha_i = np.sqrt(2*ei_j/m_alpha)\n",
    "    valpha_f = valpha_i * frac_energy\n",
    "    vproton_f = (1-frac_energy)*valpha_i\n",
    "\n",
    "    eproton_f = (1/mev_to_j)*0.5*m_proton*(vproton_f**2)\n",
    "    ealpha_f = (1/mev_to_j)*0.5*m_alpha*(valpha_f**2)\n",
    "\n",
    "    theta_1 = np.arctan(m_proton*np.sin(Theta)/(np.cos(Theta) -\n",
    "    (m_alpha/m_proton)))\n",
    "\n",
    "    return (ealpha_f, eproton_f, Theta)\n",
    "\n",
    "    \n",
    "    # and now to determine the velocity of the center of mass\n",
    "    #v_cm = (m_alpha*valpha_i_lab)/(m_alpha + m_proton)\n"
   ]
  },
  {
   "cell_type": "markdown",
   "metadata": {},
   "source": [
    "Now, let's write the function that does the simulation"
   ]
  },
  {
   "cell_type": "code",
   "execution_count": null,
   "metadata": {
    "vscode": {
     "languageId": "python"
    }
   },
   "outputs": [],
   "source": [
    "def scatter_sim(e_0: float, alpha_path = list, stepsize=0.001, density=0.8562) -> tuple[list, list, list]:\n",
    "    # TODO add ability to get scattering angles out\n",
    "    # we can do the binning/etc later\n",
    "\n",
    "    # let's set both quenchin factors to 1 in here so we can tune them later\n",
    "    a_path = copy.deepcopy(alpha_path)\n",
    "    proton_event_path = []\n",
    "    e_i = e_0\n",
    "    # The alpha energy path is completely deterministic, so to speed things up\n",
    "    # let's pre-bake it. Then, for each step we can do the scattering stuff\n",
    "    #while e_i > epsilon:\n",
    "    #    alpha_path.append(e_i)\n",
    "    #    e_i = e_i - stp_interp(e_i)*stepsize\n",
    "\n",
    "    # great, so now we have our pre-baked alpha energy\n",
    "    # now we can iterate over the list and do the proton scattering\n",
    "    scatter_e = []\n",
    "    rsum = diffcx_riemann_sum(\"diffcx_2p02MeV.csv\")\n",
    "    for s in range(len(a_path)):\n",
    "        if scattering_probability(e_i, stepsize, rsum, density=density) > random.random():\n",
    "            scatter_angle = scattering_angle(s)\n",
    "            transfer_e = energy_transfer(a_path[s], scatter_angle=scatter_angle)\n",
    "            a_path[s] = transfer_e[0]\n",
    "            proton_event_path.append(transfer_e[1])\n",
    "            scatter_e.append( (scatter_angle, transfer_e[1]) )\n",
    "\n",
    "    return (alpha_path, proton_event_path, scatter_e)\n",
    "\n",
    "def gen_alpha_path(e_0, epsilon=0.1, stepsize=0.001) -> list:\n",
    "    e_i = e_0\n",
    "    alpha_path = []\n",
    "    while e_i > epsilon:\n",
    "        alpha_path.append(e_i)\n",
    "        e_i = e_i - stp_interp(e_i)*stepsize\n",
    "    return alpha_path\n",
    "\n",
    "def quenched_spectrum(sim_data: tuple[list, list], proton_factor: float, alpha_factor: float=0.1) -> list:\n",
    "    q_spec = []\n",
    "    a_diffs = []\n",
    "    a = 1\n",
    "    while a < len(sim_data[0]):\n",
    "        a_diffs.append(abs(sim_data[0][a] - sim_data[0][a-1]))\n",
    "        a += 1\n",
    "    q_spec.append( sum( [alpha_factor*j for j in a_diffs] + [proton_factor*k for k in sim_data[1]] ) )\n",
    "    return q_spec\n"
   ]
  },
  {
   "cell_type": "code",
   "execution_count": null,
   "metadata": {
    "vscode": {
     "languageId": "python"
    }
   },
   "outputs": [
    {
     "data": {
      "image/png": "[encoded data removed]",
      "text/plain": [
       "<Figure size 864x576 with 1 Axes>"
      ]
     },
     "metadata": {
      "needs_background": "light"
     },
     "output_type": "display_data"
    }
   ],
   "source": [
    "s_et_xrange = np.linspace(0.1, 0.2, 100)\n",
    "t_e = [energy_transfer(8, i)[1] for i in s_et_xrange]\n",
    "plt.scatter(s_et_xrange, t_e)\n",
    "plt.xlabel(\"Scattering Angle (rad)\")\n",
    "plt.ylabel(\"Proton Energy (MeV)\")\n",
    "plt.title(\"Energy Transferred to Proton vs. Scattering Angle\")\n",
    "plt.tight_layout()\n",
    "plt.savefig(\"etransfer_negative_soln.jpg\")\n",
    "plt.show()"
   ]
  },
  {
   "cell_type": "code",
   "execution_count": null,
   "metadata": {
    "vscode": {
     "languageId": "python"
    }
   },
   "outputs": [
    {
     "name": "stdout",
     "output_type": "stream",
     "text": [
      "[2.2501882562594373, 0.24839490448501209, 0.9691172180928826, 2.985778818440861, 2.990884504225675, 2.7729567578896495, 2.3695676983960436, 1.2969106575289546, 1.2529984747969265, 1.6363242111357328, 0.2345676945200917, 2.4902847045307883, 2.573033213935384, 0.2137217424322192, 2.560645575376574, 2.9923461265720857, 2.1076291640851053, 0.1407595879614069, 0.19768584136675044, 1.1042171777008225, 0.10165825927325531, 2.591610024621095, 3.010686164850629, 0.18105748776332636, 2.264093086852935, 2.9355526469132354, 2.1778370084904672, 0.10688321124918336, 1.611345463408368, 1.8171316623167044, 2.097835742714453, 0.21121421065336987, 1.2407900464722035, 0.1126812723508564, 2.5583872305578947, 0.1810114367806285, 0.2484194972698872, 2.4197665028210014, 0.7514091991234663, 0.19456673885944387, 2.6509264967234496, 1.4149998742801961, 1.6241784965788606, 0.24966919964551093, 2.448577102585163, 0.16404677624072977, 0.19270275374475013, 2.907177845697342, 2.087753093043744, 0.15034378372603224, 0.1577366706315382, 2.3597863679308926, 2.3720705685850083, 1.9750450011509424, 1.9089093956121943, 0.2058194442672034, 2.208068966200545, 1.7948285866715374, 0.12982469866912164, 2.4660834379753145, 0.22981708203576787, 0.24385834021981906, 0.18107594209416794, 3.1049334246418177, 0.21294842317394724, 2.539877625040734, 2.8815053385017424, 2.570943189655566, 0.19707334786370675, 0.18563270908675875, 1.124246386572472, 0.2632299350763064, 1.5134790446991622, 3.0544792399523453, 2.187080956467173, 2.78853055794546, 2.4164244466604248, 1.419472589053938, 0.2383339945787029, 1.6568577036332326, 0.14161685082531103, 2.784029405657585, 1.9253578848180508, 0.20550399677237285, 0.8845803577466329, 0.2011666462491314, 2.999164321950167, 0.16749031617410137, 0.14267140203117876, 0.15865000121765707, 0.16154341703911795, 1.5796434870605176, 2.9015775463512177, 1.3262432848967702, 0.15414084040007378, 0.156233566079009, 3.1052093748306264, 2.344896185141766, 0.21412698164877064, 0.2066481479076159, 2.8620587565772855, 0.1681852069385732, 0.1812338413559214, 0.18634275253211444, 1.5298402404428957, 0.16177005318105062, 1.7109969699670802, 0.2464113453793569, 0.12214156498374867, 0.828582403533228, 2.848272399593359, 0.1550966501087, 2.903118246949888, 2.7201273678504783, 1.5705490858173203, 2.377424411845673, 2.4942257192218262, 0.9948832160290272, 1.8173538195102288, 0.2583141535968052, 0.21027570866404557, 1.6261756398134368, 0.15451305982130217, 3.0891155033773527, 1.1551967538471064, 2.0200335480481466, 0.10210745406371415, 0.1191763110419466, 0.22213079155020204, 3.08533450119461, 3.043006206721337, 1.2450330839743564, 0.25735589132107445, 0.18441036072536993, 0.2360691815983429, 2.100082732049202, 2.1033564613930538, 2.549976957967415, 3.123583589764156, 1.0433295582048965, 1.8068174941567952, 2.2574915300641383, 0.1947822573456629, 1.9379663385869732, 2.626502224734165, 1.5869275359796917, 2.3502116571238005, 0.1697391610003699, 2.251901565130402, 0.20899840978243486, 1.77766257604291, 1.8573324590433307, 2.695888038990523, 0.12831179774108062, 3.059669323205609, 2.5669041562903545, 2.7478122152171993, 2.1850496941338378, 2.4325292871342272, 2.40921882469851, 2.529725309940522, 0.24195736561284323, 1.7769957807910763, 0.26379862723441777, 3.0767996589277136, 2.174531748803081, 3.099452648442419, 2.9536727462251373, 0.25106407170641276, 2.271946421139383, 0.16647362738199573, 0.15648033055469418, 0.20918588331418855, 0.5646937551005474, 0.22311772746580333, 0.11182597766858998, 1.2169616411907904, 0.20713626506981667, 0.2064874705343414, 0.2538089453127395, 0.13285518392005174, 1.4411106749465732, 2.616710838321849, 2.928446131860732, 1.9258571086546585, 0.26025882773485615, 2.189644196002791, 2.945519887241391, 0.12918986142339434, 0.14938292932903732, 2.5085190518411995, 0.12476890073866767, 1.1877328535525058, 2.4861654928649157, 0.202551552919229, 0.14121679414648403, 0.19750446808418232, 0.1291214305917853, 1.5879785603129677, 0.2629605222695384, 2.029446307068622, 2.891668736608583, 1.704385462389807, 0.14029437228218192, 2.273009498563077, 1.90757973221469, 2.9581684592390296, 0.18827239831723447, 1.4116039503232538, 2.104492280098266, 1.6120229476938062, 2.409854624285447, 0.13366887899572477, 0.2293215078418886, 2.566273722080026, 2.652923845133139, 0.5490756325453026, 0.11437522292338446, 2.30299030597976, 2.8748138381281967, 2.485446452187382, 2.801012918173249, 0.1250294320905168, 0.11176612118933155, 2.8359180297056428, 1.5118131457553035, 1.4249724856444328, 0.21972910046329627, 0.10629007897191672, 0.18660215264866745, 0.250981032351705, 2.759954898945241, 2.051265538383009, 0.10347162783394245, 2.5804623945587055, 2.924523886668041, 1.9744626961977099, 2.773747785486084, 0.1485807472365664, 2.196147919683534, 0.22033805837594944, 0.14675451985294818, 1.7667979329199046, 0.7448143047084569, 0.13493285986682105, 0.26532897165084035, 2.391700302279772, 1.959605946555842, 2.411184905569043, 1.6939606213052327, 0.20088117528517307, 2.8083282863417613, 0.19950576860269997, 2.647404344125977, 2.471299274255076, 0.2538802486736988, 2.168479017681573, 1.948388214179454, 2.22445663282686, 2.499548480458047, 0.672305253855442, 0.10852178341662107, 0.9413439276389579, 0.1534320663363416, 3.0569389847583137, 0.23971509238233413, 2.7678512576682066, 3.0935186232257, 2.7665239399796846, 2.6711765069534734, 1.405101904686452, 2.6857212922901685, 0.12123258430714083, 1.744785297195408, 0.23882367705535876, 1.9081300127806218, 0.19228258404419296, 2.623543074855448, 0.1056828877429169, 2.772190413166092, 2.206667359519468, 0.1862643875579836, 1.4704923495009583, 1.8069279420541289, 2.491111474868677, 1.3919131298676544, 0.12881729374540954, 2.0829743840266706, 1.5580800646298016, 0.1324827783549274, 1.4326432002858729, 2.3108635486982516, 2.3491617119354733, 2.999695863476676, 0.16423390897117973, 0.2219860945205575, 0.13290402955249714, 0.1823668445866993, 2.688435237928996, 0.13456876622653557, 1.4318245991575986, 2.553167522263946, 2.019279555115279, 2.3080940094774864, 2.8694637080076935, 0.2524822487528902, 2.8439287859093647, 0.22675112932383046, 2.177015150249287, 1.5800010288103865, 0.17544214986553908, 0.17702063999693934, 0.20994620790623686, 2.666763986370401, 1.5944713058561493, 0.2138870943442699, 2.4261017796148, 0.12029150560257638, 2.6216192570931156, 0.5912722576987156, 2.6770760891604928, 0.20836014778587864, 1.8860762801997155, 0.20660892721000318, 0.22742524674681, 1.667256314359085, 0.14494654775621016, 2.1264831828992015, 2.295518386715728, 1.0424946611350492, 1.6595659772041937, 0.8820295315766433, 0.1809462389105828, 2.422936356948325, 1.751424293376534, 1.5197988515571987, 0.16211223946926673, 0.20413101529321143, 1.9190911199945608, 1.513686733280357, 0.19856243860719203, 3.040582406021874, 0.39376691154097954, 1.372072330065187, 1.5355833148999862, 0.20503367158875213, 0.18124955948621954, 0.22631506483194647, 1.183801151068587, 0.14969568102575567, 0.11439187841999762, 0.1776910731896818, 0.1279633727456052, 1.3850331543316359, 0.2630978219974693, 2.3697612600773907, 1.8294361463933313, 2.294218989896898, 2.584791482600597, 3.1256673792036813, 0.17655467799057922, 0.20907253846684026, 0.12716458541941172, 1.8444508106292075, 0.21917528333256453, 1.4289756369527453, 2.728988865983554, 0.24110505701765605, 2.3500333691891035, 1.8920603019933453, 0.1852127913585781, 0.10460081998847956, 1.407229596427331, 1.4277589518327813, 1.2145700898558316, 0.25269530469534557, 0.10129103637220682, 0.8721924849634565, 1.8000994088517466, 0.10319152994443533, 1.9835871775487295, 3.0901273350609655, 2.1999108526029114, 1.2040820056780335, 0.7879873496844696, 2.799855047240989, 0.20886596882134034, 0.13377573506202275, 2.7969547198201514, 2.224747270098878, 0.2467636217853843, 1.036174286957581, 0.23673071608253085, 0.1738669122551686, 3.0535485586090476, 0.17339537673306332, 0.2081347423643792, 2.333209488882421, 0.17382710931488254, 1.6064143080442295, 1.482510230439498, 2.245572094376755, 1.8119025409013878, 2.885341680385262, 3.08967411936467, 0.13729293212061794, 3.069864900543473, 3.1292629400897214, 0.21530832241847808, 0.25427917172162073, 0.23543097298837157, 1.1234685291649311, 2.51784877314954, 1.8414059119903043, 3.121568111470015, 0.2580564671177189, 3.1154686946856276, 0.10834171979932851, 2.8460702052637297, 1.3799536438235716, 3.1091083997015123, 2.933481026395918, 2.1316895375940748, 1.5241536874457837, 2.429876534301321, 3.1197385942026457, 0.1493189838787785, 1.5901727047374465, 2.318772636984368, 2.830970386614532, 2.911398776930057, 0.2520488782006265, 0.2502177777620343, 0.10151460707768219, 0.10220323221337033, 0.17588351632077176, 0.24020136306408554, 2.2002040438134425, 0.18672060764362336, 1.705273176649538, 2.1145522576580524, 1.3685741614545466, 0.22613928769673855, 0.11070332733069566, 0.5396662437235686, 1.4364717477443627, 2.2392147016513624, 2.8839703510256713, 2.39885247386576, 0.17592708141448526, 2.592978049813704, 0.2518189226171186, 1.9794575088156703, 1.350176386064938, 2.1610102428799753, 2.145899959379049, 2.6277556620615496, 0.1369348207787293, 1.930950669371857, 0.20525150832715147, 1.3590349122266516, 2.9105219258596637, 0.2629178787891491, 2.7385523459068457, 2.0533197533858347, 0.15684251286170003, 1.421840666919096, 2.2969741101369627, 0.3625117018272491, 0.14178529262435538, 0.25135342991975784, 2.400661917891224, 1.6149812689069691, 0.2448205774818991, 2.4730387364140505, 2.3274522096990906, 0.1249731348213231, 0.18766178450504245, 0.21445974908664223, 0.15593927670444518, 0.12922977592266252, 2.5392700027902517, 0.12827291734103433, 0.2595258345086504, 0.84595307598506, 1.205706234394718, 2.965187857771807, 0.14777666023955227, 2.6237051921175034, 0.16588437048760069, 0.14559604060546757, 2.30061135314415, 1.9253070939862285, 0.1721744384154359, 0.22793083559241556, 1.9553794128614126, 2.1973493001861955, 2.672320197412355, 0.11881443419873026, 1.0512616316012509, 1.2142132741443146, 2.3130290262902045, 0.16041533503660158, 2.1015625072355264, 2.8666425974103413, 0.2193944025017098, 2.233045801603686, 0.14313239496163196, 2.0399610082247785, 2.518647498201887, 0.2474301045143201, 2.646431576023321, 0.13863702164121128, 2.582725903593602, 3.039129547681949, 1.1094494261475343, 0.19481123814574305, 2.714636111144752, 2.519181463344232, 2.485030098431427, 2.735388593315875, 1.6977599841872983, 0.21868306061318837, 0.18596040030447705, 0.23953748104259645, 0.1965273222090973, 2.058379978613925, 2.9610269965768596, 0.13146628982590908, 1.0447483943025677, 0.26028208835858746, 2.746772814020978, 0.16403582345881035, 2.2388227242031595, 0.13981490533165655, 0.23252369777987592, 0.17422046533356417, 1.913916313776545, 0.1931180105019809, 1.3358442350631512, 1.1086277640671693, 2.844956512808051, 0.23968824767804153, 2.87451904970968, 2.754625654134888, 1.508083826498353, 3.0100786571888474, 2.218610725507932, 0.22118569759841375, 0.2186523672525087, 0.15772619175453761, 0.23011706235994436, 2.742062438308578, 2.6787461454005266, 0.2257168458961344, 0.13038902835237365, 0.13857687970577645, 2.9155706394854315, 2.613238159731066, 1.49588980185986, 1.1909283435828915, 0.22115111671609788, 1.1214754088692287, 0.4836215199169632, 2.6415146546432635, 0.217073072671887, 0.26230805074340946, 3.060819924255859, 0.9219502485003881, 2.2025319147966, 0.20249263570351095, 1.9852380957585134, 0.23722093776209394, 2.5029587762835823, 0.13502707980627676, 1.658162854568294, 1.7224527862999204, 3.0136544006337598, 0.132965911024518, 1.5918899112185156, 0.22001089792169565, 0.17889108275657467, 1.9640610553646973, 2.8494855573739635, 2.5779050773097105, 3.1137450127542525, 3.0938041157007348, 2.19441180706831, 0.10517717578661484, 1.598762060590438, 2.2778731462792767, 1.666023130157641, 3.0812469310859236, 2.7621043156996077, 2.132525786879073, 0.257903335797791, 2.44981533978175, 2.6905633151585127, 2.8980974566799262, 0.1628973956195902, 0.10983094869604143, 0.2069428804812686, 3.0454184697545554, 2.687215400197232, 0.1572203226665937, 0.11693913615118212, 0.10811570840573775, 0.12442923359285489, 0.11343445753135033, 1.7543969383013944, 0.23318578403147797, 2.705917621427943, 2.8251112377428282, 0.6091193483594842, 3.017794001649998, 2.8403206416300923, 2.1914553037079623, 0.24035693804613414, 1.8397495005993172, 2.719829975708282, 2.256148573730054, 2.749110912677914, 2.8368964124544793, 0.1916045537467067, 0.12204216448197258, 2.6633661765670067, 0.18543512826222072, 0.1262789166139083, 0.10621938731576351, 2.8199341354970864, 2.991272363876399, 0.23102730051148254, 0.4462266747250778, 0.1114968076601533, 0.8394196065740831, 0.14783623327065704, 2.7629867536744586, 1.0985251167484602, 0.24023544250399817, 0.20018684587953806, 1.4602238024105145, 0.10937822671508042, 2.044486570093083, 2.473450746552455, 0.7001006151963544, 1.4734030161458271, 2.8155785724633122, 3.128964235256084, 0.11248746222215873, 2.0849045959801056, 0.18063708022025793, 0.15228816555840582, 0.8204224180320788, 0.2445859143956292, 1.831981734160585, 2.450068415971028, 0.23760475253360588, 1.6949263872283078, 1.1296212590634975, 0.12996684311445778, 0.2372660275454213, 0.16546145067092383, 0.11991102259715718, 2.5057061780557, 1.3249810064643615, 0.25298133585253246, 2.7475790269750138, 2.6416956818524033, 0.23386757779059747, 0.18213177721718354, 2.6704726708025275, 2.474338497798819, 2.694309825628091, 1.1789686750606818, 0.18375456854056488, 0.24998884572791477, 2.0139971573107784, 0.12712623537689827, 0.10545885817269546, 0.16507566989252187, 2.7783748035115043, 0.23376539073665276, 0.10507330283652208, 1.9935674146342393, 0.21355094618651915, 2.002375020840455, 2.928776515339729, 0.2339798942161718, 3.0375516498103545, 0.11315604411762423, 0.23661222417304248, 0.10916497418789953, 0.20595780467608027, 2.769189986656169, 3.0285665727168856, 2.200770093017113, 2.0313124962457096, 0.2488969923699125, 0.12531250560321242, 2.6141263511490984, 2.7147867910837356, 3.1381166692332174, 0.5968065705897178, 2.0815081401517292, 1.4261588141850474, 1.0818946282373143, 2.840406317823865, 2.587501280612171, 2.589541560246518, 0.8185480343514437, 2.296745220905517, 0.26163904912720326, 3.0000886330293355, 0.5064259835994362, 2.42810331450537, 2.8591375396631427, 0.5775469473199959, 2.0727929511797054, 1.59359076189967, 1.177982417401359, 0.19407673233421918, 2.978987194241792, 1.506823453487048, 0.784174924493821, 2.552244152529973, 0.6901140351638845, 2.80124682030732, 2.5167421971440573, 0.1683895595333974, 2.044318981116042, 3.0017113314706387, 1.8748063472666336, 1.5496648373690416, 0.1194398629783632, 2.969758374171929, 2.5627196530170853, 1.5354004139535717, 0.2386190026360194, 0.26575316509334035, 1.7383170044681453, 3.0767891925570603, 1.583080315312683, 0.13190994729194044, 2.383503425236478, 0.18561810751558944, 0.23543784425179734, 2.6375605145853336, 0.2493773851336459, 2.4526777055209252, 1.4584479723628148, 1.6502268870543193, 3.1202568598222933, 1.986170102363917, 1.4983353071950738, 0.12464592568429915, 2.856225430107311, 2.903492391023458, 1.8823643717820926, 3.0192213766598375, 1.7294190635687055, 0.22259995083910816, 2.818790889728914, 0.19756928433989648, 0.16016560498554322, 1.8781689646082218, 2.8289151307268505, 0.2258534464767991, 0.505399232936651, 0.958308724931643, 3.099217608522023, 2.7125272166128327, 2.623902629486726, 0.1671978348972368, 1.9002139482315026, 2.898239668273748, 3.1333324296819116, 0.16964693696516214, 1.9354793756248856, 0.18209255263758256, 0.2637564278415372, 0.1820013826388711, 0.2263959881844351, 0.11408411016711258, 0.2515166770544584, 0.1688303863742852, 2.7736962299147705, 2.7697711635425755, 2.8688854296420376, 2.6137808557350333, 1.5002940969550267, 0.16447476976749073, 0.19903359869023618, 0.11309531485296385, 2.681954356754129, 0.23625535072069737, 1.7522866804406585, 0.13874477105332417, 0.23698950439204677, 0.19999832169405185, 2.7211602736024636, 0.20076164917797373, 1.8957094150183276, 0.14683442597363194, 2.2087925827365527, 0.129293138200685, 0.11241670079390322, 0.2083134441964879, 0.17452233375960538, 0.163536996301682, 1.9895734028309278, 0.8416301064465856, 0.17299609806553523, 0.12559033309552928, 0.22189394977547533, 0.1404999653830986, 2.8995692944608797, 2.6733411625422407, 2.0602455004204785, 0.1209884026629683, 0.13127256528624753, 3.101069818921056, 0.20012790266230285, 1.979039520077187, 2.1891740951086693, 0.16545113321184998, 1.2659686290427636, 2.2811298271800116, 0.894737641675429, 2.422491097905689, 0.17778207447323152, 2.2553091560651026, 2.2566470301999413, 2.008340845514579, 1.056298610785835, 0.21657673126083926, 0.15421764232385435, 2.513299874562171, 3.130892949446439, 2.522899063912838, 0.2072595445027833, 0.24213784853939635, 2.340893738728004, 0.9978412969519588, 0.24953838923134067, 0.14267395350571768, 1.334875617359985, 2.279730146097727, 1.4196242123221845, 2.05579012423352, 1.7053875079076637, 1.6686910505386696, 0.22709626717885695, 2.93112571170284, 2.171524477847969, 2.8983887873564242, 2.9494332943936126, 2.96467531002643, 1.4165808570575507, 2.818597572972996, 0.11770487879034872, 0.10842046167188499, 0.11967280847661395, 1.9550488584418912, 0.22528835747242804, 0.23637067248739044, 0.17148393544562762, 1.142641492393541, 2.0356223255607175, 0.11713501540210708, 0.18327830243613347, 2.4955139644619484, 0.9380353691568308, 0.20501850414376893, 0.2256567289103173, 3.1137498578842435, 2.5774339417108716, 2.668382501311116, 0.1744306157484666, 0.10095161702423794, 2.851488846242549, 2.198159862808738, 2.1666754103545185, 2.5786494093367063, 0.2535617299112879, 2.6989281015161133, 2.9288447734738186, 3.108386161979642, 1.6638940586551632, 2.785130486708444, 0.11713166995992975, 2.786868550420693, 1.048105662059725, 0.20039407220455485, 0.9904185941712029, 2.609025510047965, 1.942477174782541, 0.114690239412059, 0.818479756792433, 0.2179569736944727, 2.485423255866685, 2.3849528377182043, 2.621389885396244, 2.2852366725347464, 2.715918400204194, 1.3557162689861064, 0.7439880802622411, 0.23410294279948907, 1.8892843554302614, 0.21042415784506427, 0.21266524401392434, 2.095500840303812, 0.14847376643098484, 0.13718966123241638, 3.0167148537769464, 3.0887777287018725, 0.20089223966207617, 0.23627497102534675, 0.264991374064677, 2.3723652896328917, 2.908347657791282, 1.8079679260152832, 0.8591045426557972, 0.15852952124067984, 2.8772894703989342, 0.20679507403719669, 1.6660794494390634, 1.9619529733724208, 0.2274931295231777, 1.2739171143684447, 2.930903934807149, 1.440186675356523, 0.20577162370042157, 0.1176664681238852, 0.20249750772304864, 0.11763413891735175, 2.581651280747736, 2.8886252337400418, 0.20736516237894204, 2.1270068003120395, 2.350308127315584, 1.7196346848103772, 0.25044580877642997, 2.079727379127778, 0.22683162845043633, 0.6835074385816453, 0.1346416977546219, 1.464915655889811, 0.14947448986737788, 0.2569583626311581, 0.23365215781001675, 2.775635510641191, 1.047557624215564, 3.008323542539434, 0.2270843145932189, 1.9579891651611758, 2.039596702509435, 2.2822821441738297, 1.1171645162675055, 2.4959188416225633, 0.10129053521833956, 0.14048925940252627, 0.1810718140988532, 1.915464819724712, 1.8739078297052651, 0.2478968467167665, 0.18141523477139584, 3.0168441679262257, 2.8748155242233615, 0.17364919269321677, 2.7955374110637345, 3.0008417830381955, 3.014612715326504, 0.26004226036800715, 1.698027786619575, 2.7534115795342653, 0.1650001118944251, 1.4135292506245676, 1.2973630730155292, 3.0664290279901656, 0.1381235362922117, 0.19346317845302552, 0.26351861782734914, 2.1305623748165874, 0.12730256626593994, 2.9609936745814394, 0.22274039173759952, 0.7228937749472314, 2.4697651732241885, 0.11949423559297156, 1.4910170892126622, 3.1289394252094733, 2.0251283184455713, 2.5235262204328066, 1.3768588707131686, 0.17182104402916198, 1.1571802242944256, 0.5117338705096499, 1.2040079624608562, 2.3862013431606206, 2.4523916864381574]\n"
     ]
    },
    {
     "data": {
      "text/plain": [
       "(array([175., 186.,  26.,   2.,   1.,   6.,   5.,   4.,   5.,   9.,   5.,\n",
       "          7.,   9.,  12.,  11.,   7.,  12.,  22.,  17.,  17.,  14.,  15.,\n",
       "         15.,  16.,  23.,  19.,  19.,  26.,  23.,  19.,  22.,  27.,  23.,\n",
       "         29.,  25.,  30.,  34.,  22.,  28.,  33.]),\n",
       " array([0.10095162, 0.17688074, 0.25280987, 0.328739  , 0.40466812,\n",
       "        0.48059725, 0.55652637, 0.6324555 , 0.70838463, 0.78431375,\n",
       "        0.86024288, 0.93617201, 1.01210113, 1.08803026, 1.16395939,\n",
       "        1.23988851, 1.31581764, 1.39174676, 1.46767589, 1.54360502,\n",
       "        1.61953414, 1.69546327, 1.7713924 , 1.84732152, 1.92325065,\n",
       "        1.99917977, 2.0751089 , 2.15103803, 2.22696715, 2.30289628,\n",
       "        2.37882541, 2.45475453, 2.53068366, 2.60661279, 2.68254191,\n",
       "        2.75847104, 2.83440016, 2.91032929, 2.98625842, 3.06218754,\n",
       "        3.13811667]),\n",
       " <BarContainer object of 40 artists>)"
      ]
     },
     "execution_count": 43,
     "metadata": {},
     "output_type": "execute_result"
    },
    {
     "data": {
      "image/png": "[encoded data removed]",
      "text/plain": [
       "<Figure size 864x576 with 1 Axes>"
      ]
     },
     "metadata": {
      "needs_background": "light"
     },
     "output_type": "display_data"
    }
   ],
   "source": [
    "s_angles = [scattering_angle(8) for i in range(1000)]\n",
    "print(s_angles)\n",
    "counts, bins = np.histogram(s_angles, bins=40)\n",
    "plt.hist(bins[:-1], bins, weights=counts, rwidth=0.8)"
   ]
  },
  {
   "cell_type": "code",
   "execution_count": null,
   "metadata": {
    "vscode": {
     "languageId": "python"
    }
   },
   "outputs": [],
   "source": [
    "# ok, now let's write a loop to process a lot of particles\n",
    "# using one on each thread to speed things up\n",
    "# considering this is a toy model, let's just use one thread for each particle\n",
    "def run_sim_instance(e_0, alpha_path, stepsize=0.0001, nbins=80, epsilon=0.1, density=0.8562):\n",
    "    run_data = scatter_sim(e_0, alpha_path, density=density, stepsize=stepsize)\n",
    "    return run_data\n",
    "\n",
    "def sim_wrapper(arg):\n",
    "    args, kwargs = arg\n",
    "    return run_sim_instance(*args, **kwargs)\n",
    "\n",
    "def start_sim(e_0, n_particles, stepsize=0.001, nbins=40, epsilon=0.1, density=0.8562):\n",
    "    alpha_path = gen_alpha_path(e_0, epsilon=epsilon, stepsize=stepsize)\n",
    "    arg = (e_0, alpha_path)\n",
    "    kwargs = {'stepsize': stepsize, 'nbins': nbins, 'epsilon': epsilon, 'density': density}\n",
    "    with Pool(floor((2/3)*cpu_count())) as p:\n",
    "        sim_data = p.map(sim_wrapper, [(arg, kwargs) for i in range(n_particles)])\n",
    "        p.close()\n",
    "        p.join()\n",
    "\n",
    "    return sim_data\n",
    "\n",
    "sim_data = start_sim(8, 5000, nbins=50, stepsize=1E-6)\n",
    "\n",
    "# this is a big sim, let's pickle the output so we can retrieve it later\n",
    "#with open(\"100k_8MeV_Alphas_Redux\", \"wb\") as fp:\n",
    "#    pickle.dump(sim_data, fp)"
   ]
  },
  {
   "cell_type": "code",
   "execution_count": null,
   "metadata": {
    "vscode": {
     "languageId": "python"
    }
   },
   "outputs": [],
   "source": [
    "e_angles = []\n",
    "for k in sim_data:\n",
    "    e_angles.extend(k[2])"
   ]
  },
  {
   "cell_type": "code",
   "execution_count": null,
   "metadata": {
    "vscode": {
     "languageId": "python"
    }
   },
   "outputs": [
    {
     "data": {
      "image/png": "[encoded data removed]",
      "text/plain": [
       "<Figure size 864x576 with 1 Axes>"
      ]
     },
     "metadata": {
      "needs_background": "light"
     },
     "output_type": "display_data"
    }
   ],
   "source": [
    "plt.scatter(*zip(*e_angles))\n",
    "plt.ylabel(\"Proton Energy\")\n",
    "plt.xlabel(\"Scattering Angle\")\n",
    "plt.title(\"Proton Energy vs. Scattering Angle (5k Alphas, $10^{-7}$ Stepsize)\")\n",
    "plt.tight_layout()\n",
    "plt.show()"
   ]
  },
  {
   "cell_type": "code",
   "execution_count": null,
   "metadata": {
    "vscode": {
     "languageId": "python"
    }
   },
   "outputs": [
    {
     "data": {
      "text/plain": [
       "<matplotlib.collections.PathCollection at 0x7f3eda27f6d0>"
      ]
     },
     "execution_count": 47,
     "metadata": {},
     "output_type": "execute_result"
    },
    {
     "data": {
      "image/png": "[encoded data removed]",
      "text/plain": [
       "<Figure size 864x576 with 1 Axes>"
      ]
     },
     "metadata": {
      "needs_background": "light"
     },
     "output_type": "display_data"
    }
   ],
   "source": [
    "protone = []\n",
    "for x in sim_data:\n",
    "    if x[2] != []:\n",
    "        protone.append(x[2])\n",
    "\n",
    "protone_ang = [x[0][0] for x in protone]\n",
    "protone_e = [x[0][1] for x in protone]\n",
    "plt.scatter(protone_ang, protone_e)"
   ]
  },
  {
   "cell_type": "code",
   "execution_count": null,
   "metadata": {
    "vscode": {
     "languageId": "python"
    }
   },
   "outputs": [
    {
     "ename": "KeyboardInterrupt",
     "evalue": "",
     "output_type": "error",
     "traceback": [
      "\u001b[0;31m---------------------------------------------------------------------------\u001b[0m",
      "\u001b[0;31mKeyboardInterrupt\u001b[0m                         Traceback (most recent call last)",
      "\u001b[0;32m/tmp/ipykernel_789/1164405885.py\u001b[0m in \u001b[0;36m<module>\u001b[0;34m\u001b[0m\n\u001b[1;32m      7\u001b[0m \"\"\"\n\u001b[1;32m      8\u001b[0m \u001b[0;34m\u001b[0m\u001b[0m\n\u001b[0;32m----> 9\u001b[0;31m \u001b[0mq_spec\u001b[0m \u001b[0;34m=\u001b[0m \u001b[0;34m[\u001b[0m\u001b[0mquenched_spectrum\u001b[0m\u001b[0;34m(\u001b[0m\u001b[0ms\u001b[0m\u001b[0;34m,\u001b[0m \u001b[0;36m0.5\u001b[0m\u001b[0;34m)\u001b[0m \u001b[0;32mfor\u001b[0m \u001b[0ms\u001b[0m \u001b[0;32min\u001b[0m \u001b[0msim_data\u001b[0m\u001b[0;34m]\u001b[0m\u001b[0;34m\u001b[0m\u001b[0;34m\u001b[0m\u001b[0m\n\u001b[0m",
      "\u001b[0;32m/tmp/ipykernel_789/1164405885.py\u001b[0m in \u001b[0;36m<listcomp>\u001b[0;34m(.0)\u001b[0m\n\u001b[1;32m      7\u001b[0m \"\"\"\n\u001b[1;32m      8\u001b[0m \u001b[0;34m\u001b[0m\u001b[0m\n\u001b[0;32m----> 9\u001b[0;31m \u001b[0mq_spec\u001b[0m \u001b[0;34m=\u001b[0m \u001b[0;34m[\u001b[0m\u001b[0mquenched_spectrum\u001b[0m\u001b[0;34m(\u001b[0m\u001b[0ms\u001b[0m\u001b[0;34m,\u001b[0m \u001b[0;36m0.5\u001b[0m\u001b[0;34m)\u001b[0m \u001b[0;32mfor\u001b[0m \u001b[0ms\u001b[0m \u001b[0;32min\u001b[0m \u001b[0msim_data\u001b[0m\u001b[0;34m]\u001b[0m\u001b[0;34m\u001b[0m\u001b[0;34m\u001b[0m\u001b[0m\n\u001b[0m",
      "\u001b[0;32m/tmp/ipykernel_789/3267671411.py\u001b[0m in \u001b[0;36mquenched_spectrum\u001b[0;34m(sim_data, proton_factor, alpha_factor)\u001b[0m\n\u001b[1;32m     41\u001b[0m     \u001b[0;32mwhile\u001b[0m \u001b[0ma\u001b[0m \u001b[0;34m<\u001b[0m \u001b[0mlen\u001b[0m\u001b[0;34m(\u001b[0m\u001b[0msim_data\u001b[0m\u001b[0;34m[\u001b[0m\u001b[0;36m0\u001b[0m\u001b[0;34m]\u001b[0m\u001b[0;34m)\u001b[0m\u001b[0;34m:\u001b[0m\u001b[0;34m\u001b[0m\u001b[0;34m\u001b[0m\u001b[0m\n\u001b[1;32m     42\u001b[0m         \u001b[0ma_diffs\u001b[0m\u001b[0;34m.\u001b[0m\u001b[0mappend\u001b[0m\u001b[0;34m(\u001b[0m\u001b[0mabs\u001b[0m\u001b[0;34m(\u001b[0m\u001b[0msim_data\u001b[0m\u001b[0;34m[\u001b[0m\u001b[0;36m0\u001b[0m\u001b[0;34m]\u001b[0m\u001b[0;34m[\u001b[0m\u001b[0ma\u001b[0m\u001b[0;34m]\u001b[0m \u001b[0;34m-\u001b[0m \u001b[0msim_data\u001b[0m\u001b[0;34m[\u001b[0m\u001b[0;36m0\u001b[0m\u001b[0;34m]\u001b[0m\u001b[0;34m[\u001b[0m\u001b[0ma\u001b[0m\u001b[0;34m-\u001b[0m\u001b[0;36m1\u001b[0m\u001b[0;34m]\u001b[0m\u001b[0;34m)\u001b[0m\u001b[0;34m)\u001b[0m\u001b[0;34m\u001b[0m\u001b[0;34m\u001b[0m\u001b[0m\n\u001b[0;32m---> 43\u001b[0;31m         \u001b[0ma\u001b[0m \u001b[0;34m+=\u001b[0m \u001b[0;36m1\u001b[0m\u001b[0;34m\u001b[0m\u001b[0;34m\u001b[0m\u001b[0m\n\u001b[0m\u001b[1;32m     44\u001b[0m     \u001b[0mq_spec\u001b[0m\u001b[0;34m.\u001b[0m\u001b[0mappend\u001b[0m\u001b[0;34m(\u001b[0m \u001b[0msum\u001b[0m\u001b[0;34m(\u001b[0m \u001b[0;34m[\u001b[0m\u001b[0malpha_factor\u001b[0m\u001b[0;34m*\u001b[0m\u001b[0mj\u001b[0m \u001b[0;32mfor\u001b[0m \u001b[0mj\u001b[0m \u001b[0;32min\u001b[0m \u001b[0ma_diffs\u001b[0m\u001b[0;34m]\u001b[0m \u001b[0;34m+\u001b[0m \u001b[0;34m[\u001b[0m\u001b[0mproton_factor\u001b[0m\u001b[0;34m*\u001b[0m\u001b[0mk\u001b[0m \u001b[0;32mfor\u001b[0m \u001b[0mk\u001b[0m \u001b[0;32min\u001b[0m \u001b[0msim_data\u001b[0m\u001b[0;34m[\u001b[0m\u001b[0;36m1\u001b[0m\u001b[0;34m]\u001b[0m\u001b[0;34m]\u001b[0m \u001b[0;34m)\u001b[0m \u001b[0;34m)\u001b[0m\u001b[0;34m\u001b[0m\u001b[0;34m\u001b[0m\u001b[0m\n\u001b[1;32m     45\u001b[0m     \u001b[0;32mreturn\u001b[0m \u001b[0mq_spec\u001b[0m\u001b[0;34m\u001b[0m\u001b[0;34m\u001b[0m\u001b[0m\n",
      "\u001b[0;31mKeyboardInterrupt\u001b[0m: "
     ]
    }
   ],
   "source": [
    "\"\"\"\n",
    "with Pool(floor(cpu_count()*(2/3))) as p:\n",
    "    q_spec = p.map(quenched_spectrum, sim_data)\n",
    "    p.close()\n",
    "    p.join()\n",
    "q_spec = [l for ls in q_spec for l  in ls]\n",
    "\"\"\"\n",
    "\n",
    "q_spec = [quenched_spectrum(s, 0.5) for s in sim_data]"
   ]
  },
  {
   "cell_type": "code",
   "execution_count": null,
   "metadata": {
    "vscode": {
     "languageId": "python"
    }
   },
   "outputs": [],
   "source": [
    "q_spec = [l\n",
    "          for ls in q_spec\n",
    "          for l in ls\n",
    "          ]"
   ]
  },
  {
   "cell_type": "code",
   "execution_count": null,
   "metadata": {
    "vscode": {
     "languageId": "python"
    }
   },
   "outputs": [
    {
     "data": {
      "image/png": "[encoded data removed]",
      "text/plain": [
       "<Figure size 864x576 with 1 Axes>"
      ]
     },
     "metadata": {
      "needs_background": "light"
     },
     "output_type": "display_data"
    }
   ],
   "source": [
    "#quenched_spectrum_counts = BinnedCountData(25, startpoint=min(q_spec), endpoint=max(q_spec))\n",
    "#quenched_spectrum_counts.add_count_by_list(q_spec)\n",
    "#plt.hist(quenched_spectrum_counts.bin_edges[:-1],\n",
    "#quenched_spectrum_counts.bin_edges, weights=quenched_spectrum_counts.counts,\n",
    "#rwidth=0.8)\n",
    "counts, bins = np.histogram(q_spec, 30)\n",
    "plt.hist(bins[:-1], bins, weights=counts, rwidth=0.8)\n",
    "#plt.bar(bins[:-1], counts, width=0.8, align='center')\n",
    "plt.yscale('log')\n",
    "plt.xticks([round(i, 2) for i in bins])\n",
    "plt.xticks(rotation=60)\n",
    "plt.ticklabel_format(style='plain', axis='x')\n",
    "plt.gcf().axes[0].xaxis.get_major_formatter().set_scientific(False)\n",
    "plt.gca().invert_xaxis()\n",
    "#plt.gca().xaxis.set_major_locator(tck.MultipleLocator(base=0.1))\n",
    "plt.title(\"5k Alpha Quenched Spectrum Counts (Proton Quenching Factor of 0.5)\")\n",
    "plt.xlabel(\"Energy (MeV)\")\n",
    "plt.ylabel(\"Count\")\n",
    "plt.tight_layout()\n",
    "plt.savefig(\"q_spec_negsoln_5k_alphas_b_newcx_rev2_0p1toPi.jpg\")\n",
    "plt.show()"
   ]
  },
  {
   "cell_type": "code",
   "execution_count": null,
   "metadata": {
    "vscode": {
     "languageId": "python"
    }
   },
   "outputs": [],
   "source": []
  }
 ],
 "metadata": {
  "kernelspec": {
   "display_name": "Python 3 (ipykernel)",
   "language": "python",
   "name": "python3"
  },
  "language_info": {
   "name": "",
   "version": ""
  }
 },
 "nbformat": 4,
 "nbformat_minor": 2
}
