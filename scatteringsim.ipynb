{
 "cells": [
  {
   "cell_type": "markdown",
   "metadata": {},
   "source": [
    "## SNO+ Scattering Pseudo-MC\n",
    "A simple test using known results to determine the viability of nuclear recoil\n",
    "explaining the odd behaviour at 2.2 MeV."
   ]
  },
  {
   "cell_type": "code",
   "execution_count": 31,
   "metadata": {},
   "outputs": [],
   "source": [
    "# importing the usual suspects\n",
    "import matplotlib.pyplot as plt\n",
    "import pandas as pd\n",
    "import numpy as np\n",
    "from pathlib import Path\n",
    "from multiprocessing import Pool\n",
    "\n",
    "# random number generation\n",
    "import random\n",
    "# i just picked an arbitrary seed here\n",
    "# if it matters it's easy to change\n",
    "random.seed(\"snoplus\")\n",
    "\n",
    "plt.rcParams['figure.figsize'] = (12, 8)"
   ]
  },
  {
   "cell_type": "code",
   "execution_count": 32,
   "metadata": {},
   "outputs": [
    {
     "name": "stdout",
     "output_type": "stream",
     "text": [
      "            KE  electron    nuclear  total\n",
      "0       0.0010     194.0  289.00000  483.0\n",
      "1       0.0015     233.0  260.00000  493.0\n",
      "2       0.0020     266.0  238.00000  503.0\n",
      "3       0.0025     294.0  219.00000  514.0\n",
      "4       0.0030     320.0  204.00000  524.0\n",
      "..         ...       ...        ...    ...\n",
      "116   800.0000      19.1    0.00655   19.1\n",
      "117   850.0000      18.4    0.00617   18.4\n",
      "118   900.0000      17.7    0.00582   17.7\n",
      "119   950.0000      17.1    0.00552   17.2\n",
      "120  1000.0000      16.6    0.00524   16.6\n",
      "\n",
      "[121 rows x 4 columns]\n"
     ]
    }
   ],
   "source": [
    "# now we read in the stopping power data from ASTAR\n",
    "stoppingpowers = pd.read_csv(Path(\"stoppingpowers/paraffin.csv\"))\n",
    "# rename cols to make them easier to reference\n",
    "stoppingpowers.columns = [\"KE\", \"electron\", \"nuclear\", \"total\"]\n",
    "# reindex the dataframe by kinetic energy to make lookups easier\n",
    "#stoppingpowers.set_index(\"KE\", inplace=True)\n",
    "print(stoppingpowers)"
   ]
  },
  {
   "cell_type": "markdown",
   "metadata": {},
   "source": [
    "So now we have the stopping power data available to us and formatted nicely.\n",
    "\n",
    "**NB**: the initial revision here is without scattering to get a grip on things\n",
    "\n",
    "The setup is that we have some sort of particle with a given energy E_0 (i'm not sure exactly what yet -\n",
    "need to figure that out)\n",
    "The general process goes like this:\n",
    "- Look up stopping power in the table for the energy of our event\n",
    "- Find dE (**NOTE**: need to figure out what dx will be here first - see\n",
    "  wikipedia page for stopping power)\n",
    "- Add dE to the bin for an event of that energy\n",
    "- Repeat this, as if we had an energy of E_j = E_0 - dE\n",
    "- Terminate once E_j is less than some given epsilon (generally close to zero -\n",
    "  but we will never reach zero exactly)\n",
    "\n",
    "Implementation notes: Can use recursion, but that is setting myself up for a\n",
    "nightmare so let's keep things iterative\n",
    "\n",
    "Also - how to deal with events which aren't exactly a given KE in the table.\n",
    "Data is nonlinear but describes the derivative of energy w.r.t. position - the\n",
    "function \"looks like\" it is C-infinity (ie. continuous derivatives) and differentiability\n",
    "implies linearity in a neighbourhood so a linear interpolation should be a very\n",
    "accurate estimation "
   ]
  },
  {
   "cell_type": "code",
   "execution_count": 33,
   "metadata": {},
   "outputs": [],
   "source": [
    "# Let's set up the bins for events here\n",
    "# I don't know of any prepackaged solution for this so let's write a structure\n",
    "# to hold binned data for us\n",
    "\n",
    "# this kind of seems unnecessary to me, but also I would be implementing the\n",
    "# exact same logic in a messier form otherwise so I digress\n",
    "class CountBin:\n",
    "    def __init__(self, low, high):\n",
    "        self._low = low\n",
    "        self._high = high\n",
    "        self._count = 0\n",
    "    \n",
    "    # setting properties for the bin count\n",
    "    @property\n",
    "    def count(self):\n",
    "        return self._count\n",
    "\n",
    "    @count.setter\n",
    "    def count(self, new_count):\n",
    "        self._count = new_count\n",
    "\n",
    "    # increment and decrement convenience functions\n",
    "    def increment(self):\n",
    "        self.count = self._count + 1       \n",
    "\n",
    "    def decrement(self):\n",
    "        self.count = self._count - 1\n",
    "\n",
    "    # properties for bin bounds\n",
    "    @property\n",
    "    def low_range(self):\n",
    "        return self._low\n",
    "\n",
    "    @property\n",
    "    def high_range(self):\n",
    "        return self._high\n",
    "\n",
    "    def __str__(self):\n",
    "        return f\"CountBin(low={self.low_range}, high={self.high_range}, count={self.count})\"\n",
    "    \n",
    "\n",
    "class BinnedCountData:\n",
    "    def __init__(self, num_bins, d=None, startpoint=0, endpoint=1):\n",
    "        if d != None:\n",
    "            low = min(d)\n",
    "            high = max(d)\n",
    "        else:\n",
    "            low = startpoint\n",
    "            high = endpoint\n",
    "\n",
    "        self.binEdges = np.linspace(low, high, num_bins+1)\n",
    "\n",
    "        self.bins = []\n",
    "\n",
    "        i = 0\n",
    "        while i < len(self.binEdges)-1:\n",
    "            self.bins.append(CountBin(self.binEdges[i], self.binEdges[i+1]))\n",
    "            i += 1\n",
    "\n",
    "\n",
    "    def get_bin_index(self, v):\n",
    "        i = 0\n",
    "        while i < len(self.binEdges) - 1:\n",
    "            if v <= self.binEdges[i+1]:\n",
    "                return i\n",
    "            i += 1\n",
    "\n",
    "\n",
    "    @property\n",
    "    def bin_min(self):\n",
    "        return min(self.binEdges)\n",
    "    \n",
    "    @property\n",
    "    def bin_max(self):\n",
    "        return max(self.binEdges)\n",
    "\n",
    "    @property\n",
    "    def bin_edges(self):\n",
    "        return self.binEdges\n",
    "\n",
    "    @property\n",
    "    def num_bins(self):\n",
    "        return len(self.bins)\n",
    "\n",
    "    # add a value to the correct count bin\n",
    "    def add_count_by_value(self, v):\n",
    "        # TODO is there a faster algorithm for this?\n",
    "        self.bins[self.get_bin_index(v)].increment()\n",
    "\n",
    "    # count an entire list\n",
    "    def add_count_by_list(self, l):\n",
    "        for i in l:\n",
    "            self.count_value(i)\n",
    "\n",
    "    def set_count_by_index(self, idx, c):\n",
    "        self.bins[idx].count = c\n",
    "\n",
    "    @property\n",
    "    def counts(self):\n",
    "        return [i.count for i in self.bins]\n",
    "\n",
    "    def get_count_by_value(self, v):\n",
    "        # get count of a bin some value is in\n",
    "        return self.bins[self.get_bin_index(v)].count"
   ]
  },
  {
   "cell_type": "markdown",
   "metadata": {},
   "source": [
    "Now we do the linear interpolation of the ASTAR data\n",
    "Although the data is nonlinear, this is still decently accurate since it is a differentiable function "
   ]
  },
  {
   "cell_type": "code",
   "execution_count": 34,
   "metadata": {},
   "outputs": [],
   "source": [
    "# now to do the linear interpolation for the ASTAR dataset\n",
    "def stp_interp(e, stp=stoppingpowers):\n",
    "    # NOTE this assumes that the stopping powers are sorted\n",
    "    # we get them this way from ASTAR so it's not an issue, but we can fix that if need be\n",
    "    for k in stoppingpowers.index:\n",
    "        if e >= stoppingpowers[\"KE\"].max():\n",
    "            return (stoppingpowers[\"total\"].iloc(-1))/(stoppingpowers[\"KE\"].iloc(-1))*e\n",
    "        elif e <= stoppingpowers[\"KE\"][k+1] and e >= stoppingpowers[\"KE\"][k]:\n",
    "            ke_low = stoppingpowers[\"KE\"][k]\n",
    "            sp_low = stoppingpowers[\"total\"][k]\n",
    "            ke_high = stoppingpowers[\"KE\"][k+1]\n",
    "            sp_high = stoppingpowers[\"total\"][k+1]\n",
    "            break\n",
    "\n",
    "    return ((sp_high - sp_low)/(ke_high - ke_low)) * e + sp_low\n"
   ]
  },
  {
   "cell_type": "markdown",
   "metadata": {},
   "source": [
    "Here we define a function to compute the scattering probability for each event"
   ]
  },
  {
   "cell_type": "code",
   "execution_count": 35,
   "metadata": {},
   "outputs": [],
   "source": [
    "def scattering_probability(ke, dx):\n",
    "    sample_dim = 1 # cm\n",
    "\n",
    "    N_A = 6.02214E23 # mol^-1\n",
    "    mol_wt = 246.43 # for LAB, need to verify\n",
    "    rho = 0.863 # g/cm^3, see above\n",
    "    n = ((N_A/mol_wt) * rho)*(sample_dim**2)*dx\n",
    "    # effective area based on cross-section\n",
    "    Z = 48 \n",
    "    D = ((197.3/137) * (2*Z)/ke)*1E-15\n",
    "    sigma = 130.646*4*np.pi*np.power(D, 2)\n",
    "    # total particle effective area\n",
    "    eff_a = sigma*n\n",
    "\n",
    "    # the total area\n",
    "    total_a = sample_dim**2\n",
    "    return  eff_a/total_a\n"
   ]
  },
  {
   "cell_type": "markdown",
   "metadata": {},
   "source": [
    "And now let's write a function to sample from the differential cross-section as a distribution"
   ]
  },
  {
   "cell_type": "code",
   "execution_count": 47,
   "metadata": {},
   "outputs": [],
   "source": [
    "def diff_cx(theta, ke):\n",
    "    Z = 48\n",
    "    D = ((198.3/137) * (2*Z)/ke)*1E-15\n",
    "    return np.pi/4 * D**2 * (np.cos(theta/2)/np.power(np.sin(theta/2),3))\n",
    "\n",
    "def scaled_diff_cx(theta, ke):\n",
    "    # luckily, our differential crossection is a decreasing function on the interval we care about\n",
    "    # so, we just take the left endpoint as our x-value\n",
    "    theta_min = 0.174533\n",
    "    scale = 1/(diff_cx(theta_min, ke))\n",
    "    return diff_cx(theta,ke)*scale\n",
    "\n",
    "def scattering_angle(ke):\n",
    "    theta_min = 0.174533\n",
    "    Z = 48\n",
    "    while True:\n",
    "        # first we sample from a uniform distribution of valid x-values\n",
    "        xsample = random.uniform(theta_min, np.pi)\n",
    "        # then find the scaled differential crosssection at the x-sample\n",
    "        scx = scaled_diff_cx(xsample, ke)\n",
    "        # and then return the x-sample if a random number is less than that value\n",
    "        if random.random() < scx:\n",
    "            return xsample"
   ]
  },
  {
   "cell_type": "markdown",
   "metadata": {},
   "source": [
    "Now to determine the change in momentum from the scattering\n",
    "\n",
    "We start with\n",
    "$$ \\frac{q}{p} = 2\\sin{\\frac{\\theta}{2}} $$\n",
    "\n",
    "Where q is the change in momentum, p is the total momentum (which is just the initial momentum of the $\\alpha$-particle) and $\\theta$ is the scattering angle.\n",
    "\n",
    "We rearrange this to obtain\n",
    "\n",
    "$$ q = 2p\\sin{\\frac{\\theta}{2}} $$\n",
    "\n",
    "Moreover, recall that we have \n",
    "$$ E_{\\alpha} = \\frac{1}{2}m_{\\alpha}v_{\\alpha}^2 $$\n",
    "\n",
    "and that \n",
    "$$ p = mv $$\n",
    "\n",
    "Combining these, we obtain\n",
    "$$ q = 2m_{\\alpha}\\sqrt{\\frac{2E_{\\alpha}}{m_{\\alpha}}}\\sin\\frac{\\theta}{2} $$"
   ]
  },
  {
   "cell_type": "markdown",
   "metadata": {},
   "source": [
    "Assuming that the proton is initially at rest, we obtain\n",
    "\n",
    "$$ v_{p} = 2\\frac{m_{\\alpha}}{m_{p}}\\sqrt{\\frac{2E_{\\alpha}}{m_{\\alpha}}}\\sin{\\frac{\\theta}{2}} $$\n",
    "\n",
    "Which gives us a kinetic energy of\n",
    "$$ E_p = \\frac{1}{2}m_pv_p^2 $$"
   ]
  },
  {
   "cell_type": "markdown",
   "metadata": {},
   "source": [
    "Now, let's do the simulation."
   ]
  },
  {
   "cell_type": "code",
   "execution_count": 37,
   "metadata": {},
   "outputs": [],
   "source": [
    "def scatter_sim(e_0, epsilon=0.1, density=0.92, stepsize=0.001, sim_data=None):\n",
    "    if sim_data is None:\n",
    "        data = BinnedCountData(40, startpoint=0, endpoint=e_0)\n",
    "    else:\n",
    "        data = sim_data\n",
    "\n",
    "    # now to run the simulation\n",
    "    e_i = e_0\n",
    "    while e_i > epsilon:\n",
    "        if scattering_probability(e_i, stepsize) > random.random():\n",
    "            # here, we need to figure out the change in momentum and energy due to the scattering\n",
    "            # both the proton and alpha particle will cause an event, so we need to tally both\n",
    "            pass\n",
    "        else:\n",
    "            data.add_count_by_value(e_i)\n",
    "            e_i = e_i - stp_interp(e_i)*stepsize*density\n",
    "    if sim_data is None:\n",
    "        return data\n"
   ]
  },
  {
   "cell_type": "code",
   "execution_count": 53,
   "metadata": {},
   "outputs": [],
   "source": [
    "# ok, now let's write a loop to process a lot of particles\n",
    "# using one on each thread to speed things up\n",
    "# considering this is a toy model, let's just use one thread for each particle\n",
    "\n",
    "def merge_hists(hists: list[BinnedCountData]):\n",
    "    low = hists[0].bin_min\n",
    "    high = hists[0].bin_max\n",
    "    n_bins = hists[0].num_bins\n",
    "    new_hist = BinnedCountData(n_bins, startpoint=low, endpoint=high)\n",
    "\n",
    "    i = 0\n",
    "    while i < n_bins:\n",
    "        new_hist.set_count_by_index(i, sum([k.counts[i] for k in hists]))\n",
    "        i += 1\n",
    "\n",
    "    return new_hist\n",
    "\n",
    "def run_sim_instance(e_0, stepsize=0.0001, nbins=80, epsilon=0.1, density=0.92):\n",
    "    run_data = BinnedCountData(nbins, startpoint=0, endpoint=e_0)\n",
    "    scatter_sim(e_0, epsilon=epsilon, density=density, stepsize=stepsize, sim_data=run_data)\n",
    "    return run_data\n",
    "\n",
    "def sim_wrapper(arg):\n",
    "    args, kwargs = arg\n",
    "    return run_sim_instance(*args, **kwargs)\n",
    "\n",
    "# TODO sort out arguments properly\n",
    "def start_sim(e_0, n_particles, stepsize=0.001, nbins=40, epsilon=0.1, density=0.92):\n",
    "    arg = (e_0, )\n",
    "    kwargs = {'stepsize': stepsize, 'nbins': nbins, 'epsilon': epsilon, 'density': density}\n",
    "    with Pool() as p:\n",
    "        p_out = p.map(sim_wrapper, [(arg, kwargs) for i in range(n_particles)])\n",
    "\n",
    "    sim_data = merge_hists(p_out) \n",
    "    return sim_data \n",
    "\n",
    "sim_data = start_sim(14, 1000, stepsize=0.0001)"
   ]
  },
  {
   "cell_type": "code",
   "execution_count": 54,
   "metadata": {},
   "outputs": [
    {
     "data": {
      "image/png": "[encoded data removed]",
      "text/plain": [
       "<Figure size 1200x800 with 1 Axes>"
      ]
     },
     "metadata": {},
     "output_type": "display_data"
    }
   ],
   "source": [
    "# now to plot the simulation results\n",
    "#plt.stairs(sim_data.counts, sim_data.bin_edges)\n",
    "plt.hist(sim_data.bin_edges[:-1], sim_data.bin_edges, weights=sim_data.counts, rwidth=0.8)\n",
    "plt.xlabel(\"Energy\")\n",
    "plt.ylabel(\"Count\")\n",
    "plt.gca().invert_xaxis()\n",
    "plt.title(\"Event Energy Counts\")\n",
    "plt.show()"
   ]
  }
 ],
 "metadata": {
  "kernelspec": {
   "display_name": "Python 3",
   "language": "python",
   "name": "python3"
  },
  "language_info": {
   "codemirror_mode": {
    "name": "ipython",
    "version": 3
   },
   "file_extension": ".py",
   "mimetype": "text/x-python",
   "name": "python",
   "nbconvert_exporter": "python",
   "pygments_lexer": "ipython3",
   "version": "3.12.2"
  }
 },
 "nbformat": 4,
 "nbformat_minor": 2
}
